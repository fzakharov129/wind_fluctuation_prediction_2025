{
 "cells": [
  {
   "cell_type": "markdown",
   "id": "0227d091",
   "metadata": {},
   "source": [
    "# 🧹 Ручное удаление некорректных точек измерений\n",
    "\n",
    "В этом ноутбуке удаляются точки, которые, согласно визуальному анализу, дают ошибочные или аномальные показания давления.\n",
    "\n",
    "Удаление этих точек производится **вручную**, на основе экспертной оценки, и направлено на улучшение качества тренировочного датасета.\n",
    "\n",
    "> ❗️Данный шаг осуществляется **после основной очистки от выбросов**, но **до этапа обучения модели**."
   ]
  },
  {
   "cell_type": "code",
   "execution_count": 2,
   "id": "9fe4297b",
   "metadata": {},
   "outputs": [
    {
     "name": "stdout",
     "output_type": "stream",
     "text": [
      "✅ Обучающий датасет очищен и сохранён по пути:\n",
      "/mnt/d/projects/wind_pressure_prediction_2025/data/processed/WindLoading_Interference_Base.csv\n"
     ]
    }
   ],
   "source": [
    "import pandas as pd\n",
    "import matplotlib.pyplot as plt\n",
    "import seaborn as sns\n",
    "import numpy as np\n",
    "import os\n",
    "\n",
    "# Путь к файлу (если скрипт и CSV в одной папке, путь можно оставить простым)\n",
    "file_path = '/mnt/d/projects/wind_pressure_prediction_2025/data/processed/WindLoading_Interference_01.csv'\n",
    "df = pd.read_csv(file_path)\n",
    "\n",
    "# Оставляем только строки с Lwr = 1\n",
    "df = df[df['Lwr'] == 1]\n",
    "\n",
    "# Удаляем вручную отмеченные точки\n",
    "faulty_points = [(17, 5), (20, 5), (25, 7)]\n",
    "for x, y in faulty_points:\n",
    "    df = df[~((df['X_fac'] == x) & (df['Y_fac'] == y))]\n",
    "\n",
    "# Сброс индекса\n",
    "df = df.reset_index(drop=True)\n",
    "\n",
    "# Путь для сохранения\n",
    "output_path = '/mnt/d/projects/wind_pressure_prediction_2025/data/processed/WindLoading_Interference_Base.csv'\n",
    "df.to_csv(output_path, index=False)\n",
    "\n",
    "print(f\"✅ Обучающий датасет очищен и сохранён по пути:\\n{output_path}\")\n",
    "\n"
   ]
  }
 ],
 "metadata": {
  "kernelspec": {
   "display_name": "Python (Linux_WPP)",
   "language": "python",
   "name": "linux_wpp"
  },
  "language_info": {
   "codemirror_mode": {
    "name": "ipython",
    "version": 3
   },
   "file_extension": ".py",
   "mimetype": "text/x-python",
   "name": "python",
   "nbconvert_exporter": "python",
   "pygments_lexer": "ipython3",
   "version": "3.12.3"
  }
 },
 "nbformat": 4,
 "nbformat_minor": 5
}
