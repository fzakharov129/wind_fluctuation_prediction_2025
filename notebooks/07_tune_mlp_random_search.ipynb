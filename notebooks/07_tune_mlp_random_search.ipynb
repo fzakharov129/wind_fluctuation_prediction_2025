{
 "cells": [
  {
   "cell_type": "code",
   "execution_count": 1,
   "id": "075b3f44",
   "metadata": {
    "execution": {
     "iopub.execute_input": "2025-05-29T01:41:52.962049Z",
     "iopub.status.busy": "2025-05-29T01:41:52.961722Z",
     "iopub.status.idle": "2025-05-29T01:42:01.776869Z",
     "shell.execute_reply": "2025-05-29T01:42:01.776250Z"
    },
    "papermill": {
     "duration": 8.821196,
     "end_time": "2025-05-29T01:42:01.778418",
     "exception": false,
     "start_time": "2025-05-29T01:41:52.957222",
     "status": "completed"
    },
    "tags": []
   },
   "outputs": [],
   "source": [
    "# 📦 Imports and Configuration\n",
    "\n",
    "import os\n",
    "import json\n",
    "import random\n",
    "import numpy as np\n",
    "import pandas as pd\n",
    "import matplotlib.pyplot as plt\n",
    "import matplotlib.ticker as ticker\n",
    "import seaborn as sns\n",
    "\n",
    "from sklearn.model_selection import train_test_split\n",
    "from sklearn.model_selection import KFold\n",
    "from sklearn.metrics import mean_squared_error, mean_absolute_error, r2_score\n",
    "from torch.utils.data import TensorDataset, DataLoader\n",
    "\n",
    "import torch\n",
    "import torch.nn as nn\n",
    "import torch.optim as optim\n",
    "from tqdm import tqdm\n",
    "\n",
    "\n"
   ]
  },
  {
   "cell_type": "code",
   "execution_count": 2,
   "id": "36fe4893",
   "metadata": {
    "execution": {
     "iopub.execute_input": "2025-05-29T01:42:01.784924Z",
     "iopub.status.busy": "2025-05-29T01:42:01.784278Z",
     "iopub.status.idle": "2025-05-29T01:42:01.892023Z",
     "shell.execute_reply": "2025-05-29T01:42:01.891077Z"
    },
    "papermill": {
     "duration": 0.111946,
     "end_time": "2025-05-29T01:42:01.893208",
     "exception": false,
     "start_time": "2025-05-29T01:42:01.781262",
     "status": "completed"
    },
    "tags": []
   },
   "outputs": [
    {
     "name": "stdout",
     "output_type": "stream",
     "text": [
      "🛠 Device: cuda\n"
     ]
    }
   ],
   "source": [
    "# ➤ Paths for hyperparameter search: tuning runs, logs, results\n",
    "\n",
    "# ----------------------------\n",
    "# Device setup\n",
    "# ----------------------------\n",
    "device = torch.device(\"cuda\" if torch.cuda.is_available() else \"cpu\")\n",
    "print(f\"🛠 Device: {device}\")\n",
    "\n",
    "DATA_PATH = \"/kaggle/input/windloading-train/WindLoading_Train.csv\"\n",
    "SAVE_ROOT = \"/kaggle/working\"\n",
    "\n",
    "# DATA_PATH = \"/mnt/d/projects/wind_fluctuation_prediction_2025/data/processed/windloading_train.csv\"\n",
    "# SAVE_ROOT = \"/mnt/d/projects/wind_fluctuation_prediction_2025/experiments\"\n",
    "\n",
    "TUNING_DIR = os.path.join(SAVE_ROOT, \"tuning_mlp\")\n",
    "LOG_CSV_PATH = os.path.join(SAVE_ROOT, \"experiments_log.csv\")\n",
    "\n",
    "os.makedirs(TUNING_DIR, exist_ok=True)\n",
    "\n",
    "# ➤ Function to create a run-specific directory\n",
    "def create_run_directory(hidden_dim, lr, batch_size=64, epochs=500, activation_fn=None, optimizer_name=None, base_dir=TUNING_DIR):\n",
    "    run_id = f\"mlp_{hidden_dim}h_{lr:.0e}lr_{batch_size}bs_{epochs}ep\"\n",
    "\n",
    "    # 👇 Добавим активацию в имя, если она передана\n",
    "    if activation_fn is not None:\n",
    "        run_id += f\"_{activation_fn.__name__}\"\n",
    "\n",
    "    # 👇 Добавим имя оптимизатора в имя, если оно передано\n",
    "    if optimizer_name is not None:\n",
    "        run_id += f\"_{optimizer_name}\"\n",
    "\n",
    "    run_dir = os.path.join(base_dir, run_id)\n",
    "    os.makedirs(run_dir, exist_ok=True)\n",
    "    print(f\"📂 Created run directory: {run_dir}\")\n",
    "    return run_id, run_dir"
   ]
  },
  {
   "cell_type": "code",
   "execution_count": 3,
   "id": "02a933f2",
   "metadata": {
    "execution": {
     "iopub.execute_input": "2025-05-29T01:42:01.898805Z",
     "iopub.status.busy": "2025-05-29T01:42:01.898557Z",
     "iopub.status.idle": "2025-05-29T01:42:01.902352Z",
     "shell.execute_reply": "2025-05-29T01:42:01.901689Z"
    },
    "papermill": {
     "duration": 0.007662,
     "end_time": "2025-05-29T01:42:01.903456",
     "exception": false,
     "start_time": "2025-05-29T01:42:01.895794",
     "status": "completed"
    },
    "tags": []
   },
   "outputs": [],
   "source": [
    "# ➤ Function for loading the dataset from CSV\n",
    "\n",
    "def load_dataset():\n",
    "    df = pd.read_csv(DATA_PATH)\n",
    "    print(f\"Dataset loaded: {df.shape[0]} rows, {df.shape[1]} columns\")\n",
    "    return df"
   ]
  },
  {
   "cell_type": "code",
   "execution_count": 4,
   "id": "2274ab61",
   "metadata": {
    "execution": {
     "iopub.execute_input": "2025-05-29T01:42:01.908773Z",
     "iopub.status.busy": "2025-05-29T01:42:01.908556Z",
     "iopub.status.idle": "2025-05-29T01:42:01.913593Z",
     "shell.execute_reply": "2025-05-29T01:42:01.912931Z"
    },
    "papermill": {
     "duration": 0.008991,
     "end_time": "2025-05-29T01:42:01.914797",
     "exception": false,
     "start_time": "2025-05-29T01:42:01.905806",
     "status": "completed"
    },
    "tags": []
   },
   "outputs": [],
   "source": [
    "# ➞ Function to compute regression metrics: MSE, MAE, R²\n",
    "\n",
    "def evaluate_regression(y_true, y_pred):\n",
    "    y_true_np = y_true.detach().cpu().numpy()\n",
    "    y_pred_np = y_pred.detach().cpu().numpy()\n",
    "\n",
    "    # 🔍 Remove NaNs before computing metrics\n",
    "    mask = ~np.isnan(y_true_np) & ~np.isnan(y_pred_np)\n",
    "    y_true_np = y_true_np[mask]\n",
    "    y_pred_np = y_pred_np[mask]\n",
    "\n",
    "    if len(y_true_np) == 0 or len(y_pred_np) == 0:\n",
    "        raise ValueError(\"No valid data points after removing NaNs.\")\n",
    "\n",
    "    mse = mean_squared_error(y_true_np, y_pred_np)\n",
    "    mae = mean_absolute_error(y_true_np, y_pred_np)\n",
    "    r2 = r2_score(y_true_np, y_pred_np)\n",
    "\n",
    "    return {\"MSE\": mse, \"MAE\": mae, \"R2\": r2}\n"
   ]
  },
  {
   "cell_type": "code",
   "execution_count": 5,
   "id": "fa494650",
   "metadata": {
    "execution": {
     "iopub.execute_input": "2025-05-29T01:42:01.920187Z",
     "iopub.status.busy": "2025-05-29T01:42:01.919536Z",
     "iopub.status.idle": "2025-05-29T01:42:01.924296Z",
     "shell.execute_reply": "2025-05-29T01:42:01.923605Z"
    },
    "papermill": {
     "duration": 0.008519,
     "end_time": "2025-05-29T01:42:01.925496",
     "exception": false,
     "start_time": "2025-05-29T01:42:01.916977",
     "status": "completed"
    },
    "tags": []
   },
   "outputs": [],
   "source": [
    "# ➤ Definition of the MLP architecture with customizable activation function\n",
    "\n",
    "class MLP(nn.Module):\n",
    "    def __init__(self, input_dim, hidden_dim, output_dim, activation_fn):\n",
    "        super(MLP, self).__init__()\n",
    "        self.model = nn.Sequential(\n",
    "            nn.Linear(input_dim, hidden_dim),\n",
    "            activation_fn(),\n",
    "            nn.Linear(hidden_dim, hidden_dim),\n",
    "            activation_fn(),\n",
    "            nn.Linear(hidden_dim, output_dim)\n",
    "        )\n",
    "\n",
    "    def forward(self, x):\n",
    "        return self.model(x)\n"
   ]
  },
  {
   "cell_type": "code",
   "execution_count": 6,
   "id": "faccbabc",
   "metadata": {
    "execution": {
     "iopub.execute_input": "2025-05-29T01:42:01.932078Z",
     "iopub.status.busy": "2025-05-29T01:42:01.931832Z",
     "iopub.status.idle": "2025-05-29T01:42:01.947794Z",
     "shell.execute_reply": "2025-05-29T01:42:01.947227Z"
    },
    "papermill": {
     "duration": 0.020303,
     "end_time": "2025-05-29T01:42:01.948848",
     "exception": false,
     "start_time": "2025-05-29T01:42:01.928545",
     "status": "completed"
    },
    "tags": []
   },
   "outputs": [],
   "source": [
    "# ➤ Training function for MLP model: used in Random Search and experiment tracking\n",
    "\n",
    "def train_mlp(hidden_dim, lr, batch_size, epochs, output_dim=1, activation_fn=nn.ReLU, optimizer_name=\"Adam\"):\n",
    "\n",
    "    # ----------------------------\n",
    "    # Ensure CSV file exists and has header\n",
    "    # ----------------------------\n",
    "    if not os.path.exists(LOG_CSV_PATH):\n",
    "        with open(LOG_CSV_PATH, \"w\") as f:\n",
    "            f.write(\"run_id,hidden_dim,lr,batch_size,activation_fn,optimizer_name,R2,MAE,MSE\\n\")\n",
    "\n",
    "\n",
    "    # ----------------------------\n",
    "    # Load dataset\n",
    "    # ----------------------------\n",
    "    df = load_dataset()\n",
    "    X = df[['X_int', 'Y_int', 'X_fac', 'Y_fac', 'Ang']]\n",
    "    y = df[['StdDev']]\n",
    "    input_dim = X.shape[1]\n",
    "\n",
    "    # 🔍 Проверка первых строк X и y\n",
    "    print(\"📄 Features (X):\")\n",
    "    print(\"\\n🎯 Target (y):\")\n",
    "    # display(y.head())\n",
    "\n",
    "    # 📐 Размерности\n",
    "    print(f\"\\n✅ X shape: {X.shape}\")\n",
    "    print(f\"✅ y shape: {y.shape}\")\n",
    "\n",
    "\n",
    "    # ----------------------------\n",
    "    # K-Fold Cross-Validation\n",
    "    # ----------------------------\n",
    "    from sklearn.model_selection import KFold\n",
    "    kf = KFold(n_splits=5, shuffle=True, random_state=42)\n",
    "    fold_metrics = []\n",
    "\n",
    "    for fold, (train_idx, val_idx) in enumerate(kf.split(X)):\n",
    "        print(f\"\\n🔁 Fold {fold + 1} / 5\")\n",
    "\n",
    "        # 📊 Разделение данных\n",
    "        X_train, X_val = X.iloc[train_idx], X.iloc[val_idx]\n",
    "        y_train, y_val = y.iloc[train_idx], y.iloc[val_idx]\n",
    "\n",
    "        # 🔁 Преобразуем в тензоры\n",
    "        X_train_tensor = torch.tensor(X_train.values, dtype=torch.float32).to(device)\n",
    "        y_train_tensor = torch.tensor(y_train.values, dtype=torch.float32).to(device)\n",
    "        X_val_tensor = torch.tensor(X_val.values, dtype=torch.float32).to(device)\n",
    "        y_val_tensor = torch.tensor(y_val.values, dtype=torch.float32).to(device)\n",
    "\n",
    "        batch_X = X_train_tensor\n",
    "        batch_y = y_train_tensor\n",
    "        \n",
    "        '''\n",
    "        # 📦 DataLoader с правильным порядком\n",
    "        train_dataset = TensorDataset(X_train_tensor, y_train_tensor)\n",
    "        train_loader = DataLoader(train_dataset, batch_size=batch_size, shuffle=True)\n",
    "        '''\n",
    "        print(\"X_train.shape =\", X_train.shape)\n",
    "\n",
    "\n",
    "        # 🧠 Создание новой модели на каждый фолд\n",
    "        model = MLP(input_dim, hidden_dim, output_dim, activation_fn=activation_fn).to(device)\n",
    "        print(\"📦 Model is on device:\", next(model.parameters()).device)\n",
    "\n",
    "         # ----------------------------\n",
    "        # Training loop\n",
    "        # ----------------------------\n",
    "        criterion = nn.MSELoss()\n",
    "        if optimizer_name == \"Adam\":\n",
    "            optimizer = optim.Adam(model.parameters(), lr=lr)\n",
    "        elif optimizer_name == \"SGD\":\n",
    "            optimizer = optim.SGD(model.parameters(), lr=lr)\n",
    "        elif optimizer_name == \"RMSprop\":\n",
    "            optimizer = optim.RMSprop(model.parameters(), lr=lr)\n",
    "        elif optimizer_name == \"AdamW\":\n",
    "            optimizer = optim.AdamW(model.parameters(), lr=lr)\n",
    "        else:\n",
    "            raise ValueError(f\"Unknown optimizer: {optimizer_name}\")\n",
    "        train_loss_history = []\n",
    "\n",
    "        # 🔁 Early Stopping init\n",
    "        early_stopping_patience = 100\n",
    "        patience_counter = 0\n",
    "        best_loss = float('inf') \n",
    "\n",
    "        for epoch in tqdm(range(epochs), desc=\"Epochs\"):\n",
    "            model.train()\n",
    "            epoch_loss = 0.0\n",
    "\n",
    "            accumulation_steps = 1  # 🧠 Обновляем веса каждые 1000 батчей\n",
    "            optimizer.zero_grad()\n",
    "            epoch_loss = 0.0\n",
    "                        \n",
    "            '''\n",
    "            for batch_idx, (batch_X, batch_y) in enumerate(train_loader):\n",
    "                outputs = model(batch_X)\n",
    "                loss = criterion(outputs, batch_y)\n",
    "                loss = loss / accumulation_steps  # 🔁 делим loss, чтобы избежать взрыва градиентов\n",
    "                loss.backward()\n",
    "                epoch_loss += loss.item() * accumulation_steps\n",
    "            \n",
    "                if (batch_idx + 1) % accumulation_steps != 0:\n",
    "                    optimizer.step()\n",
    "                    optimizer.zero_grad()\n",
    "            '''\n",
    "            outputs = model(X_train_tensor)\n",
    "            loss = criterion(outputs, y_train_tensor)\n",
    "            loss.backward()\n",
    "            optimizer.step()\n",
    "\n",
    "            '''\n",
    "            current_loss = epoch_loss / len(train_loader)\n",
    "            '''\n",
    "            current_loss = loss.item()\n",
    "            train_loss_history.append(current_loss)\n",
    "\n",
    "            # 💡 Early Stopping check (выполняется на каждой эпохе)\n",
    "            if current_loss < best_loss:\n",
    "                best_loss = current_loss\n",
    "                patience_counter = 0\n",
    "            else:\n",
    "                patience_counter += 1\n",
    "                \n",
    "                if patience_counter >= early_stopping_patience:\n",
    "                    print(f\"⏹️ Early stopping at epoch {epoch+1} — no improvement in {early_stopping_patience} epochs.\")\n",
    "                    break\n",
    "\n",
    "            # ⏺️ Logging (только раз в 10 эпох)\n",
    "            if (epoch + 1) % 3000 == 0:\n",
    "                log_str = f\"Epoch [{epoch+1}/{epochs}], Loss: {current_loss:.4f}\"\n",
    "                print(log_str)\n",
    "\n",
    "        model.eval()\n",
    "        with torch.no_grad():\n",
    "            y_pred = model(X_val_tensor)\n",
    "            metrics = evaluate_regression(y_val_tensor, y_pred)\n",
    "            fold_metrics.append(metrics)\n",
    "            print(f\"📈 Fold {fold + 1} metrics: {metrics}\")\n",
    "\n",
    "    # ----------------------------\n",
    "    # Average metrics across folds\n",
    "    # ----------------------------\n",
    "    avg_metrics = {\n",
    "        \"MSE\": sum(m[\"MSE\"] for m in fold_metrics) / len(fold_metrics),\n",
    "        \"MAE\": sum(m[\"MAE\"] for m in fold_metrics) / len(fold_metrics),\n",
    "        \"R2\":  sum(m[\"R2\"]  for m in fold_metrics) / len(fold_metrics),\n",
    "    }\n",
    "    \n",
    "    # ----------------------------\n",
    "    # Run directory\n",
    "    # ----------------------------\n",
    "    run_id, run_dir = create_run_directory(\n",
    "        hidden_dim=hidden_dim,\n",
    "        lr=lr,\n",
    "        batch_size=batch_size,\n",
    "        epochs=epochs,\n",
    "        activation_fn=activation_fn,\n",
    "        optimizer_name=optimizer_name\n",
    "    )\n",
    "\n",
    "    # ----------------------------\n",
    "    # Save config\n",
    "    # ----------------------------\n",
    "    config = {\n",
    "        \"input_dim\": input_dim,\n",
    "        \"hidden_dim\": hidden_dim,\n",
    "        \"output_dim\": output_dim,\n",
    "        \"lr\": lr,\n",
    "        \"epochs\": epochs,\n",
    "        \"batch_size\": batch_size,\n",
    "        \"activation_fn\": activation_fn.__name__,\n",
    "        \"optimizer_name\": optimizer_name,\n",
    "        \"features\": ['X_int', 'Y_int', 'X_fac', 'Y_fac', 'Ang'],\n",
    "        \"targets\": ['StdDev']\n",
    "    }\n",
    "    config_filename = f\"config_{run_id}_ex.json\"\n",
    "    with open(os.path.join(run_dir, config_filename), \"w\") as f:\n",
    "        json.dump(config, f, indent=4)\n",
    "\n",
    "    # ----------------------------\n",
    "    # Append summary to global CSV log\n",
    "    # ----------------------------\n",
    "    with open(LOG_CSV_PATH, \"a\") as f:\n",
    "        f.write(f\"{run_id},{hidden_dim},{lr:.0e},{batch_size},{activation_fn.__name__},{optimizer_name},{avg_metrics['R2']:.4f},{avg_metrics['MAE']:.4f},{avg_metrics['MSE']:.6f}\\n\")\n",
    "\n",
    "    print(f\"\\n📊 Average metrics across 5 folds:\\n{avg_metrics}\")\n",
    "    return run_id, avg_metrics\n",
    "    \n",
    "\n"
   ]
  },
  {
   "cell_type": "code",
   "execution_count": 7,
   "id": "2890f182",
   "metadata": {
    "execution": {
     "iopub.execute_input": "2025-05-29T01:42:01.953948Z",
     "iopub.status.busy": "2025-05-29T01:42:01.953715Z",
     "iopub.status.idle": "2025-05-29T03:01:38.958140Z",
     "shell.execute_reply": "2025-05-29T03:01:38.957362Z"
    },
    "papermill": {
     "duration": 4777.008125,
     "end_time": "2025-05-29T03:01:38.959230",
     "exception": false,
     "start_time": "2025-05-29T01:42:01.951105",
     "status": "completed"
    },
    "tags": []
   },
   "outputs": [
    {
     "name": "stdout",
     "output_type": "stream",
     "text": [
      "\n",
      "🔁 Run 1/10\n",
      "→ hidden_dim: 256, lr: 0.00300, batch size: 32, activation_fn: Tanh, optimizer_name: Adam\n",
      "Dataset loaded: 121113 rows, 15 columns\n",
      "📄 Features (X):\n",
      "\n",
      "🎯 Target (y):\n",
      "\n",
      "✅ X shape: (121113, 5)\n",
      "✅ y shape: (121113, 1)\n",
      "\n",
      "🔁 Fold 1 / 5\n",
      "X_train.shape = (96890, 5)\n",
      "📦 Model is on device: cuda:0\n"
     ]
    },
    {
     "name": "stderr",
     "output_type": "stream",
     "text": [
      "Epochs:  30%|███       | 3011/10000 [00:50<01:59, 58.54it/s]"
     ]
    },
    {
     "name": "stdout",
     "output_type": "stream",
     "text": [
      "Epoch [3000/10000], Loss: 0.0025\n"
     ]
    },
    {
     "name": "stderr",
     "output_type": "stream",
     "text": [
      "Epochs:  60%|██████    | 6011/10000 [01:43<01:12, 55.30it/s]"
     ]
    },
    {
     "name": "stdout",
     "output_type": "stream",
     "text": [
      "Epoch [6000/10000], Loss: 0.0017\n"
     ]
    },
    {
     "name": "stderr",
     "output_type": "stream",
     "text": [
      "Epochs:  72%|███████▏  | 7194/10000 [02:04<00:48, 57.61it/s]\n"
     ]
    },
    {
     "name": "stdout",
     "output_type": "stream",
     "text": [
      "⏹️ Early stopping at epoch 7195 — no improvement in 100 epochs.\n",
      "📈 Fold 1 metrics: {'MSE': 0.001485461, 'MAE': 0.027428173, 'R2': 0.7870673178129315}\n",
      "\n",
      "🔁 Fold 2 / 5\n",
      "X_train.shape = (96890, 5)\n",
      "📦 Model is on device: cuda:0\n"
     ]
    },
    {
     "name": "stderr",
     "output_type": "stream",
     "text": [
      "Epochs:  30%|███       | 3008/10000 [00:53<02:05, 55.84it/s]"
     ]
    },
    {
     "name": "stdout",
     "output_type": "stream",
     "text": [
      "Epoch [3000/10000], Loss: 0.0034\n"
     ]
    },
    {
     "name": "stderr",
     "output_type": "stream",
     "text": [
      "Epochs:  60%|██████    | 6008/10000 [01:47<01:12, 55.37it/s]"
     ]
    },
    {
     "name": "stdout",
     "output_type": "stream",
     "text": [
      "Epoch [6000/10000], Loss: 0.0018\n"
     ]
    },
    {
     "name": "stderr",
     "output_type": "stream",
     "text": [
      "Epochs:  77%|███████▋  | 7723/10000 [02:18<00:40, 55.77it/s]\n"
     ]
    },
    {
     "name": "stdout",
     "output_type": "stream",
     "text": [
      "⏹️ Early stopping at epoch 7724 — no improvement in 100 epochs.\n",
      "📈 Fold 2 metrics: {'MSE': 0.001684265, 'MAE': 0.030272845, 'R2': 0.7577880279600651}\n",
      "\n",
      "🔁 Fold 3 / 5\n",
      "X_train.shape = (96890, 5)\n",
      "📦 Model is on device: cuda:0\n"
     ]
    },
    {
     "name": "stderr",
     "output_type": "stream",
     "text": [
      "Epochs:  30%|███       | 3006/10000 [00:53<02:05, 55.80it/s]"
     ]
    },
    {
     "name": "stdout",
     "output_type": "stream",
     "text": [
      "Epoch [3000/10000], Loss: 0.0024\n"
     ]
    },
    {
     "name": "stderr",
     "output_type": "stream",
     "text": [
      "Epochs:  60%|██████    | 6006/10000 [01:47<01:11, 55.85it/s]"
     ]
    },
    {
     "name": "stdout",
     "output_type": "stream",
     "text": [
      "Epoch [6000/10000], Loss: 0.0016\n"
     ]
    },
    {
     "name": "stderr",
     "output_type": "stream",
     "text": [
      "Epochs:  69%|██████▉   | 6933/10000 [02:04<00:54, 55.82it/s]\n"
     ]
    },
    {
     "name": "stdout",
     "output_type": "stream",
     "text": [
      "⏹️ Early stopping at epoch 6934 — no improvement in 100 epochs.\n",
      "📈 Fold 3 metrics: {'MSE': 0.0016543227, 'MAE': 0.030718999, 'R2': 0.7641343821731398}\n",
      "\n",
      "🔁 Fold 4 / 5\n",
      "X_train.shape = (96891, 5)\n",
      "📦 Model is on device: cuda:0\n"
     ]
    },
    {
     "name": "stderr",
     "output_type": "stream",
     "text": [
      "Epochs:  30%|███       | 3008/10000 [00:52<02:01, 57.72it/s]"
     ]
    },
    {
     "name": "stdout",
     "output_type": "stream",
     "text": [
      "Epoch [3000/10000], Loss: 0.0039\n"
     ]
    },
    {
     "name": "stderr",
     "output_type": "stream",
     "text": [
      "Epochs:  60%|██████    | 6008/10000 [01:44<01:09, 57.70it/s]"
     ]
    },
    {
     "name": "stdout",
     "output_type": "stream",
     "text": [
      "Epoch [6000/10000], Loss: 0.0023\n"
     ]
    },
    {
     "name": "stderr",
     "output_type": "stream",
     "text": [
      "Epochs:  65%|██████▌   | 6517/10000 [01:52<01:00, 57.75it/s]\n"
     ]
    },
    {
     "name": "stdout",
     "output_type": "stream",
     "text": [
      "⏹️ Early stopping at epoch 6518 — no improvement in 100 epochs.\n",
      "📈 Fold 4 metrics: {'MSE': 0.002245482, 'MAE': 0.03262039, 'R2': 0.6700123092285297}\n",
      "\n",
      "🔁 Fold 5 / 5\n",
      "X_train.shape = (96891, 5)\n",
      "📦 Model is on device: cuda:0\n"
     ]
    },
    {
     "name": "stderr",
     "output_type": "stream",
     "text": [
      "Epochs:  30%|███       | 3008/10000 [00:52<02:01, 57.52it/s]"
     ]
    },
    {
     "name": "stdout",
     "output_type": "stream",
     "text": [
      "Epoch [3000/10000], Loss: 0.0027\n"
     ]
    },
    {
     "name": "stderr",
     "output_type": "stream",
     "text": [
      "Epochs:  60%|██████    | 6008/10000 [01:44<01:09, 57.73it/s]"
     ]
    },
    {
     "name": "stdout",
     "output_type": "stream",
     "text": [
      "Epoch [6000/10000], Loss: 0.0019\n"
     ]
    },
    {
     "name": "stderr",
     "output_type": "stream",
     "text": [
      "Epochs:  80%|███████▉  | 7974/10000 [02:18<00:35, 57.68it/s]\n"
     ]
    },
    {
     "name": "stdout",
     "output_type": "stream",
     "text": [
      "⏹️ Early stopping at epoch 7975 — no improvement in 100 epochs.\n",
      "📈 Fold 5 metrics: {'MSE': 0.0015474164, 'MAE': 0.028632874, 'R2': 0.7745430905597783}\n",
      "📂 Created run directory: /kaggle/working/tuning_mlp/mlp_256h_3e-03lr_32bs_10000ep_Tanh_Adam\n",
      "\n",
      "📊 Average metrics across 5 folds:\n",
      "{'MSE': 0.0017233894439414143, 'MAE': 0.029934655874967575, 'R2': 0.7507090255468889}\n",
      "\n",
      "🔁 Run 2/10\n",
      "→ hidden_dim: 256, lr: 0.00300, batch size: 32, activation_fn: Tanh, optimizer_name: Adam\n",
      "Dataset loaded: 121113 rows, 15 columns\n",
      "📄 Features (X):\n",
      "\n",
      "🎯 Target (y):\n",
      "\n",
      "✅ X shape: (121113, 5)\n",
      "✅ y shape: (121113, 1)\n",
      "\n",
      "🔁 Fold 1 / 5\n",
      "X_train.shape = (96890, 5)\n",
      "📦 Model is on device: cuda:0\n"
     ]
    },
    {
     "name": "stderr",
     "output_type": "stream",
     "text": [
      "Epochs:  20%|██        | 2010/10000 [00:35<02:22, 55.92it/s]\n"
     ]
    },
    {
     "name": "stdout",
     "output_type": "stream",
     "text": [
      "⏹️ Early stopping at epoch 2011 — no improvement in 100 epochs.\n",
      "📈 Fold 1 metrics: {'MSE': 0.0043644086, 'MAE': 0.048919834, 'R2': 0.3743860074100058}\n",
      "\n",
      "🔁 Fold 2 / 5\n",
      "X_train.shape = (96890, 5)\n",
      "📦 Model is on device: cuda:0\n"
     ]
    },
    {
     "name": "stderr",
     "output_type": "stream",
     "text": [
      "Epochs:  30%|███       | 3006/10000 [00:53<02:05, 55.80it/s]"
     ]
    },
    {
     "name": "stdout",
     "output_type": "stream",
     "text": [
      "Epoch [3000/10000], Loss: 0.0028\n"
     ]
    },
    {
     "name": "stderr",
     "output_type": "stream",
     "text": [
      "Epochs:  60%|██████    | 6006/10000 [01:47<01:11, 55.57it/s]"
     ]
    },
    {
     "name": "stdout",
     "output_type": "stream",
     "text": [
      "Epoch [6000/10000], Loss: 0.0020\n"
     ]
    },
    {
     "name": "stderr",
     "output_type": "stream",
     "text": [
      "Epochs:  70%|██████▉   | 6961/10000 [02:04<00:54, 55.77it/s]\n"
     ]
    },
    {
     "name": "stdout",
     "output_type": "stream",
     "text": [
      "⏹️ Early stopping at epoch 6962 — no improvement in 100 epochs.\n",
      "📈 Fold 2 metrics: {'MSE': 0.0016414197, 'MAE': 0.028625702, 'R2': 0.7639495682940548}\n",
      "\n",
      "🔁 Fold 3 / 5\n",
      "X_train.shape = (96890, 5)\n",
      "📦 Model is on device: cuda:0\n"
     ]
    },
    {
     "name": "stderr",
     "output_type": "stream",
     "text": [
      "Epochs:  30%|███       | 3006/10000 [00:53<02:05, 55.78it/s]"
     ]
    },
    {
     "name": "stdout",
     "output_type": "stream",
     "text": [
      "Epoch [3000/10000], Loss: 0.0035\n"
     ]
    },
    {
     "name": "stderr",
     "output_type": "stream",
     "text": [
      "Epochs:  60%|██████    | 6006/10000 [01:47<01:11, 55.90it/s]"
     ]
    },
    {
     "name": "stdout",
     "output_type": "stream",
     "text": [
      "Epoch [6000/10000], Loss: 0.0025\n"
     ]
    },
    {
     "name": "stderr",
     "output_type": "stream",
     "text": [
      "Epochs:  69%|██████▉   | 6936/10000 [02:04<00:54, 55.80it/s]\n"
     ]
    },
    {
     "name": "stdout",
     "output_type": "stream",
     "text": [
      "⏹️ Early stopping at epoch 6937 — no improvement in 100 epochs.\n",
      "📈 Fold 3 metrics: {'MSE': 0.0022573604, 'MAE': 0.035430487, 'R2': 0.6781560892517948}\n",
      "\n",
      "🔁 Fold 4 / 5\n",
      "X_train.shape = (96891, 5)\n",
      "📦 Model is on device: cuda:0\n"
     ]
    },
    {
     "name": "stderr",
     "output_type": "stream",
     "text": [
      "Epochs:  30%|██▉       | 2965/10000 [00:51<02:01, 57.74it/s]\n"
     ]
    },
    {
     "name": "stdout",
     "output_type": "stream",
     "text": [
      "⏹️ Early stopping at epoch 2966 — no improvement in 100 epochs.\n",
      "📈 Fold 4 metrics: {'MSE': 0.003107098, 'MAE': 0.040991668, 'R2': 0.5433924776862196}\n",
      "\n",
      "🔁 Fold 5 / 5\n",
      "X_train.shape = (96891, 5)\n",
      "📦 Model is on device: cuda:0\n"
     ]
    },
    {
     "name": "stderr",
     "output_type": "stream",
     "text": [
      "Epochs:  30%|███       | 3008/10000 [00:52<02:00, 57.84it/s]"
     ]
    },
    {
     "name": "stdout",
     "output_type": "stream",
     "text": [
      "Epoch [3000/10000], Loss: 0.0028\n"
     ]
    },
    {
     "name": "stderr",
     "output_type": "stream",
     "text": [
      "Epochs:  60%|██████    | 6008/10000 [01:43<01:09, 57.69it/s]"
     ]
    },
    {
     "name": "stdout",
     "output_type": "stream",
     "text": [
      "Epoch [6000/10000], Loss: 0.0020\n"
     ]
    },
    {
     "name": "stderr",
     "output_type": "stream",
     "text": [
      "Epochs:  71%|███████   | 7073/10000 [02:02<00:50, 57.76it/s]\n"
     ]
    },
    {
     "name": "stdout",
     "output_type": "stream",
     "text": [
      "⏹️ Early stopping at epoch 7074 — no improvement in 100 epochs.\n",
      "📈 Fold 5 metrics: {'MSE': 0.0017103908, 'MAE': 0.028308427, 'R2': 0.7507979227696734}\n",
      "📂 Created run directory: /kaggle/working/tuning_mlp/mlp_256h_3e-03lr_32bs_10000ep_Tanh_Adam\n",
      "\n",
      "📊 Average metrics across 5 folds:\n",
      "{'MSE': 0.0026161354733631017, 'MAE': 0.03645522370934486, 'R2': 0.6221364130823497}\n",
      "\n",
      "🔁 Run 3/10\n",
      "→ hidden_dim: 256, lr: 0.00300, batch size: 32, activation_fn: Tanh, optimizer_name: Adam\n",
      "Dataset loaded: 121113 rows, 15 columns\n",
      "📄 Features (X):\n",
      "\n",
      "🎯 Target (y):\n",
      "\n",
      "✅ X shape: (121113, 5)\n",
      "✅ y shape: (121113, 1)\n",
      "\n",
      "🔁 Fold 1 / 5\n",
      "X_train.shape = (96890, 5)\n",
      "📦 Model is on device: cuda:0\n"
     ]
    },
    {
     "name": "stderr",
     "output_type": "stream",
     "text": [
      "Epochs:  30%|███       | 3008/10000 [00:53<02:05, 55.85it/s]"
     ]
    },
    {
     "name": "stdout",
     "output_type": "stream",
     "text": [
      "Epoch [3000/10000], Loss: 0.0034\n"
     ]
    },
    {
     "name": "stderr",
     "output_type": "stream",
     "text": [
      "Epochs:  60%|██████    | 6008/10000 [01:47<01:11, 55.61it/s]"
     ]
    },
    {
     "name": "stdout",
     "output_type": "stream",
     "text": [
      "Epoch [6000/10000], Loss: 0.0021\n"
     ]
    },
    {
     "name": "stderr",
     "output_type": "stream",
     "text": [
      "Epochs:  76%|███████▌  | 7605/10000 [02:16<00:42, 55.77it/s]\n"
     ]
    },
    {
     "name": "stdout",
     "output_type": "stream",
     "text": [
      "⏹️ Early stopping at epoch 7606 — no improvement in 100 epochs.\n",
      "📈 Fold 1 metrics: {'MSE': 0.004076481, 'MAE': 0.0495776, 'R2': 0.41565886524915074}\n",
      "\n",
      "🔁 Fold 2 / 5\n",
      "X_train.shape = (96890, 5)\n",
      "📦 Model is on device: cuda:0\n"
     ]
    },
    {
     "name": "stderr",
     "output_type": "stream",
     "text": [
      "Epochs:  30%|███       | 3006/10000 [00:53<02:05, 55.87it/s]"
     ]
    },
    {
     "name": "stdout",
     "output_type": "stream",
     "text": [
      "Epoch [3000/10000], Loss: 0.0024\n"
     ]
    },
    {
     "name": "stderr",
     "output_type": "stream",
     "text": [
      "Epochs:  60%|██████    | 6006/10000 [01:47<01:12, 55.45it/s]"
     ]
    },
    {
     "name": "stdout",
     "output_type": "stream",
     "text": [
      "Epoch [6000/10000], Loss: 0.0016\n"
     ]
    },
    {
     "name": "stderr",
     "output_type": "stream",
     "text": [
      "Epochs:  79%|███████▉  | 7900/10000 [02:22<00:37, 55.63it/s]\n"
     ]
    },
    {
     "name": "stdout",
     "output_type": "stream",
     "text": [
      "⏹️ Early stopping at epoch 7901 — no improvement in 100 epochs.\n",
      "📈 Fold 2 metrics: {'MSE': 0.0015292106, 'MAE': 0.02667684, 'R2': 0.7800861852253513}\n",
      "\n",
      "🔁 Fold 3 / 5\n",
      "X_train.shape = (96890, 5)\n",
      "📦 Model is on device: cuda:0\n"
     ]
    },
    {
     "name": "stderr",
     "output_type": "stream",
     "text": [
      "Epochs:  30%|███       | 3006/10000 [00:53<02:05, 55.71it/s]"
     ]
    },
    {
     "name": "stdout",
     "output_type": "stream",
     "text": [
      "Epoch [3000/10000], Loss: 0.0031\n"
     ]
    },
    {
     "name": "stderr",
     "output_type": "stream",
     "text": [
      "Epochs:  60%|██████    | 6006/10000 [01:47<01:11, 55.54it/s]"
     ]
    },
    {
     "name": "stdout",
     "output_type": "stream",
     "text": [
      "Epoch [6000/10000], Loss: 0.0017\n"
     ]
    },
    {
     "name": "stderr",
     "output_type": "stream",
     "text": [
      "Epochs:  76%|███████▌  | 7564/10000 [02:15<00:43, 55.79it/s]\n"
     ]
    },
    {
     "name": "stdout",
     "output_type": "stream",
     "text": [
      "⏹️ Early stopping at epoch 7565 — no improvement in 100 epochs.\n",
      "📈 Fold 3 metrics: {'MSE': 0.0014933402, 'MAE': 0.026771827, 'R2': 0.7870865191499838}\n",
      "\n",
      "🔁 Fold 4 / 5\n",
      "X_train.shape = (96891, 5)\n",
      "📦 Model is on device: cuda:0\n"
     ]
    },
    {
     "name": "stderr",
     "output_type": "stream",
     "text": [
      "Epochs:  30%|███       | 3008/10000 [00:51<02:00, 57.89it/s]"
     ]
    },
    {
     "name": "stdout",
     "output_type": "stream",
     "text": [
      "Epoch [3000/10000], Loss: 0.0023\n"
     ]
    },
    {
     "name": "stderr",
     "output_type": "stream",
     "text": [
      "Epochs:  60%|██████    | 6008/10000 [01:43<01:09, 57.78it/s]"
     ]
    },
    {
     "name": "stdout",
     "output_type": "stream",
     "text": [
      "Epoch [6000/10000], Loss: 0.0017\n"
     ]
    },
    {
     "name": "stderr",
     "output_type": "stream",
     "text": [
      "Epochs:  72%|███████▏  | 7157/10000 [02:03<00:49, 57.81it/s]\n"
     ]
    },
    {
     "name": "stdout",
     "output_type": "stream",
     "text": [
      "⏹️ Early stopping at epoch 7158 — no improvement in 100 epochs.\n",
      "📈 Fold 4 metrics: {'MSE': 0.001431784, 'MAE': 0.027159022, 'R2': 0.7895903719017634}\n",
      "\n",
      "🔁 Fold 5 / 5\n",
      "X_train.shape = (96891, 5)\n",
      "📦 Model is on device: cuda:0\n"
     ]
    },
    {
     "name": "stderr",
     "output_type": "stream",
     "text": [
      "Epochs:  30%|███       | 3008/10000 [00:52<02:01, 57.68it/s]"
     ]
    },
    {
     "name": "stdout",
     "output_type": "stream",
     "text": [
      "Epoch [3000/10000], Loss: 0.0038\n"
     ]
    },
    {
     "name": "stderr",
     "output_type": "stream",
     "text": [
      "Epochs:  42%|████▏     | 4179/10000 [01:12<01:40, 57.76it/s]\n"
     ]
    },
    {
     "name": "stdout",
     "output_type": "stream",
     "text": [
      "⏹️ Early stopping at epoch 4180 — no improvement in 100 epochs.\n",
      "📈 Fold 5 metrics: {'MSE': 0.0024145995, 'MAE': 0.037986625, 'R2': 0.6481954930582563}\n",
      "📂 Created run directory: /kaggle/working/tuning_mlp/mlp_256h_3e-03lr_32bs_10000ep_Tanh_Adam\n",
      "\n",
      "📊 Average metrics across 5 folds:\n",
      "{'MSE': 0.0021890830481424927, 'MAE': 0.033634382858872415, 'R2': 0.6841234869169012}\n",
      "\n",
      "🔁 Run 4/10\n",
      "→ hidden_dim: 256, lr: 0.00300, batch size: 32, activation_fn: Tanh, optimizer_name: Adam\n",
      "Dataset loaded: 121113 rows, 15 columns\n",
      "📄 Features (X):\n",
      "\n",
      "🎯 Target (y):\n",
      "\n",
      "✅ X shape: (121113, 5)\n",
      "✅ y shape: (121113, 1)\n",
      "\n",
      "🔁 Fold 1 / 5\n",
      "X_train.shape = (96890, 5)\n",
      "📦 Model is on device: cuda:0\n"
     ]
    },
    {
     "name": "stderr",
     "output_type": "stream",
     "text": [
      "Epochs:  30%|███       | 3008/10000 [00:54<02:06, 55.40it/s]"
     ]
    },
    {
     "name": "stdout",
     "output_type": "stream",
     "text": [
      "Epoch [3000/10000], Loss: 0.0029\n"
     ]
    },
    {
     "name": "stderr",
     "output_type": "stream",
     "text": [
      "Epochs:  60%|██████    | 6008/10000 [01:48<01:11, 55.82it/s]"
     ]
    },
    {
     "name": "stdout",
     "output_type": "stream",
     "text": [
      "Epoch [6000/10000], Loss: 0.0018\n"
     ]
    },
    {
     "name": "stderr",
     "output_type": "stream",
     "text": [
      "Epochs:  62%|██████▏   | 6212/10000 [01:51<01:08, 55.53it/s]\n"
     ]
    },
    {
     "name": "stdout",
     "output_type": "stream",
     "text": [
      "⏹️ Early stopping at epoch 6213 — no improvement in 100 epochs.\n",
      "📈 Fold 1 metrics: {'MSE': 0.0018094375, 'MAE': 0.028789207, 'R2': 0.7406270464910232}\n",
      "\n",
      "🔁 Fold 2 / 5\n",
      "X_train.shape = (96890, 5)\n",
      "📦 Model is on device: cuda:0\n"
     ]
    },
    {
     "name": "stderr",
     "output_type": "stream",
     "text": [
      "Epochs:  26%|██▌       | 2595/10000 [00:45<02:08, 57.67it/s]\n"
     ]
    },
    {
     "name": "stdout",
     "output_type": "stream",
     "text": [
      "⏹️ Early stopping at epoch 2596 — no improvement in 100 epochs.\n",
      "📈 Fold 2 metrics: {'MSE': 0.0030676576, 'MAE': 0.04017213, 'R2': 0.5588441036414855}\n",
      "\n",
      "🔁 Fold 3 / 5\n",
      "X_train.shape = (96890, 5)\n",
      "📦 Model is on device: cuda:0\n"
     ]
    },
    {
     "name": "stderr",
     "output_type": "stream",
     "text": [
      "Epochs:  30%|███       | 3006/10000 [00:53<02:05, 55.83it/s]"
     ]
    },
    {
     "name": "stdout",
     "output_type": "stream",
     "text": [
      "Epoch [3000/10000], Loss: 0.0037\n"
     ]
    },
    {
     "name": "stderr",
     "output_type": "stream",
     "text": [
      "Epochs:  60%|██████    | 6006/10000 [01:47<01:11, 55.97it/s]"
     ]
    },
    {
     "name": "stdout",
     "output_type": "stream",
     "text": [
      "Epoch [6000/10000], Loss: 0.0029\n"
     ]
    },
    {
     "name": "stderr",
     "output_type": "stream",
     "text": [
      "Epochs:  62%|██████▏   | 6196/10000 [01:50<01:08, 55.86it/s]\n"
     ]
    },
    {
     "name": "stdout",
     "output_type": "stream",
     "text": [
      "⏹️ Early stopping at epoch 6197 — no improvement in 100 epochs.\n",
      "📈 Fold 3 metrics: {'MSE': 0.0028857943, 'MAE': 0.041202925, 'R2': 0.5885568520891449}\n",
      "\n",
      "🔁 Fold 4 / 5\n",
      "X_train.shape = (96891, 5)\n",
      "📦 Model is on device: cuda:0\n"
     ]
    },
    {
     "name": "stderr",
     "output_type": "stream",
     "text": [
      "Epochs:  30%|███       | 3007/10000 [00:53<02:05, 55.89it/s]"
     ]
    },
    {
     "name": "stdout",
     "output_type": "stream",
     "text": [
      "Epoch [3000/10000], Loss: 0.0026\n"
     ]
    },
    {
     "name": "stderr",
     "output_type": "stream",
     "text": [
      "Epochs:  60%|██████    | 6007/10000 [01:47<01:11, 55.60it/s]"
     ]
    },
    {
     "name": "stdout",
     "output_type": "stream",
     "text": [
      "Epoch [6000/10000], Loss: 0.0018\n"
     ]
    },
    {
     "name": "stderr",
     "output_type": "stream",
     "text": [
      "Epochs:  86%|████████▌ | 8563/10000 [02:33<00:25, 55.71it/s]\n"
     ]
    },
    {
     "name": "stdout",
     "output_type": "stream",
     "text": [
      "⏹️ Early stopping at epoch 8564 — no improvement in 100 epochs.\n",
      "📈 Fold 4 metrics: {'MSE': 0.0016220445, 'MAE': 0.028170545, 'R2': 0.7616303709927437}\n",
      "\n",
      "🔁 Fold 5 / 5\n",
      "X_train.shape = (96891, 5)\n",
      "📦 Model is on device: cuda:0\n"
     ]
    },
    {
     "name": "stderr",
     "output_type": "stream",
     "text": [
      "Epochs:  30%|███       | 3008/10000 [00:52<02:00, 57.91it/s]"
     ]
    },
    {
     "name": "stdout",
     "output_type": "stream",
     "text": [
      "Epoch [3000/10000], Loss: 0.0028\n"
     ]
    },
    {
     "name": "stderr",
     "output_type": "stream",
     "text": [
      "Epochs:  46%|████▌     | 4592/10000 [01:19<01:33, 57.77it/s]\n"
     ]
    },
    {
     "name": "stdout",
     "output_type": "stream",
     "text": [
      "⏹️ Early stopping at epoch 4593 — no improvement in 100 epochs.\n",
      "📈 Fold 5 metrics: {'MSE': 0.0020427066, 'MAE': 0.032515842, 'R2': 0.702379869739153}\n",
      "📂 Created run directory: /kaggle/working/tuning_mlp/mlp_256h_3e-03lr_32bs_10000ep_Tanh_Adam\n",
      "\n",
      "📊 Average metrics across 5 folds:\n",
      "{'MSE': 0.002285528089851141, 'MAE': 0.03417012989521027, 'R2': 0.67040764859071}\n",
      "\n",
      "🔁 Run 5/10\n",
      "→ hidden_dim: 256, lr: 0.00300, batch size: 32, activation_fn: Tanh, optimizer_name: Adam\n",
      "Dataset loaded: 121113 rows, 15 columns\n",
      "📄 Features (X):\n",
      "\n",
      "🎯 Target (y):\n",
      "\n",
      "✅ X shape: (121113, 5)\n",
      "✅ y shape: (121113, 1)\n",
      "\n",
      "🔁 Fold 1 / 5\n",
      "X_train.shape = (96890, 5)\n",
      "📦 Model is on device: cuda:0\n"
     ]
    },
    {
     "name": "stderr",
     "output_type": "stream",
     "text": [
      "Epochs:  30%|███       | 3008/10000 [00:53<02:05, 55.85it/s]"
     ]
    },
    {
     "name": "stdout",
     "output_type": "stream",
     "text": [
      "Epoch [3000/10000], Loss: 0.0030\n"
     ]
    },
    {
     "name": "stderr",
     "output_type": "stream",
     "text": [
      "Epochs:  43%|████▎     | 4265/10000 [01:16<01:42, 55.79it/s]\n"
     ]
    },
    {
     "name": "stdout",
     "output_type": "stream",
     "text": [
      "⏹️ Early stopping at epoch 4266 — no improvement in 100 epochs.\n",
      "📈 Fold 1 metrics: {'MSE': 0.003540855, 'MAE': 0.04491469, 'R2': 0.49243788968895486}\n",
      "\n",
      "🔁 Fold 2 / 5\n",
      "X_train.shape = (96890, 5)\n",
      "📦 Model is on device: cuda:0\n"
     ]
    },
    {
     "name": "stderr",
     "output_type": "stream",
     "text": [
      "Epochs:  30%|███       | 3008/10000 [00:52<02:01, 57.74it/s]"
     ]
    },
    {
     "name": "stdout",
     "output_type": "stream",
     "text": [
      "Epoch [3000/10000], Loss: 0.0029\n"
     ]
    },
    {
     "name": "stderr",
     "output_type": "stream",
     "text": [
      "Epochs:  60%|██████    | 6007/10000 [01:44<01:09, 57.74it/s]\n"
     ]
    },
    {
     "name": "stdout",
     "output_type": "stream",
     "text": [
      "Epoch [6000/10000], Loss: 0.0019\n",
      "⏹️ Early stopping at epoch 6008 — no improvement in 100 epochs.\n",
      "📈 Fold 2 metrics: {'MSE': 0.0019802214, 'MAE': 0.03194222, 'R2': 0.7152269192114536}\n",
      "\n",
      "🔁 Fold 3 / 5\n",
      "X_train.shape = (96890, 5)\n",
      "📦 Model is on device: cuda:0\n"
     ]
    },
    {
     "name": "stderr",
     "output_type": "stream",
     "text": [
      "Epochs:  30%|███       | 3006/10000 [00:53<02:05, 55.88it/s]"
     ]
    },
    {
     "name": "stdout",
     "output_type": "stream",
     "text": [
      "Epoch [3000/10000], Loss: 0.0030\n"
     ]
    },
    {
     "name": "stderr",
     "output_type": "stream",
     "text": [
      "Epochs:  32%|███▏      | 3174/10000 [00:56<02:02, 55.72it/s]\n"
     ]
    },
    {
     "name": "stdout",
     "output_type": "stream",
     "text": [
      "⏹️ Early stopping at epoch 3175 — no improvement in 100 epochs.\n",
      "📈 Fold 3 metrics: {'MSE': 0.0029760136, 'MAE': 0.039635863, 'R2': 0.5756938676253821}\n",
      "\n",
      "🔁 Fold 4 / 5\n",
      "X_train.shape = (96891, 5)\n",
      "📦 Model is on device: cuda:0\n"
     ]
    },
    {
     "name": "stderr",
     "output_type": "stream",
     "text": [
      "Epochs:  30%|███       | 3006/10000 [00:53<02:05, 55.78it/s]"
     ]
    },
    {
     "name": "stdout",
     "output_type": "stream",
     "text": [
      "Epoch [3000/10000], Loss: 0.0034\n"
     ]
    },
    {
     "name": "stderr",
     "output_type": "stream",
     "text": [
      "Epochs:  60%|██████    | 6006/10000 [01:47<01:11, 55.91it/s]"
     ]
    },
    {
     "name": "stdout",
     "output_type": "stream",
     "text": [
      "Epoch [6000/10000], Loss: 0.0027\n"
     ]
    },
    {
     "name": "stderr",
     "output_type": "stream",
     "text": [
      "Epochs:  71%|███████▏  | 7127/10000 [02:07<00:51, 55.87it/s]\n"
     ]
    },
    {
     "name": "stdout",
     "output_type": "stream",
     "text": [
      "⏹️ Early stopping at epoch 7128 — no improvement in 100 epochs.\n",
      "📈 Fold 4 metrics: {'MSE': 0.0021082868, 'MAE': 0.031741742, 'R2': 0.6901740240654621}\n",
      "\n",
      "🔁 Fold 5 / 5\n",
      "X_train.shape = (96891, 5)\n",
      "📦 Model is on device: cuda:0\n"
     ]
    },
    {
     "name": "stderr",
     "output_type": "stream",
     "text": [
      "Epochs:  29%|██▊       | 2855/10000 [00:49<02:03, 57.86it/s]\n"
     ]
    },
    {
     "name": "stdout",
     "output_type": "stream",
     "text": [
      "⏹️ Early stopping at epoch 2856 — no improvement in 100 epochs.\n",
      "📈 Fold 5 metrics: {'MSE': 0.002898971, 'MAE': 0.03923291, 'R2': 0.5776230490726104}\n",
      "📂 Created run directory: /kaggle/working/tuning_mlp/mlp_256h_3e-03lr_32bs_10000ep_Tanh_Adam\n",
      "\n",
      "📊 Average metrics across 5 folds:\n",
      "{'MSE': 0.0027008695527911187, 'MAE': 0.03749348446726799, 'R2': 0.6102311499327727}\n",
      "\n",
      "🔁 Run 6/10\n",
      "→ hidden_dim: 256, lr: 0.00300, batch size: 32, activation_fn: Tanh, optimizer_name: Adam\n",
      "Dataset loaded: 121113 rows, 15 columns\n",
      "📄 Features (X):\n",
      "\n",
      "🎯 Target (y):\n",
      "\n",
      "✅ X shape: (121113, 5)\n",
      "✅ y shape: (121113, 1)\n",
      "\n",
      "🔁 Fold 1 / 5\n",
      "X_train.shape = (96890, 5)\n",
      "📦 Model is on device: cuda:0\n"
     ]
    },
    {
     "name": "stderr",
     "output_type": "stream",
     "text": [
      "Epochs:  30%|███       | 3008/10000 [00:53<02:05, 55.84it/s]"
     ]
    },
    {
     "name": "stdout",
     "output_type": "stream",
     "text": [
      "Epoch [3000/10000], Loss: 0.0030\n"
     ]
    },
    {
     "name": "stderr",
     "output_type": "stream",
     "text": [
      "Epochs:  50%|████▉     | 4964/10000 [01:28<01:30, 55.84it/s]\n"
     ]
    },
    {
     "name": "stdout",
     "output_type": "stream",
     "text": [
      "⏹️ Early stopping at epoch 4965 — no improvement in 100 epochs.\n",
      "📈 Fold 1 metrics: {'MSE': 0.0022499787, 'MAE': 0.031942703, 'R2': 0.6774778856094155}\n",
      "\n",
      "🔁 Fold 2 / 5\n",
      "X_train.shape = (96890, 5)\n",
      "📦 Model is on device: cuda:0\n"
     ]
    },
    {
     "name": "stderr",
     "output_type": "stream",
     "text": [
      "Epochs:  30%|███       | 3008/10000 [00:52<02:01, 57.67it/s]"
     ]
    },
    {
     "name": "stdout",
     "output_type": "stream",
     "text": [
      "Epoch [3000/10000], Loss: 0.0029\n"
     ]
    },
    {
     "name": "stderr",
     "output_type": "stream",
     "text": [
      "Epochs:  60%|██████    | 6008/10000 [01:44<01:09, 57.63it/s]"
     ]
    },
    {
     "name": "stdout",
     "output_type": "stream",
     "text": [
      "Epoch [6000/10000], Loss: 0.0014\n"
     ]
    },
    {
     "name": "stderr",
     "output_type": "stream",
     "text": [
      "Epochs:  62%|██████▏   | 6156/10000 [01:46<01:06, 57.72it/s]\n"
     ]
    },
    {
     "name": "stdout",
     "output_type": "stream",
     "text": [
      "⏹️ Early stopping at epoch 6157 — no improvement in 100 epochs.\n",
      "📈 Fold 2 metrics: {'MSE': 0.0023871036, 'MAE': 0.04005742, 'R2': 0.6567136936208025}\n",
      "\n",
      "🔁 Fold 3 / 5\n",
      "X_train.shape = (96890, 5)\n",
      "📦 Model is on device: cuda:0\n"
     ]
    },
    {
     "name": "stderr",
     "output_type": "stream",
     "text": [
      "Epochs:  30%|███       | 3006/10000 [00:53<02:04, 56.05it/s]"
     ]
    },
    {
     "name": "stdout",
     "output_type": "stream",
     "text": [
      "Epoch [3000/10000], Loss: 0.0026\n"
     ]
    },
    {
     "name": "stderr",
     "output_type": "stream",
     "text": [
      "Epochs:  45%|████▍     | 4483/10000 [01:20<01:38, 55.86it/s]\n"
     ]
    },
    {
     "name": "stdout",
     "output_type": "stream",
     "text": [
      "⏹️ Early stopping at epoch 4484 — no improvement in 100 epochs.\n",
      "📈 Fold 3 metrics: {'MSE': 0.0022296906, 'MAE': 0.03246302, 'R2': 0.6821010764496518}\n",
      "\n",
      "🔁 Fold 4 / 5\n",
      "X_train.shape = (96891, 5)\n",
      "📦 Model is on device: cuda:0\n"
     ]
    },
    {
     "name": "stderr",
     "output_type": "stream",
     "text": [
      "Epochs:  30%|███       | 3006/10000 [00:53<02:05, 55.66it/s]"
     ]
    },
    {
     "name": "stdout",
     "output_type": "stream",
     "text": [
      "Epoch [3000/10000], Loss: 0.0044\n"
     ]
    },
    {
     "name": "stderr",
     "output_type": "stream",
     "text": [
      "Epochs:  60%|██████    | 6006/10000 [01:47<01:12, 55.45it/s]"
     ]
    },
    {
     "name": "stdout",
     "output_type": "stream",
     "text": [
      "Epoch [6000/10000], Loss: 0.0022\n"
     ]
    },
    {
     "name": "stderr",
     "output_type": "stream",
     "text": [
      "Epochs:  86%|████████▌ | 8592/10000 [02:34<00:25, 55.70it/s]\n"
     ]
    },
    {
     "name": "stdout",
     "output_type": "stream",
     "text": [
      "⏹️ Early stopping at epoch 8593 — no improvement in 100 epochs.\n",
      "📈 Fold 4 metrics: {'MSE': 0.0013979188, 'MAE': 0.025670877, 'R2': 0.7945670526501893}\n",
      "\n",
      "🔁 Fold 5 / 5\n",
      "X_train.shape = (96891, 5)\n",
      "📦 Model is on device: cuda:0\n"
     ]
    },
    {
     "name": "stderr",
     "output_type": "stream",
     "text": [
      "Epochs:  21%|██        | 2102/10000 [00:36<02:16, 57.80it/s]\n"
     ]
    },
    {
     "name": "stdout",
     "output_type": "stream",
     "text": [
      "⏹️ Early stopping at epoch 2103 — no improvement in 100 epochs.\n",
      "📈 Fold 5 metrics: {'MSE': 0.0041297325, 'MAE': 0.04777509, 'R2': 0.39830244564606043}\n",
      "📂 Created run directory: /kaggle/working/tuning_mlp/mlp_256h_3e-03lr_32bs_10000ep_Tanh_Adam\n",
      "\n",
      "📊 Average metrics across 5 folds:\n",
      "{'MSE': 0.002478884835727513, 'MAE': 0.0355818223208189, 'R2': 0.6418324307952238}\n",
      "\n",
      "🔁 Run 7/10\n",
      "→ hidden_dim: 256, lr: 0.00400, batch size: 32, activation_fn: Tanh, optimizer_name: Adam\n",
      "Dataset loaded: 121113 rows, 15 columns\n",
      "📄 Features (X):\n",
      "\n",
      "🎯 Target (y):\n",
      "\n",
      "✅ X shape: (121113, 5)\n",
      "✅ y shape: (121113, 1)\n",
      "\n",
      "🔁 Fold 1 / 5\n",
      "X_train.shape = (96890, 5)\n",
      "📦 Model is on device: cuda:0\n"
     ]
    },
    {
     "name": "stderr",
     "output_type": "stream",
     "text": [
      "Epochs:  30%|███       | 3008/10000 [00:54<02:05, 55.81it/s]"
     ]
    },
    {
     "name": "stdout",
     "output_type": "stream",
     "text": [
      "Epoch [3000/10000], Loss: 0.0024\n"
     ]
    },
    {
     "name": "stderr",
     "output_type": "stream",
     "text": [
      "Epochs:  60%|██████    | 6008/10000 [01:48<01:11, 55.55it/s]"
     ]
    },
    {
     "name": "stdout",
     "output_type": "stream",
     "text": [
      "Epoch [6000/10000], Loss: 0.0015\n"
     ]
    },
    {
     "name": "stderr",
     "output_type": "stream",
     "text": [
      "Epochs:  61%|██████    | 6104/10000 [01:49<01:10, 55.61it/s]\n"
     ]
    },
    {
     "name": "stdout",
     "output_type": "stream",
     "text": [
      "⏹️ Early stopping at epoch 6105 — no improvement in 100 epochs.\n",
      "📈 Fold 1 metrics: {'MSE': 0.0015802989, 'MAE': 0.026870184, 'R2': 0.7734728212988262}\n",
      "\n",
      "🔁 Fold 2 / 5\n",
      "X_train.shape = (96890, 5)\n",
      "📦 Model is on device: cuda:0\n"
     ]
    },
    {
     "name": "stderr",
     "output_type": "stream",
     "text": [
      "Epochs:  30%|███       | 3008/10000 [00:52<02:01, 57.64it/s]"
     ]
    },
    {
     "name": "stdout",
     "output_type": "stream",
     "text": [
      "Epoch [3000/10000], Loss: 0.0030\n"
     ]
    },
    {
     "name": "stderr",
     "output_type": "stream",
     "text": [
      "Epochs:  34%|███▎      | 3360/10000 [00:58<01:55, 57.73it/s]\n"
     ]
    },
    {
     "name": "stdout",
     "output_type": "stream",
     "text": [
      "⏹️ Early stopping at epoch 3361 — no improvement in 100 epochs.\n",
      "📈 Fold 2 metrics: {'MSE': 0.0023784277, 'MAE': 0.03490852, 'R2': 0.6579613794358707}\n",
      "\n",
      "🔁 Fold 3 / 5\n",
      "X_train.shape = (96890, 5)\n",
      "📦 Model is on device: cuda:0\n"
     ]
    },
    {
     "name": "stderr",
     "output_type": "stream",
     "text": [
      "Epochs:  30%|███       | 3006/10000 [00:53<02:06, 55.48it/s]"
     ]
    },
    {
     "name": "stdout",
     "output_type": "stream",
     "text": [
      "Epoch [3000/10000], Loss: 0.0023\n"
     ]
    },
    {
     "name": "stderr",
     "output_type": "stream",
     "text": [
      "Epochs:  49%|████▉     | 4942/10000 [01:28<01:30, 55.66it/s]\n"
     ]
    },
    {
     "name": "stdout",
     "output_type": "stream",
     "text": [
      "⏹️ Early stopping at epoch 4943 — no improvement in 100 epochs.\n",
      "📈 Fold 3 metrics: {'MSE': 0.0016031367, 'MAE': 0.027550025, 'R2': 0.7714322388092031}\n",
      "\n",
      "🔁 Fold 4 / 5\n",
      "X_train.shape = (96891, 5)\n",
      "📦 Model is on device: cuda:0\n"
     ]
    },
    {
     "name": "stderr",
     "output_type": "stream",
     "text": [
      "Epochs:  30%|███       | 3006/10000 [00:53<02:05, 55.59it/s]"
     ]
    },
    {
     "name": "stdout",
     "output_type": "stream",
     "text": [
      "Epoch [3000/10000], Loss: 0.0030\n"
     ]
    },
    {
     "name": "stderr",
     "output_type": "stream",
     "text": [
      "Epochs:  50%|████▉     | 4984/10000 [01:29<01:30, 55.73it/s]\n"
     ]
    },
    {
     "name": "stdout",
     "output_type": "stream",
     "text": [
      "⏹️ Early stopping at epoch 4985 — no improvement in 100 epochs.\n",
      "📈 Fold 4 metrics: {'MSE': 0.002165798, 'MAE': 0.03291032, 'R2': 0.6817223918486182}\n",
      "\n",
      "🔁 Fold 5 / 5\n",
      "X_train.shape = (96891, 5)\n",
      "📦 Model is on device: cuda:0\n"
     ]
    },
    {
     "name": "stderr",
     "output_type": "stream",
     "text": [
      "Epochs:  19%|█▉        | 1875/10000 [00:32<02:20, 57.82it/s]\n"
     ]
    },
    {
     "name": "stdout",
     "output_type": "stream",
     "text": [
      "⏹️ Early stopping at epoch 1876 — no improvement in 100 epochs.\n",
      "📈 Fold 5 metrics: {'MSE': 0.0039795972, 'MAE': 0.04693405, 'R2': 0.4201770263900342}\n",
      "📂 Created run directory: /kaggle/working/tuning_mlp/mlp_256h_4e-03lr_32bs_10000ep_Tanh_Adam\n",
      "\n",
      "📊 Average metrics across 5 folds:\n",
      "{'MSE': 0.0023414517054334283, 'MAE': 0.03383461944758892, 'R2': 0.6609531715565105}\n",
      "\n",
      "🔁 Run 8/10\n",
      "→ hidden_dim: 256, lr: 0.00300, batch size: 32, activation_fn: Tanh, optimizer_name: Adam\n",
      "Dataset loaded: 121113 rows, 15 columns\n",
      "📄 Features (X):\n",
      "\n",
      "🎯 Target (y):\n",
      "\n",
      "✅ X shape: (121113, 5)\n",
      "✅ y shape: (121113, 1)\n",
      "\n",
      "🔁 Fold 1 / 5\n",
      "X_train.shape = (96890, 5)\n",
      "📦 Model is on device: cuda:0\n"
     ]
    },
    {
     "name": "stderr",
     "output_type": "stream",
     "text": [
      "Epochs:  30%|███       | 3008/10000 [00:53<02:05, 55.76it/s]"
     ]
    },
    {
     "name": "stdout",
     "output_type": "stream",
     "text": [
      "Epoch [3000/10000], Loss: 0.0041\n"
     ]
    },
    {
     "name": "stderr",
     "output_type": "stream",
     "text": [
      "Epochs:  60%|██████    | 6008/10000 [01:47<01:11, 55.99it/s]"
     ]
    },
    {
     "name": "stdout",
     "output_type": "stream",
     "text": [
      "Epoch [6000/10000], Loss: 0.0026\n"
     ]
    },
    {
     "name": "stderr",
     "output_type": "stream",
     "text": [
      "Epochs:  67%|██████▋   | 6688/10000 [01:59<00:59, 55.88it/s]\n"
     ]
    },
    {
     "name": "stdout",
     "output_type": "stream",
     "text": [
      "⏹️ Early stopping at epoch 6689 — no improvement in 100 epochs.\n",
      "📈 Fold 1 metrics: {'MSE': 0.002749871, 'MAE': 0.035958543, 'R2': 0.6058210617971889}\n",
      "\n",
      "🔁 Fold 2 / 5\n",
      "X_train.shape = (96890, 5)\n",
      "📦 Model is on device: cuda:0\n"
     ]
    },
    {
     "name": "stderr",
     "output_type": "stream",
     "text": [
      "Epochs:  30%|███       | 3008/10000 [00:52<02:00, 57.83it/s]"
     ]
    },
    {
     "name": "stdout",
     "output_type": "stream",
     "text": [
      "Epoch [3000/10000], Loss: 0.0030\n"
     ]
    },
    {
     "name": "stderr",
     "output_type": "stream",
     "text": [
      "Epochs:  60%|██████    | 6008/10000 [01:44<01:09, 57.69it/s]"
     ]
    },
    {
     "name": "stdout",
     "output_type": "stream",
     "text": [
      "Epoch [6000/10000], Loss: 0.0021\n"
     ]
    },
    {
     "name": "stderr",
     "output_type": "stream",
     "text": [
      "Epochs:  64%|██████▍   | 6375/10000 [01:50<01:02, 57.75it/s]\n"
     ]
    },
    {
     "name": "stdout",
     "output_type": "stream",
     "text": [
      "⏹️ Early stopping at epoch 6376 — no improvement in 100 epochs.\n",
      "📈 Fold 2 metrics: {'MSE': 0.0028985273, 'MAE': 0.03745046, 'R2': 0.5831664772205204}\n",
      "\n",
      "🔁 Fold 3 / 5\n",
      "X_train.shape = (96890, 5)\n",
      "📦 Model is on device: cuda:0\n"
     ]
    },
    {
     "name": "stderr",
     "output_type": "stream",
     "text": [
      "Epochs:  30%|███       | 3006/10000 [00:53<02:05, 55.57it/s]"
     ]
    },
    {
     "name": "stdout",
     "output_type": "stream",
     "text": [
      "Epoch [3000/10000], Loss: 0.0030\n"
     ]
    },
    {
     "name": "stderr",
     "output_type": "stream",
     "text": [
      "Epochs:  51%|█████     | 5111/10000 [01:31<01:27, 55.77it/s]\n"
     ]
    },
    {
     "name": "stdout",
     "output_type": "stream",
     "text": [
      "⏹️ Early stopping at epoch 5112 — no improvement in 100 epochs.\n",
      "📈 Fold 3 metrics: {'MSE': 0.0025555287, 'MAE': 0.034213834, 'R2': 0.6356446101164688}\n",
      "\n",
      "🔁 Fold 4 / 5\n",
      "X_train.shape = (96891, 5)\n",
      "📦 Model is on device: cuda:0\n"
     ]
    },
    {
     "name": "stderr",
     "output_type": "stream",
     "text": [
      "Epochs:  30%|███       | 3006/10000 [00:53<02:05, 55.92it/s]"
     ]
    },
    {
     "name": "stdout",
     "output_type": "stream",
     "text": [
      "Epoch [3000/10000], Loss: 0.0028\n"
     ]
    },
    {
     "name": "stderr",
     "output_type": "stream",
     "text": [
      "Epochs:  34%|███▍      | 3390/10000 [01:00<01:58, 55.81it/s]\n"
     ]
    },
    {
     "name": "stdout",
     "output_type": "stream",
     "text": [
      "⏹️ Early stopping at epoch 3391 — no improvement in 100 epochs.\n",
      "📈 Fold 4 metrics: {'MSE': 0.002170197, 'MAE': 0.033036746, 'R2': 0.6810759243832502}\n",
      "\n",
      "🔁 Fold 5 / 5\n",
      "X_train.shape = (96891, 5)\n",
      "📦 Model is on device: cuda:0\n"
     ]
    },
    {
     "name": "stderr",
     "output_type": "stream",
     "text": [
      "Epochs:  30%|███       | 3006/10000 [00:53<02:05, 55.78it/s]"
     ]
    },
    {
     "name": "stdout",
     "output_type": "stream",
     "text": [
      "Epoch [3000/10000], Loss: 0.0032\n"
     ]
    },
    {
     "name": "stderr",
     "output_type": "stream",
     "text": [
      "Epochs:  60%|██████    | 6006/10000 [01:47<01:12, 55.42it/s]"
     ]
    },
    {
     "name": "stdout",
     "output_type": "stream",
     "text": [
      "Epoch [6000/10000], Loss: 0.0023\n"
     ]
    },
    {
     "name": "stderr",
     "output_type": "stream",
     "text": [
      "Epochs:  76%|███████▋  | 7634/10000 [02:16<00:42, 55.79it/s]\n"
     ]
    },
    {
     "name": "stdout",
     "output_type": "stream",
     "text": [
      "⏹️ Early stopping at epoch 7635 — no improvement in 100 epochs.\n",
      "📈 Fold 5 metrics: {'MSE': 0.0019927227, 'MAE': 0.03366031, 'R2': 0.7096624565655167}\n",
      "📂 Created run directory: /kaggle/working/tuning_mlp/mlp_256h_3e-03lr_32bs_10000ep_Tanh_Adam\n",
      "\n",
      "📊 Average metrics across 5 folds:\n",
      "{'MSE': 0.0024733693338930608, 'MAE': 0.03486397862434387, 'R2': 0.643074106016589}\n",
      "\n",
      "🔁 Run 9/10\n",
      "→ hidden_dim: 256, lr: 0.00400, batch size: 32, activation_fn: Tanh, optimizer_name: Adam\n",
      "Dataset loaded: 121113 rows, 15 columns\n",
      "📄 Features (X):\n",
      "\n",
      "🎯 Target (y):\n",
      "\n",
      "✅ X shape: (121113, 5)\n",
      "✅ y shape: (121113, 1)\n",
      "\n",
      "🔁 Fold 1 / 5\n",
      "X_train.shape = (96890, 5)\n",
      "📦 Model is on device: cuda:0\n"
     ]
    },
    {
     "name": "stderr",
     "output_type": "stream",
     "text": [
      "Epochs:  30%|███       | 3008/10000 [00:53<02:05, 55.77it/s]"
     ]
    },
    {
     "name": "stdout",
     "output_type": "stream",
     "text": [
      "Epoch [3000/10000], Loss: 0.0041\n"
     ]
    },
    {
     "name": "stderr",
     "output_type": "stream",
     "text": [
      "Epochs:  59%|█████▉    | 5891/10000 [01:45<01:13, 55.81it/s]\n"
     ]
    },
    {
     "name": "stdout",
     "output_type": "stream",
     "text": [
      "⏹️ Early stopping at epoch 5892 — no improvement in 100 epochs.\n",
      "📈 Fold 1 metrics: {'MSE': 0.0023350262, 'MAE': 0.036889218, 'R2': 0.665286785061517}\n",
      "\n",
      "🔁 Fold 2 / 5\n",
      "X_train.shape = (96890, 5)\n",
      "📦 Model is on device: cuda:0\n"
     ]
    },
    {
     "name": "stderr",
     "output_type": "stream",
     "text": [
      "Epochs:  30%|███       | 3008/10000 [00:52<02:00, 57.80it/s]"
     ]
    },
    {
     "name": "stdout",
     "output_type": "stream",
     "text": [
      "Epoch [3000/10000], Loss: 0.0022\n"
     ]
    },
    {
     "name": "stderr",
     "output_type": "stream",
     "text": [
      "Epochs:  46%|████▌     | 4608/10000 [01:19<01:33, 57.79it/s]\n"
     ]
    },
    {
     "name": "stdout",
     "output_type": "stream",
     "text": [
      "⏹️ Early stopping at epoch 4609 — no improvement in 100 epochs.\n",
      "📈 Fold 2 metrics: {'MSE': 0.0018353985, 'MAE': 0.029674234, 'R2': 0.7360537035718147}\n",
      "\n",
      "🔁 Fold 3 / 5\n",
      "X_train.shape = (96890, 5)\n",
      "📦 Model is on device: cuda:0\n"
     ]
    },
    {
     "name": "stderr",
     "output_type": "stream",
     "text": [
      "Epochs:  30%|███       | 3006/10000 [00:53<02:04, 56.04it/s]"
     ]
    },
    {
     "name": "stdout",
     "output_type": "stream",
     "text": [
      "Epoch [3000/10000], Loss: 0.0030\n"
     ]
    },
    {
     "name": "stderr",
     "output_type": "stream",
     "text": [
      "Epochs:  42%|████▏     | 4178/10000 [01:14<01:44, 55.84it/s]\n"
     ]
    },
    {
     "name": "stdout",
     "output_type": "stream",
     "text": [
      "⏹️ Early stopping at epoch 4179 — no improvement in 100 epochs.\n",
      "📈 Fold 3 metrics: {'MSE': 0.002391035, 'MAE': 0.034616962, 'R2': 0.6590973852187425}\n",
      "\n",
      "🔁 Fold 4 / 5\n",
      "X_train.shape = (96891, 5)\n",
      "📦 Model is on device: cuda:0\n"
     ]
    },
    {
     "name": "stderr",
     "output_type": "stream",
     "text": [
      "Epochs:  30%|███       | 3007/10000 [00:53<02:05, 55.57it/s]"
     ]
    },
    {
     "name": "stdout",
     "output_type": "stream",
     "text": [
      "Epoch [3000/10000], Loss: 0.0033\n"
     ]
    },
    {
     "name": "stderr",
     "output_type": "stream",
     "text": [
      "Epochs:  53%|█████▎    | 5308/10000 [01:35<01:24, 55.85it/s]\n"
     ]
    },
    {
     "name": "stdout",
     "output_type": "stream",
     "text": [
      "⏹️ Early stopping at epoch 5309 — no improvement in 100 epochs.\n",
      "📈 Fold 4 metrics: {'MSE': 0.0031413427, 'MAE': 0.046038292, 'R2': 0.5383600442152725}\n",
      "\n",
      "🔁 Fold 5 / 5\n",
      "X_train.shape = (96891, 5)\n",
      "📦 Model is on device: cuda:0\n"
     ]
    },
    {
     "name": "stderr",
     "output_type": "stream",
     "text": [
      "Epochs:  30%|███       | 3008/10000 [00:51<02:00, 57.90it/s]"
     ]
    },
    {
     "name": "stdout",
     "output_type": "stream",
     "text": [
      "Epoch [3000/10000], Loss: 0.0026\n"
     ]
    },
    {
     "name": "stderr",
     "output_type": "stream",
     "text": [
      "Epochs:  52%|█████▏    | 5159/10000 [01:29<01:23, 57.85it/s]\n"
     ]
    },
    {
     "name": "stdout",
     "output_type": "stream",
     "text": [
      "⏹️ Early stopping at epoch 5160 — no improvement in 100 epochs.\n",
      "📈 Fold 5 metrics: {'MSE': 0.0025256865, 'MAE': 0.039537482, 'R2': 0.6320102243363317}\n",
      "📂 Created run directory: /kaggle/working/tuning_mlp/mlp_256h_4e-03lr_32bs_10000ep_Tanh_Adam\n",
      "\n",
      "📊 Average metrics across 5 folds:\n",
      "{'MSE': 0.002445697761140764, 'MAE': 0.03735123760998249, 'R2': 0.6461616284807358}\n",
      "\n",
      "🔁 Run 10/10\n",
      "→ hidden_dim: 256, lr: 0.00400, batch size: 32, activation_fn: Tanh, optimizer_name: Adam\n",
      "Dataset loaded: 121113 rows, 15 columns\n",
      "📄 Features (X):\n",
      "\n",
      "🎯 Target (y):\n",
      "\n",
      "✅ X shape: (121113, 5)\n",
      "✅ y shape: (121113, 1)\n",
      "\n",
      "🔁 Fold 1 / 5\n",
      "X_train.shape = (96890, 5)\n",
      "📦 Model is on device: cuda:0\n"
     ]
    },
    {
     "name": "stderr",
     "output_type": "stream",
     "text": [
      "Epochs:  30%|███       | 3008/10000 [00:53<02:05, 55.88it/s]"
     ]
    },
    {
     "name": "stdout",
     "output_type": "stream",
     "text": [
      "Epoch [3000/10000], Loss: 0.0027\n"
     ]
    },
    {
     "name": "stderr",
     "output_type": "stream",
     "text": [
      "Epochs:  36%|███▌      | 3561/10000 [01:03<01:55, 55.78it/s]\n"
     ]
    },
    {
     "name": "stdout",
     "output_type": "stream",
     "text": [
      "⏹️ Early stopping at epoch 3562 — no improvement in 100 epochs.\n",
      "📈 Fold 1 metrics: {'MSE': 0.0023145697, 'MAE': 0.034142874, 'R2': 0.6682191197036879}\n",
      "\n",
      "🔁 Fold 2 / 5\n",
      "X_train.shape = (96890, 5)\n",
      "📦 Model is on device: cuda:0\n"
     ]
    },
    {
     "name": "stderr",
     "output_type": "stream",
     "text": [
      "Epochs:  30%|███       | 3006/10000 [00:53<02:05, 55.59it/s]"
     ]
    },
    {
     "name": "stdout",
     "output_type": "stream",
     "text": [
      "Epoch [3000/10000], Loss: 0.0029\n"
     ]
    },
    {
     "name": "stderr",
     "output_type": "stream",
     "text": [
      "Epochs:  52%|█████▏    | 5199/10000 [01:33<01:26, 55.76it/s]\n"
     ]
    },
    {
     "name": "stdout",
     "output_type": "stream",
     "text": [
      "⏹️ Early stopping at epoch 5200 — no improvement in 100 epochs.\n",
      "📈 Fold 2 metrics: {'MSE': 0.004314393, 'MAE': 0.056319613, 'R2': 0.37955269365079203}\n",
      "\n",
      "🔁 Fold 3 / 5\n",
      "X_train.shape = (96890, 5)\n",
      "📦 Model is on device: cuda:0\n"
     ]
    },
    {
     "name": "stderr",
     "output_type": "stream",
     "text": [
      "Epochs:  30%|███       | 3006/10000 [00:53<02:05, 55.65it/s]"
     ]
    },
    {
     "name": "stdout",
     "output_type": "stream",
     "text": [
      "Epoch [3000/10000], Loss: 0.0030\n"
     ]
    },
    {
     "name": "stderr",
     "output_type": "stream",
     "text": [
      "Epochs:  44%|████▍     | 4401/10000 [01:18<01:40, 55.82it/s]\n"
     ]
    },
    {
     "name": "stdout",
     "output_type": "stream",
     "text": [
      "⏹️ Early stopping at epoch 4402 — no improvement in 100 epochs.\n",
      "📈 Fold 3 metrics: {'MSE': 0.0024651843, 'MAE': 0.03703694, 'R2': 0.648525507091819}\n",
      "\n",
      "🔁 Fold 4 / 5\n",
      "X_train.shape = (96891, 5)\n",
      "📦 Model is on device: cuda:0\n"
     ]
    },
    {
     "name": "stderr",
     "output_type": "stream",
     "text": [
      "Epochs:  25%|██▌       | 2504/10000 [00:43<02:09, 57.80it/s]\n"
     ]
    },
    {
     "name": "stdout",
     "output_type": "stream",
     "text": [
      "⏹️ Early stopping at epoch 2505 — no improvement in 100 epochs.\n",
      "📈 Fold 4 metrics: {'MSE': 0.0041075177, 'MAE': 0.0476686, 'R2': 0.39637453486875207}\n",
      "\n",
      "🔁 Fold 5 / 5\n",
      "X_train.shape = (96891, 5)\n",
      "📦 Model is on device: cuda:0\n"
     ]
    },
    {
     "name": "stderr",
     "output_type": "stream",
     "text": [
      "Epochs:  30%|███       | 3008/10000 [00:52<02:01, 57.58it/s]"
     ]
    },
    {
     "name": "stdout",
     "output_type": "stream",
     "text": [
      "Epoch [3000/10000], Loss: 0.0027\n"
     ]
    },
    {
     "name": "stderr",
     "output_type": "stream",
     "text": [
      "Epochs:  34%|███▎      | 3368/10000 [00:58<01:54, 57.71it/s]"
     ]
    },
    {
     "name": "stdout",
     "output_type": "stream",
     "text": [
      "⏹️ Early stopping at epoch 3369 — no improvement in 100 epochs.\n",
      "📈 Fold 5 metrics: {'MSE': 0.0026683586, 'MAE': 0.036254473, 'R2': 0.6112230310406179}\n",
      "📂 Created run directory: /kaggle/working/tuning_mlp/mlp_256h_4e-03lr_32bs_10000ep_Tanh_Adam\n",
      "\n",
      "📊 Average metrics across 5 folds:\n",
      "{'MSE': 0.0031740046106278896, 'MAE': 0.04228449985384941, 'R2': 0.5407789772711338}\n"
     ]
    },
    {
     "name": "stderr",
     "output_type": "stream",
     "text": [
      "\n"
     ]
    }
   ],
   "source": [
    "# 📁 src/tuning/random_search_mlp.py\n",
    "# ➤ Random Search for MLP model: selects hyperparameters and launches training\n",
    "\n",
    "# 🔧 Hyperparameter options\n",
    "# hidden_dim_choices = [128]\n",
    "# hidden_dim_choices = [32, 64, 96, 128, 160, 192, 224, 256, 288, 320, 384]\n",
    "hidden_dim_choices = [256]\n",
    "\n",
    "# lr_choices = [0.009]\n",
    "# lr_choices = [round(lr, 5) for lr in np.arange(0.001, 0.021, 0.001)]\n",
    "lr_choices = [round(lr, 5) for lr in np.arange(0.003, 0.005, 0.001)]\n",
    "\n",
    "# batch_size_choices = [64]\n",
    "# batch_size_choices = [8, 16, 32, 48, 64, 96, 128]\n",
    "batch_size_choices = [32]\n",
    "\n",
    "\n",
    "activation_choices = [nn.Tanh]\n",
    "# activation_choices = [nn.ReLU, nn.LeakyReLU, nn.Tanh]\n",
    "optimizer_choices = [\"Adam\"]\n",
    "# optimizer_choices = [\"Adam\", \"AdamW\"]\n",
    "\n",
    "# 📌 Fixed parameters\n",
    "EPOCHS = 10000\n",
    "OUTPUT_DIM = 1\n",
    "N_RUNS = 10 # Total number of runs\n",
    "\n",
    "# 🧪 Random Search loop\n",
    "for run in range(N_RUNS):\n",
    "    # Randomly select hyperparameters\n",
    "    hidden_dim = random.choice(hidden_dim_choices)\n",
    "    lr = random.choice(lr_choices)\n",
    "    batch_size = random.choice(batch_size_choices)\n",
    "    activation_fn=random.choice(activation_choices)\n",
    "    optimizer_name = random.choice(optimizer_choices)\n",
    "\n",
    "    # Display current configuration\n",
    "    print(f\"\\n🔁 Run {run + 1}/{N_RUNS}\")\n",
    "    print(f\"→ hidden_dim: {hidden_dim}, lr: {lr:.5f}, batch size: {batch_size}, activation_fn: {activation_fn.__name__}, optimizer_name: {optimizer_name}\")\n",
    "\n",
    "    # Train model with current hyperparameters\n",
    "    train_mlp(\n",
    "        hidden_dim=hidden_dim,\n",
    "        lr=lr,\n",
    "        batch_size=batch_size,\n",
    "        epochs=EPOCHS,\n",
    "        output_dim=OUTPUT_DIM,\n",
    "        activation_fn=activation_fn,\n",
    "        optimizer_name=optimizer_name\n",
    "    )"
   ]
  },
  {
   "cell_type": "code",
   "execution_count": 8,
   "id": "56c3bddd",
   "metadata": {
    "execution": {
     "iopub.execute_input": "2025-05-29T03:01:42.760839Z",
     "iopub.status.busy": "2025-05-29T03:01:42.760151Z",
     "iopub.status.idle": "2025-05-29T03:01:44.039124Z",
     "shell.execute_reply": "2025-05-29T03:01:44.038490Z"
    },
    "papermill": {
     "duration": 3.185796,
     "end_time": "2025-05-29T03:01:44.040246",
     "exception": false,
     "start_time": "2025-05-29T03:01:40.854450",
     "status": "completed"
    },
    "tags": []
   },
   "outputs": [
    {
     "data": {
      "image/png": "[encoded data removed]",
      "text/plain": [
       "<Figure size 1600x1600 with 5 Axes>"
      ]
     },
     "metadata": {},
     "output_type": "display_data"
    },
    {
     "name": "stdout",
     "output_type": "stream",
     "text": [
      "\n",
      "Best Configuration:\n",
      "Run ID        : mlp_256h_3e-03lr_32bs_10000ep_Tanh_Adam\n",
      "Hidden Dim    : 256\n",
      "Learning Rate : 0.00300\n",
      "Batch Size    : 32\n",
      "Activation Fn : Tanh\n",
      "Optimizer     : Adam\n",
      "R² Score      : 0.7507\n",
      "MAE           : 0.0299\n",
      "MSE           : 0.001723\n"
     ]
    },
    {
     "data": {
      "image/png": "[encoded data removed]",
      "text/plain": [
       "<Figure size 1000x800 with 2 Axes>"
      ]
     },
     "metadata": {},
     "output_type": "display_data"
    },
    {
     "name": "stdout",
     "output_type": "stream",
     "text": [
      "\n",
      " R² threshold (95% of max): 0.7132\n",
      "🔍 Found 1 stable candidates:\n",
      "\n",
      "   hidden_dim     lr  batch_size activation_fn optimizer_name      R2     MAE  \\\n",
      "0         256  0.003          32          Tanh           Adam  0.7507  0.0299   \n",
      "\n",
      "        MSE  \n",
      "0  0.001723  \n"
     ]
    }
   ],
   "source": [
    "# 📁 src/tuning/visualize_search_results.py\n",
    "# ➞ Heatmap visualization of R² scores across hidden_dim and learning rate combinations\n",
    "\n",
    "# 📅 Load experiments log\n",
    "log_path = \"experiments/experiments_log.csv\"\n",
    "df_log = pd.read_csv(LOG_CSV_PATH)\n",
    "\n",
    "# Современный стиль\n",
    "sns.set(style=\"whitegrid\", palette=\"pastel\", font_scale=1.2)\n",
    "\n",
    "# Создаём 3×2 подграфика\n",
    "fig, axes = plt.subplots(3, 2, figsize=(16, 16))\n",
    "axes = axes.flatten()\n",
    "\n",
    "# Список параметров и названий\n",
    "plot_params = [\n",
    "    (\"hidden_dim\", \"Hidden Dimensions\"),\n",
    "    (\"lr\", \"Learning Rate\"),\n",
    "    (\"batch_size\", \"Batch Size\"),\n",
    "    (\"activation_fn\", \"Activation Function\"),\n",
    "    (\"optimizer_name\", \"Optimizer\")\n",
    "]\n",
    "\n",
    "# Строим графики\n",
    "for i, (param, label) in enumerate(plot_params):\n",
    "    ax = axes[i]\n",
    "    sns.boxplot(x=param, y=\"R2\", data=df_log, ax=ax, width=0.6, fliersize=2, linewidth=1.2)\n",
    "    ax.set_title(f\"R² Score by {label}\", fontsize=14, fontweight='bold')\n",
    "    ax.set_xlabel(label, fontsize=12)\n",
    "    ax.set_ylabel(\"R² Score\", fontsize=12)\n",
    "    ax.xaxis.set_tick_params(rotation=30)\n",
    "\n",
    "# Удаляем последний пустой subplot, если графиков меньше\n",
    "if len(axes) > len(plot_params):\n",
    "    fig.delaxes(axes[-1])\n",
    "\n",
    "plt.tight_layout(pad=3)\n",
    "plt.subplots_adjust(top=0.95)\n",
    "fig.suptitle(\"Model Performance by Hyperparameters\", fontsize=16, fontweight='bold')\n",
    "\n",
    "plt.show()\n",
    "\n",
    "# Выводим лучшую конфигурацию\n",
    "best_row = df_log.loc[df_log[\"R2\"].idxmax()]\n",
    "print(\"\\nBest Configuration:\")\n",
    "print(f\"Run ID        : {best_row['run_id']}\")\n",
    "print(f\"Hidden Dim    : {int(best_row['hidden_dim'])}\")\n",
    "print(f\"Learning Rate : {best_row['lr']:.5f}\")\n",
    "print(f\"Batch Size    : {int(best_row['batch_size'])}\")\n",
    "print(f\"Activation Fn : {best_row['activation_fn']}\")\n",
    "print(f\"Optimizer     : {best_row['optimizer_name']}\")\n",
    "print(f\"R² Score      : {best_row['R2']:.4f}\")\n",
    "print(f\"MAE           : {best_row['MAE']:.4f}\")\n",
    "print(f\"MSE           : {best_row['MSE']:.6f}\")\n",
    "\n",
    "# ------------------------------\n",
    "# 🔥 Heatmap of R² by hidden_dim × learning rate\n",
    "# ------------------------------\n",
    "\n",
    "# Группируем по hidden_dim и lr, берём среднее R²\n",
    "pivot_table = df_log.pivot_table(\n",
    "    values=\"R2\",\n",
    "    index=\"lr\",         # строки — learning rate\n",
    "    columns=\"hidden_dim\",  # колонки — hidden_dim\n",
    "    aggfunc=\"mean\"\n",
    ")\n",
    "\n",
    "# Сортируем для лучшей читаемости\n",
    "pivot_table = pivot_table.sort_index(ascending=False)\n",
    "\n",
    "# Отрисовка\n",
    "plt.figure(figsize=(10, 8))\n",
    "sns.heatmap(pivot_table, annot=True, fmt=\".3f\", cmap=\"YlGnBu\", linewidths=0.5, cbar_kws={\"label\": \"R² Score\"})\n",
    "plt.title(\"R² Heatmap: Hidden Dim × Learning Rate\", fontsize=16, fontweight='bold')\n",
    "plt.xlabel(\"Hidden Dim\", fontsize=12)\n",
    "plt.ylabel(\"Learning Rate\", fontsize=12)\n",
    "plt.tight_layout()\n",
    "plt.show()\n",
    "\n",
    "# ------------------------------\n",
    "# 📊 Зона стабильных параметров по R²\n",
    "# ------------------------------\n",
    "\n",
    "# 1. Максимальное значение R²\n",
    "r2_max = df_log[\"R2\"].max()\n",
    "\n",
    "# 2. Порог: 95% от максимума\n",
    "threshold = r2_max * 0.95\n",
    "print(f\"\\n R² threshold (95% of max): {threshold:.4f}\")\n",
    "\n",
    "# 3. Отбираем устойчиво хорошие параметры\n",
    "stable_zone = df_log[df_log[\"R2\"] >= threshold]\n",
    "print(f\"🔍 Found {len(stable_zone)} stable candidates:\\n\")\n",
    "\n",
    "# 4. Выводим таблицу устойчивых параметров\n",
    "print(stable_zone.sort_values(\"R2\", ascending=False)[[\"hidden_dim\", \"lr\", \"batch_size\", \"activation_fn\", \"optimizer_name\", \"R2\", \"MAE\", \"MSE\"]])\n"
   ]
  }
 ],
 "metadata": {
  "kaggle": {
   "accelerator": "nvidiaTeslaT4",
   "dataSources": [
    {
     "datasetId": 7473606,
     "sourceId": 11890458,
     "sourceType": "datasetVersion"
    }
   ],
   "dockerImageVersionId": 31041,
   "isGpuEnabled": true,
   "isInternetEnabled": false,
   "language": "python",
   "sourceType": "notebook"
  },
  "kernelspec": {
   "display_name": "Python 3",
   "language": "python",
   "name": "python3"
  },
  "language_info": {
   "codemirror_mode": {
    "name": "ipython",
    "version": 3
   },
   "file_extension": ".py",
   "mimetype": "text/x-python",
   "name": "python",
   "nbconvert_exporter": "python",
   "pygments_lexer": "ipython3",
   "version": "3.11.11"
  },
  "papermill": {
   "default_parameters": {},
   "duration": 4800.720152,
   "end_time": "2025-05-29T03:01:48.764113",
   "environment_variables": {},
   "exception": null,
   "input_path": "__notebook__.ipynb",
   "output_path": "__notebook__.ipynb",
   "parameters": {},
   "start_time": "2025-05-29T01:41:48.043961",
   "version": "2.6.0"
  }
 },
 "nbformat": 4,
 "nbformat_minor": 5
}
