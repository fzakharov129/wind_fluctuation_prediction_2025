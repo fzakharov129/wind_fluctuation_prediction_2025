{
 "cells": [
  {
   "cell_type": "markdown",
   "metadata": {},
   "source": [
    "🧠 Hyperparameter Tuning for MLP\n",
    "Date: May 21, 2025\n",
    "\n",
    "🎯 Goal\n",
    "Identify the optimal configuration of hyperparameters for a Multi-Layer Perceptron (MLP) model, including:\n",
    "\n",
    "hidden_dim: number of hidden units\n",
    "\n",
    "learning_rate: optimizer step size\n",
    "\n",
    "batch_size: number of samples per training step\n",
    "\n",
    "activation_fn: activation function\n",
    "\n",
    "optimizer: optimization algorithm\n",
    "\n",
    "⚙️ General Settings\n",
    "epochs = 100\n",
    "\n",
    "output_dim = 1\n",
    "\n",
    "n_runs = 30 (random seeds for reproducibility)\n",
    "\n",
    "📌 Tuned Parameters\n",
    "Hidden Dimensions: [64, 128]\n",
    "\n",
    "Learning Rate: [0.007, 0.008, 0.009, 0.01]\n",
    "\n",
    "Batch Size: [16, 32, 64]\n",
    "\n",
    "Activation Functions: [nn.Tanh]\n",
    "(can be extended to [nn.ReLU, nn.LeakyReLU, nn.Tanh])\n",
    "\n",
    "Optimizers: [\"Adam\"]\n",
    "(optionally expandable to [\"Adam\", \"AdamW\", \"SGD\", \"RMSprop\"])\n",
    "\n",
    "📊 Training Procedure\n",
    "Each configuration is trained using 5-fold cross-validation\n",
    "\n",
    "Early stopping is applied with patience = 100\n",
    "\n",
    "Metrics are calculated on each fold and averaged:\n",
    "\n",
    "R² (coefficient of determination)\n",
    "\n",
    "MAE (mean absolute error)\n",
    "\n",
    "MSE (mean squared error)\n",
    "\n",
    "💾 Outputs Saved\n",
    "Model weights\n",
    "\n",
    "Configuration files\n",
    "\n",
    "Evaluation metrics per run\n",
    "\n",
    "Global experiment log (experiments_log.csv)\n",
    "\n",
    "Training visualizations (loss_plot.png)\n",
    "\n",
    "🏁 Final Results\n",
    "Table of stable configurations (R² ≥ 95% of the best score)\n",
    "\n",
    "Visual analysis of hyperparameter impact (boxplots per parameter)\n",
    "\n",
    "Best configuration is highlighted separately"
   ]
  },
  {
   "cell_type": "code",
   "execution_count": 48,
   "metadata": {
    "execution": {
     "iopub.execute_input": "2025-05-19T07:12:15.899931Z",
     "iopub.status.busy": "2025-05-19T07:12:15.899667Z",
     "iopub.status.idle": "2025-05-19T07:12:26.396682Z",
     "shell.execute_reply": "2025-05-19T07:12:26.396102Z",
     "shell.execute_reply.started": "2025-05-19T07:12:15.899907Z"
    },
    "papermill": {
     "duration": 8.054045,
     "end_time": "2025-05-15T07:37:21.645488",
     "exception": false,
     "start_time": "2025-05-15T07:37:13.591443",
     "status": "completed"
    },
    "tags": [],
    "trusted": true
   },
   "outputs": [],
   "source": [
    "# 📦 Imports and Configuration\n",
    "\n",
    "import os\n",
    "import json\n",
    "import random\n",
    "import numpy as np\n",
    "import pandas as pd\n",
    "import matplotlib.pyplot as plt\n",
    "import seaborn as sns\n",
    "\n",
    "from sklearn.model_selection import train_test_split\n",
    "from sklearn.model_selection import KFold\n",
    "from sklearn.metrics import mean_squared_error, mean_absolute_error, r2_score\n",
    "\n",
    "import torch\n",
    "import torch.nn as nn\n",
    "import torch.optim as optim\n",
    "from tqdm import tqdm\n"
   ]
  },
  {
   "cell_type": "code",
   "execution_count": 49,
   "metadata": {
    "execution": {
     "iopub.execute_input": "2025-05-19T07:12:26.402773Z",
     "iopub.status.busy": "2025-05-19T07:12:26.402495Z",
     "iopub.status.idle": "2025-05-19T07:12:26.424251Z",
     "shell.execute_reply": "2025-05-19T07:12:26.423700Z",
     "shell.execute_reply.started": "2025-05-19T07:12:26.402750Z"
    },
    "papermill": {
     "duration": 0.009005,
     "end_time": "2025-05-15T07:37:21.656790",
     "exception": false,
     "start_time": "2025-05-15T07:37:21.647785",
     "status": "completed"
    },
    "tags": [],
    "trusted": true
   },
   "outputs": [
    {
     "name": "stdout",
     "output_type": "stream",
     "text": [
      "🛠 Device: cpu\n"
     ]
    }
   ],
   "source": [
    "# ➤ Paths for hyperparameter search: tuning runs, logs, results\n",
    "\n",
    "# ----------------------------\n",
    "# Device setup\n",
    "# ----------------------------\n",
    "device = torch.device(\"cuda\" if torch.cuda.is_available() else \"cpu\")\n",
    "print(f\"🛠 Device: {device}\")\n",
    "\n",
    "#DATA_PATH = \"/kaggle/input/wind-pressure-prediction-2025/windloading_train.csv\"\n",
    "#SAVE_ROOT = \"/kaggle/working\"\n",
    "\n",
    "DATA_PATH = \"/mnt/d/projects/wind_fluctuation_prediction_2025/data/processed/windloading_train.csv\"\n",
    "SAVE_ROOT = \"/mnt/d/projects/wind_fluctuation_prediction_2025/experiments\"\n",
    "\n",
    "TUNING_DIR = os.path.join(SAVE_ROOT, \"tuning_mlp\")\n",
    "LOG_CSV_PATH = os.path.join(SAVE_ROOT, \"experiments_log.csv\")\n",
    "\n",
    "os.makedirs(TUNING_DIR, exist_ok=True)\n",
    "\n",
    "# ➤ Function to create a run-specific directory\n",
    "def create_run_directory(hidden_dim, lr, batch_size=64, epochs=500, activation_fn=None, optimizer_name=None, base_dir=TUNING_DIR):\n",
    "    run_id = f\"mlp_{hidden_dim}h_{lr:.0e}lr_{batch_size}bs_{epochs}ep\"\n",
    "\n",
    "    # 👇 Добавим активацию в имя, если она передана\n",
    "    if activation_fn is not None:\n",
    "        run_id += f\"_{activation_fn.__name__}\"\n",
    "\n",
    "    # 👇 Добавим имя оптимизатора в имя, если оно передано\n",
    "    if optimizer_name is not None:\n",
    "        run_id += f\"_{optimizer_name}\"\n",
    "\n",
    "    run_dir = os.path.join(base_dir, run_id)\n",
    "    os.makedirs(run_dir, exist_ok=True)\n",
    "    print(f\"📂 Created run directory: {run_dir}\")\n",
    "    return run_id, run_dir"
   ]
  },
  {
   "cell_type": "code",
   "execution_count": 50,
   "metadata": {
    "execution": {
     "iopub.execute_input": "2025-05-19T07:12:26.398221Z",
     "iopub.status.busy": "2025-05-19T07:12:26.397802Z",
     "iopub.status.idle": "2025-05-19T07:12:26.401857Z",
     "shell.execute_reply": "2025-05-19T07:12:26.401327Z",
     "shell.execute_reply.started": "2025-05-19T07:12:26.398202Z"
    },
    "papermill": {
     "duration": 0.006178,
     "end_time": "2025-05-15T07:37:21.664743",
     "exception": false,
     "start_time": "2025-05-15T07:37:21.658565",
     "status": "completed"
    },
    "tags": [],
    "trusted": true
   },
   "outputs": [],
   "source": [
    "# ➤ Function for loading the dataset from CSV\n",
    "\n",
    "def load_dataset():\n",
    "    df = pd.read_csv(DATA_PATH)\n",
    "    print(f\"Dataset loaded: {df.shape[0]} rows, {df.shape[1]} columns\")\n",
    "    return df"
   ]
  },
  {
   "cell_type": "code",
   "execution_count": 51,
   "metadata": {
    "execution": {
     "iopub.execute_input": "2025-05-19T07:12:26.425092Z",
     "iopub.status.busy": "2025-05-19T07:12:26.424932Z",
     "iopub.status.idle": "2025-05-19T07:12:26.448955Z",
     "shell.execute_reply": "2025-05-19T07:12:26.448318Z",
     "shell.execute_reply.started": "2025-05-19T07:12:26.425080Z"
    },
    "papermill": {
     "duration": 0.006812,
     "end_time": "2025-05-15T07:37:21.673227",
     "exception": false,
     "start_time": "2025-05-15T07:37:21.666415",
     "status": "completed"
    },
    "tags": [],
    "trusted": true
   },
   "outputs": [],
   "source": [
    "# ➞ Function to compute regression metrics: MSE, MAE, R²\n",
    "\n",
    "def evaluate_regression(y_true, y_pred):\n",
    "    y_true_np = y_true.detach().cpu().numpy()\n",
    "    y_pred_np = y_pred.detach().cpu().numpy()\n",
    "\n",
    "    # 🔍 Remove NaNs before computing metrics\n",
    "    mask = ~np.isnan(y_true_np) & ~np.isnan(y_pred_np)\n",
    "    y_true_np = y_true_np[mask]\n",
    "    y_pred_np = y_pred_np[mask]\n",
    "\n",
    "    if len(y_true_np) == 0 or len(y_pred_np) == 0:\n",
    "        raise ValueError(\"No valid data points after removing NaNs.\")\n",
    "\n",
    "    mse = mean_squared_error(y_true_np, y_pred_np)\n",
    "    mae = mean_absolute_error(y_true_np, y_pred_np)\n",
    "    r2 = r2_score(y_true_np, y_pred_np)\n",
    "\n",
    "    return {\"MSE\": mse, \"MAE\": mae, \"R2\": r2}\n"
   ]
  },
  {
   "cell_type": "code",
   "execution_count": 52,
   "metadata": {
    "execution": {
     "iopub.execute_input": "2025-05-19T07:12:26.450591Z",
     "iopub.status.busy": "2025-05-19T07:12:26.450417Z",
     "iopub.status.idle": "2025-05-19T07:12:26.467628Z",
     "shell.execute_reply": "2025-05-19T07:12:26.467094Z",
     "shell.execute_reply.started": "2025-05-19T07:12:26.450578Z"
    },
    "papermill": {
     "duration": 0.007087,
     "end_time": "2025-05-15T07:37:21.681986",
     "exception": false,
     "start_time": "2025-05-15T07:37:21.674899",
     "status": "completed"
    },
    "tags": [],
    "trusted": true
   },
   "outputs": [],
   "source": [
    "# ➤ Definition of the MLP architecture with customizable activation function\n",
    "\n",
    "class MLP(nn.Module):\n",
    "    def __init__(self, input_dim, hidden_dim, output_dim, activation_fn):\n",
    "        super(MLP, self).__init__()\n",
    "        self.model = nn.Sequential(\n",
    "            nn.Linear(input_dim, hidden_dim),\n",
    "            activation_fn(),\n",
    "            nn.Linear(hidden_dim, hidden_dim),\n",
    "            activation_fn(),\n",
    "            nn.Linear(hidden_dim, output_dim)\n",
    "        )\n",
    "\n",
    "    def forward(self, x):\n",
    "        return self.model(x)\n"
   ]
  },
  {
   "cell_type": "code",
   "execution_count": 53,
   "metadata": {
    "execution": {
     "iopub.execute_input": "2025-05-19T07:12:26.487250Z",
     "iopub.status.busy": "2025-05-19T07:12:26.486868Z",
     "iopub.status.idle": "2025-05-19T07:12:26.516530Z",
     "shell.execute_reply": "2025-05-19T07:12:26.516017Z",
     "shell.execute_reply.started": "2025-05-19T07:12:26.487224Z"
    },
    "papermill": {
     "duration": 11.6177,
     "end_time": "2025-05-15T07:37:33.312840",
     "exception": false,
     "start_time": "2025-05-15T07:37:21.695140",
     "status": "completed"
    },
    "tags": [],
    "trusted": true
   },
   "outputs": [],
   "source": [
    "# ➤ Training function for MLP model: used in Random Search and experiment tracking\n",
    "\n",
    "def train_mlp(hidden_dim, lr, batch_size, epochs, output_dim=1, activation_fn=nn.ReLU, optimizer_name=\"Adam\"):\n",
    "\n",
    "    # ----------------------------\n",
    "    # Ensure CSV file exists and has header\n",
    "    # ----------------------------\n",
    "    if not os.path.exists(LOG_CSV_PATH):\n",
    "        with open(LOG_CSV_PATH, \"w\") as f:\n",
    "            f.write(\"run_id,hidden_dim,lr,batch_size,activation_fn,optimizer_name,R2,MAE,MSE\\n\")\n",
    "\n",
    "\n",
    "    # ----------------------------\n",
    "    # Load dataset\n",
    "    # ----------------------------\n",
    "    df = load_dataset()\n",
    "    X = df[['X_int', 'Y_int', 'X_fac', 'Y_fac', 'Ang']]\n",
    "    y = df[['StdDev']]\n",
    "    input_dim = X.shape[1]\n",
    "\n",
    "    # 🔍 Проверка первых строк X и y\n",
    "    print(\"📄 Features (X):\")\n",
    "    display(X.head())\n",
    "\n",
    "    print(\"\\n🎯 Target (y):\")\n",
    "    display(y.head())\n",
    "\n",
    "    # 📐 Размерности\n",
    "    print(f\"\\n✅ X shape: {X.shape}\")\n",
    "    print(f\"✅ y shape: {y.shape}\")\n",
    "\n",
    "\n",
    "    # ----------------------------\n",
    "    # K-Fold Cross-Validation\n",
    "    # ----------------------------\n",
    "    from sklearn.model_selection import KFold\n",
    "    kf = KFold(n_splits=5, shuffle=True, random_state=42)\n",
    "    fold_metrics = []\n",
    "\n",
    "    for fold, (train_idx, val_idx) in enumerate(kf.split(X)):\n",
    "        print(f\"\\n🔁 Fold {fold + 1} / 5\")\n",
    "\n",
    "        # 📊 Разделение данных\n",
    "        X_train, X_val = X.iloc[train_idx], X.iloc[val_idx]\n",
    "        y_train, y_val = y.iloc[train_idx], y.iloc[val_idx]\n",
    "\n",
    "        # 🔁 Преобразуем в тензоры\n",
    "        X_train = torch.tensor(X_train.values, dtype=torch.float32).to(device)\n",
    "        X_val = torch.tensor(X_val.values, dtype=torch.float32).to(device)\n",
    "        y_train = torch.tensor(y_train.values, dtype=torch.float32).to(device)\n",
    "        y_val = torch.tensor(y_val.values, dtype=torch.float32).to(device)\n",
    "\n",
    "        # 🧠 Создание новой модели на каждый фолд\n",
    "        model = MLP(input_dim, hidden_dim, output_dim, activation_fn=activation_fn).to(device)\n",
    "\n",
    "         # ----------------------------\n",
    "        # Training loop\n",
    "        # ----------------------------\n",
    "        criterion = nn.MSELoss()\n",
    "        if optimizer_name == \"Adam\":\n",
    "            optimizer = optim.Adam(model.parameters(), lr=lr)\n",
    "        elif optimizer_name == \"SGD\":\n",
    "            optimizer = optim.SGD(model.parameters(), lr=lr)\n",
    "        elif optimizer_name == \"RMSprop\":\n",
    "            optimizer = optim.RMSprop(model.parameters(), lr=lr)\n",
    "        elif optimizer_name == \"AdamW\":\n",
    "            optimizer = optim.AdamW(model.parameters(), lr=lr)\n",
    "        else:\n",
    "            raise ValueError(f\"Unknown optimizer: {optimizer_name}\")\n",
    "        train_loss_history = []\n",
    "\n",
    "        # 🔁 Early Stopping init\n",
    "        early_stopping_patience = 20\n",
    "        best_loss = float(\"inf\")\n",
    "        patience_counter = 0\n",
    "\n",
    "        for epoch in tqdm(range(epochs), desc=\"Epochs\"):\n",
    "            model.train()\n",
    "            optimizer.zero_grad()\n",
    "            outputs = model(X_train)\n",
    "            loss = criterion(outputs, y_train)\n",
    "            loss.backward()\n",
    "            optimizer.step()\n",
    "            current_loss = loss.item()\n",
    "            train_loss_history.append(loss.item())\n",
    "\n",
    "            if (epoch + 1) % 10 == 0:\n",
    "                log_str = f\"Epoch [{epoch+1}/{epochs}], Loss: {loss.item():.4f}\"\n",
    "                print(log_str)\n",
    "\n",
    "            # 💡 Early Stopping check\n",
    "                if current_loss < best_loss:\n",
    "                    best_loss = current_loss\n",
    "                    patience_counter = 0\n",
    "                else:\n",
    "                    patience_counter += 1\n",
    "                    if patience_counter >= early_stopping_patience:\n",
    "                        print(f\"⏹️ Early stopping at epoch {epoch+1} — no improvement in {early_stopping_patience} epochs.\")\n",
    "                        break\n",
    "\n",
    "        model.eval()\n",
    "        with torch.no_grad():\n",
    "            y_pred = model(X_val)\n",
    "            metrics = evaluate_regression(y_val, y_pred)\n",
    "            fold_metrics.append(metrics)\n",
    "            print(f\"📈 Fold {fold + 1} metrics: {metrics}\")\n",
    "\n",
    "    # ----------------------------\n",
    "    # Average metrics across folds\n",
    "    # ----------------------------\n",
    "    avg_metrics = {\n",
    "        \"MSE\": sum(m[\"MSE\"] for m in fold_metrics) / len(fold_metrics),\n",
    "        \"MAE\": sum(m[\"MAE\"] for m in fold_metrics) / len(fold_metrics),\n",
    "        \"R2\":  sum(m[\"R2\"]  for m in fold_metrics) / len(fold_metrics),\n",
    "    }\n",
    "    \n",
    "    # ----------------------------\n",
    "    # Run directory\n",
    "    # ----------------------------\n",
    "    run_id, run_dir = create_run_directory(\n",
    "        hidden_dim=hidden_dim,\n",
    "        lr=lr,\n",
    "        batch_size=batch_size,\n",
    "        epochs=epochs,\n",
    "        activation_fn=activation_fn,\n",
    "        optimizer_name=optimizer_name\n",
    "    )\n",
    "\n",
    "    # ----------------------------\n",
    "    # Save config\n",
    "    # ----------------------------\n",
    "    config = {\n",
    "        \"input_dim\": input_dim,\n",
    "        \"hidden_dim\": hidden_dim,\n",
    "        \"output_dim\": output_dim,\n",
    "        \"lr\": lr,\n",
    "        \"epochs\": epochs,\n",
    "        \"batch_size\": batch_size,\n",
    "        \"activation_fn\": activation_fn.__name__,\n",
    "        \"optimizer_name\": optimizer_name,\n",
    "        \"features\": ['X_int', 'Y_int', 'X_fac', 'Y_fac', 'Ang'],\n",
    "        \"targets\": ['Mean']\n",
    "    }\n",
    "    config_filename = f\"config_{run_id}_ex.json\"\n",
    "    with open(os.path.join(run_dir, config_filename), \"w\") as f:\n",
    "        json.dump(config, f, indent=4)\n",
    "\n",
    "    # ----------------------------\n",
    "    # Append summary to global CSV log\n",
    "    # ----------------------------\n",
    "    with open(LOG_CSV_PATH, \"a\") as f:\n",
    "        f.write(f\"{run_id},{hidden_dim},{lr:.0e},{batch_size},{activation_fn.__name__},{optimizer_name},{avg_metrics['R2']:.4f},{avg_metrics['MAE']:.4f},{avg_metrics['MSE']:.6f}\\n\")\n",
    "\n",
    "    print(f\"\\n📊 Average metrics across 5 folds:\\n{avg_metrics}\")\n",
    "    return run_id, avg_metrics\n",
    "    \n",
    "\n"
   ]
  },
  {
   "cell_type": "code",
   "execution_count": null,
   "metadata": {
    "execution": {
     "iopub.execute_input": "2025-05-19T07:13:37.883010Z",
     "iopub.status.busy": "2025-05-19T07:13:37.882469Z",
     "iopub.status.idle": "2025-05-19T07:17:09.298815Z",
     "shell.execute_reply": "2025-05-19T07:17:09.298216Z",
     "shell.execute_reply.started": "2025-05-19T07:13:37.882984Z"
    },
    "trusted": true
   },
   "outputs": [
    {
     "name": "stdout",
     "output_type": "stream",
     "text": [
      "\n",
      "🔁 Run 1/2\n",
      "→ hidden_dim: 128, lr: 0.00900, batch size: 16, activation_fn: Tanh, optimizer_name: Adam\n",
      "Dataset loaded: 121113 rows, 15 columns\n",
      "📄 Features (X):\n"
     ]
    },
    {
     "data": {
      "text/html": [
       "<div>\n",
       "<style scoped>\n",
       "    .dataframe tbody tr th:only-of-type {\n",
       "        vertical-align: middle;\n",
       "    }\n",
       "\n",
       "    .dataframe tbody tr th {\n",
       "        vertical-align: top;\n",
       "    }\n",
       "\n",
       "    .dataframe thead th {\n",
       "        text-align: right;\n",
       "    }\n",
       "</style>\n",
       "<table border=\"1\" class=\"dataframe\">\n",
       "  <thead>\n",
       "    <tr style=\"text-align: right;\">\n",
       "      <th></th>\n",
       "      <th>X_int</th>\n",
       "      <th>Y_int</th>\n",
       "      <th>X_fac</th>\n",
       "      <th>Y_fac</th>\n",
       "      <th>Ang</th>\n",
       "    </tr>\n",
       "  </thead>\n",
       "  <tbody>\n",
       "    <tr>\n",
       "      <th>0</th>\n",
       "      <td>8</td>\n",
       "      <td>6</td>\n",
       "      <td>4</td>\n",
       "      <td>5</td>\n",
       "      <td>20</td>\n",
       "    </tr>\n",
       "    <tr>\n",
       "      <th>1</th>\n",
       "      <td>5</td>\n",
       "      <td>3</td>\n",
       "      <td>3</td>\n",
       "      <td>4</td>\n",
       "      <td>10</td>\n",
       "    </tr>\n",
       "    <tr>\n",
       "      <th>2</th>\n",
       "      <td>1</td>\n",
       "      <td>5</td>\n",
       "      <td>17</td>\n",
       "      <td>8</td>\n",
       "      <td>150</td>\n",
       "    </tr>\n",
       "    <tr>\n",
       "      <th>3</th>\n",
       "      <td>4</td>\n",
       "      <td>6</td>\n",
       "      <td>19</td>\n",
       "      <td>8</td>\n",
       "      <td>10</td>\n",
       "    </tr>\n",
       "    <tr>\n",
       "      <th>4</th>\n",
       "      <td>7</td>\n",
       "      <td>3</td>\n",
       "      <td>21</td>\n",
       "      <td>1</td>\n",
       "      <td>60</td>\n",
       "    </tr>\n",
       "  </tbody>\n",
       "</table>\n",
       "</div>"
      ],
      "text/plain": [
       "   X_int  Y_int  X_fac  Y_fac  Ang\n",
       "0      8      6      4      5   20\n",
       "1      5      3      3      4   10\n",
       "2      1      5     17      8  150\n",
       "3      4      6     19      8   10\n",
       "4      7      3     21      1   60"
      ]
     },
     "metadata": {},
     "output_type": "display_data"
    },
    {
     "name": "stdout",
     "output_type": "stream",
     "text": [
      "\n",
      "🎯 Target (y):\n"
     ]
    },
    {
     "data": {
      "text/html": [
       "<div>\n",
       "<style scoped>\n",
       "    .dataframe tbody tr th:only-of-type {\n",
       "        vertical-align: middle;\n",
       "    }\n",
       "\n",
       "    .dataframe tbody tr th {\n",
       "        vertical-align: top;\n",
       "    }\n",
       "\n",
       "    .dataframe thead th {\n",
       "        text-align: right;\n",
       "    }\n",
       "</style>\n",
       "<table border=\"1\" class=\"dataframe\">\n",
       "  <thead>\n",
       "    <tr style=\"text-align: right;\">\n",
       "      <th></th>\n",
       "      <th>StdDev</th>\n",
       "    </tr>\n",
       "  </thead>\n",
       "  <tbody>\n",
       "    <tr>\n",
       "      <th>0</th>\n",
       "      <td>0.166314</td>\n",
       "    </tr>\n",
       "    <tr>\n",
       "      <th>1</th>\n",
       "      <td>0.167147</td>\n",
       "    </tr>\n",
       "    <tr>\n",
       "      <th>2</th>\n",
       "      <td>0.171097</td>\n",
       "    </tr>\n",
       "    <tr>\n",
       "      <th>3</th>\n",
       "      <td>0.166579</td>\n",
       "    </tr>\n",
       "    <tr>\n",
       "      <th>4</th>\n",
       "      <td>0.267192</td>\n",
       "    </tr>\n",
       "  </tbody>\n",
       "</table>\n",
       "</div>"
      ],
      "text/plain": [
       "     StdDev\n",
       "0  0.166314\n",
       "1  0.167147\n",
       "2  0.171097\n",
       "3  0.166579\n",
       "4  0.267192"
      ]
     },
     "metadata": {},
     "output_type": "display_data"
    },
    {
     "name": "stdout",
     "output_type": "stream",
     "text": [
      "\n",
      "✅ X shape: (121113, 5)\n",
      "✅ y shape: (121113, 1)\n",
      "\n",
      "🔁 Fold 1 / 5\n"
     ]
    },
    {
     "name": "stderr",
     "output_type": "stream",
     "text": [
      "Epochs:  12%|█▏        | 12/100 [00:00<00:06, 13.28it/s]"
     ]
    },
    {
     "name": "stdout",
     "output_type": "stream",
     "text": [
      "Epoch [10/100], Loss: 0.5540\n"
     ]
    },
    {
     "name": "stderr",
     "output_type": "stream",
     "text": [
      "Epochs:  22%|██▏       | 22/100 [00:01<00:05, 13.10it/s]"
     ]
    },
    {
     "name": "stdout",
     "output_type": "stream",
     "text": [
      "Epoch [20/100], Loss: 0.0184\n"
     ]
    },
    {
     "name": "stderr",
     "output_type": "stream",
     "text": [
      "Epochs:  32%|███▏      | 32/100 [00:02<00:05, 13.00it/s]"
     ]
    },
    {
     "name": "stdout",
     "output_type": "stream",
     "text": [
      "Epoch [30/100], Loss: 0.0589\n"
     ]
    },
    {
     "name": "stderr",
     "output_type": "stream",
     "text": [
      "Epochs:  42%|████▏     | 42/100 [00:03<00:04, 12.94it/s]"
     ]
    },
    {
     "name": "stdout",
     "output_type": "stream",
     "text": [
      "Epoch [40/100], Loss: 0.0236\n"
     ]
    },
    {
     "name": "stderr",
     "output_type": "stream",
     "text": [
      "Epochs:  52%|█████▏    | 52/100 [00:03<00:03, 14.00it/s]"
     ]
    },
    {
     "name": "stdout",
     "output_type": "stream",
     "text": [
      "Epoch [50/100], Loss: 0.0090\n"
     ]
    },
    {
     "name": "stderr",
     "output_type": "stream",
     "text": [
      "Epochs:  62%|██████▏   | 62/100 [00:04<00:02, 13.91it/s]"
     ]
    },
    {
     "name": "stdout",
     "output_type": "stream",
     "text": [
      "Epoch [60/100], Loss: 0.0090\n"
     ]
    },
    {
     "name": "stderr",
     "output_type": "stream",
     "text": [
      "Epochs:  72%|███████▏  | 72/100 [00:05<00:02, 13.10it/s]"
     ]
    },
    {
     "name": "stdout",
     "output_type": "stream",
     "text": [
      "Epoch [70/100], Loss: 0.0072\n"
     ]
    },
    {
     "name": "stderr",
     "output_type": "stream",
     "text": [
      "Epochs:  82%|████████▏ | 82/100 [00:06<00:01, 13.02it/s]"
     ]
    },
    {
     "name": "stdout",
     "output_type": "stream",
     "text": [
      "Epoch [80/100], Loss: 0.0065\n"
     ]
    },
    {
     "name": "stderr",
     "output_type": "stream",
     "text": [
      "Epochs:  92%|█████████▏| 92/100 [00:06<00:00, 12.94it/s]"
     ]
    },
    {
     "name": "stdout",
     "output_type": "stream",
     "text": [
      "Epoch [90/100], Loss: 0.0066\n"
     ]
    },
    {
     "name": "stderr",
     "output_type": "stream",
     "text": [
      "Epochs: 100%|██████████| 100/100 [00:07<00:00, 13.17it/s]\n"
     ]
    },
    {
     "name": "stdout",
     "output_type": "stream",
     "text": [
      "Epoch [100/100], Loss: 0.0064\n",
      "📈 Fold 1 metrics: {'MSE': 0.006452155765146017, 'MAE': 0.06351377069950104, 'R2': 0.07511883974075317}\n",
      "\n",
      "🔁 Fold 2 / 5\n"
     ]
    },
    {
     "name": "stderr",
     "output_type": "stream",
     "text": [
      "Epochs:  12%|█▏        | 12/100 [00:00<00:07, 12.33it/s]"
     ]
    },
    {
     "name": "stdout",
     "output_type": "stream",
     "text": [
      "Epoch [10/100], Loss: 0.7638\n"
     ]
    },
    {
     "name": "stderr",
     "output_type": "stream",
     "text": [
      "Epochs:  22%|██▏       | 22/100 [00:01<00:06, 12.46it/s]"
     ]
    },
    {
     "name": "stdout",
     "output_type": "stream",
     "text": [
      "Epoch [20/100], Loss: 0.0841\n"
     ]
    },
    {
     "name": "stderr",
     "output_type": "stream",
     "text": [
      "Epochs:  32%|███▏      | 32/100 [00:02<00:05, 12.31it/s]"
     ]
    },
    {
     "name": "stdout",
     "output_type": "stream",
     "text": [
      "Epoch [30/100], Loss: 0.0223\n"
     ]
    },
    {
     "name": "stderr",
     "output_type": "stream",
     "text": [
      "Epochs:  40%|████      | 40/100 [00:03<00:05, 10.07it/s]"
     ]
    },
    {
     "name": "stdout",
     "output_type": "stream",
     "text": [
      "Epoch [40/100], Loss: 0.0367\n"
     ]
    },
    {
     "name": "stderr",
     "output_type": "stream",
     "text": [
      "Epochs:  51%|█████     | 51/100 [00:04<00:05,  8.55it/s]"
     ]
    },
    {
     "name": "stdout",
     "output_type": "stream",
     "text": [
      "Epoch [50/100], Loss: 0.0071\n"
     ]
    },
    {
     "name": "stderr",
     "output_type": "stream",
     "text": [
      "Epochs:  61%|██████    | 61/100 [00:05<00:05,  7.69it/s]"
     ]
    },
    {
     "name": "stdout",
     "output_type": "stream",
     "text": [
      "Epoch [60/100], Loss: 0.0104\n"
     ]
    },
    {
     "name": "stderr",
     "output_type": "stream",
     "text": [
      "Epochs:  71%|███████   | 71/100 [00:07<00:03,  7.65it/s]"
     ]
    },
    {
     "name": "stdout",
     "output_type": "stream",
     "text": [
      "Epoch [70/100], Loss: 0.0065\n"
     ]
    },
    {
     "name": "stderr",
     "output_type": "stream",
     "text": [
      "Epochs:  81%|████████  | 81/100 [00:08<00:02,  7.61it/s]"
     ]
    },
    {
     "name": "stdout",
     "output_type": "stream",
     "text": [
      "Epoch [80/100], Loss: 0.0067\n"
     ]
    },
    {
     "name": "stderr",
     "output_type": "stream",
     "text": [
      "Epochs:  91%|█████████ | 91/100 [00:09<00:01,  8.47it/s]"
     ]
    },
    {
     "name": "stdout",
     "output_type": "stream",
     "text": [
      "Epoch [90/100], Loss: 0.0064\n"
     ]
    },
    {
     "name": "stderr",
     "output_type": "stream",
     "text": [
      "Epochs: 100%|██████████| 100/100 [00:10<00:00,  9.14it/s]\n"
     ]
    },
    {
     "name": "stdout",
     "output_type": "stream",
     "text": [
      "Epoch [100/100], Loss: 0.0062\n",
      "📈 Fold 2 metrics: {'MSE': 0.006220802199095488, 'MAE': 0.0617888905107975, 'R2': 0.10539442300796509}\n",
      "\n",
      "🔁 Fold 3 / 5\n"
     ]
    },
    {
     "name": "stderr",
     "output_type": "stream",
     "text": [
      "Epochs:  11%|█         | 11/100 [00:01<00:10,  8.13it/s]"
     ]
    },
    {
     "name": "stdout",
     "output_type": "stream",
     "text": [
      "Epoch [10/100], Loss: 0.8254\n"
     ]
    },
    {
     "name": "stderr",
     "output_type": "stream",
     "text": [
      "Epochs:  21%|██        | 21/100 [00:02<00:09,  8.61it/s]"
     ]
    },
    {
     "name": "stdout",
     "output_type": "stream",
     "text": [
      "Epoch [20/100], Loss: 0.0337\n"
     ]
    },
    {
     "name": "stderr",
     "output_type": "stream",
     "text": [
      "Epochs:  31%|███       | 31/100 [00:03<00:09,  6.97it/s]"
     ]
    },
    {
     "name": "stdout",
     "output_type": "stream",
     "text": [
      "Epoch [30/100], Loss: 0.0423\n"
     ]
    },
    {
     "name": "stderr",
     "output_type": "stream",
     "text": [
      "Epochs:  41%|████      | 41/100 [00:05<00:07,  8.14it/s]"
     ]
    },
    {
     "name": "stdout",
     "output_type": "stream",
     "text": [
      "Epoch [40/100], Loss: 0.0304\n"
     ]
    },
    {
     "name": "stderr",
     "output_type": "stream",
     "text": [
      "Epochs:  51%|█████     | 51/100 [00:06<00:05,  8.26it/s]"
     ]
    },
    {
     "name": "stdout",
     "output_type": "stream",
     "text": [
      "Epoch [50/100], Loss: 0.0082\n"
     ]
    },
    {
     "name": "stderr",
     "output_type": "stream",
     "text": [
      "Epochs:  61%|██████    | 61/100 [00:07<00:04,  8.60it/s]"
     ]
    },
    {
     "name": "stdout",
     "output_type": "stream",
     "text": [
      "Epoch [60/100], Loss: 0.0090\n"
     ]
    },
    {
     "name": "stderr",
     "output_type": "stream",
     "text": [
      "Epochs:  71%|███████   | 71/100 [00:08<00:03,  7.87it/s]"
     ]
    },
    {
     "name": "stdout",
     "output_type": "stream",
     "text": [
      "Epoch [70/100], Loss: 0.0075\n"
     ]
    },
    {
     "name": "stderr",
     "output_type": "stream",
     "text": [
      "Epochs:  81%|████████  | 81/100 [00:10<00:02,  8.29it/s]"
     ]
    },
    {
     "name": "stdout",
     "output_type": "stream",
     "text": [
      "Epoch [80/100], Loss: 0.0064\n"
     ]
    },
    {
     "name": "stderr",
     "output_type": "stream",
     "text": [
      "Epochs:  91%|█████████ | 91/100 [00:11<00:01,  8.69it/s]"
     ]
    },
    {
     "name": "stdout",
     "output_type": "stream",
     "text": [
      "Epoch [90/100], Loss: 0.0064\n"
     ]
    },
    {
     "name": "stderr",
     "output_type": "stream",
     "text": [
      "Epochs: 100%|██████████| 100/100 [00:12<00:00,  8.18it/s]\n"
     ]
    },
    {
     "name": "stdout",
     "output_type": "stream",
     "text": [
      "Epoch [100/100], Loss: 0.0064\n",
      "📈 Fold 3 metrics: {'MSE': 0.0064265551045536995, 'MAE': 0.06034469231963158, 'R2': 0.0837317705154419}\n",
      "\n",
      "🔁 Fold 4 / 5\n"
     ]
    },
    {
     "name": "stderr",
     "output_type": "stream",
     "text": [
      "Epochs:  11%|█         | 11/100 [00:01<00:10,  8.85it/s]"
     ]
    },
    {
     "name": "stdout",
     "output_type": "stream",
     "text": [
      "Epoch [10/100], Loss: 0.7125\n"
     ]
    },
    {
     "name": "stderr",
     "output_type": "stream",
     "text": [
      "Epochs:  21%|██        | 21/100 [00:02<00:09,  8.68it/s]"
     ]
    },
    {
     "name": "stdout",
     "output_type": "stream",
     "text": [
      "Epoch [20/100], Loss: 0.1755\n"
     ]
    },
    {
     "name": "stderr",
     "output_type": "stream",
     "text": [
      "Epochs:  31%|███       | 31/100 [00:03<00:07,  8.76it/s]"
     ]
    },
    {
     "name": "stdout",
     "output_type": "stream",
     "text": [
      "Epoch [30/100], Loss: 0.0119\n"
     ]
    },
    {
     "name": "stderr",
     "output_type": "stream",
     "text": [
      "Epochs:  41%|████      | 41/100 [00:04<00:06,  8.61it/s]"
     ]
    },
    {
     "name": "stdout",
     "output_type": "stream",
     "text": [
      "Epoch [40/100], Loss: 0.0189\n"
     ]
    },
    {
     "name": "stderr",
     "output_type": "stream",
     "text": [
      "Epochs:  51%|█████     | 51/100 [00:05<00:05,  8.97it/s]"
     ]
    },
    {
     "name": "stdout",
     "output_type": "stream",
     "text": [
      "Epoch [50/100], Loss: 0.0176\n"
     ]
    },
    {
     "name": "stderr",
     "output_type": "stream",
     "text": [
      "Epochs:  61%|██████    | 61/100 [00:07<00:04,  8.70it/s]"
     ]
    },
    {
     "name": "stdout",
     "output_type": "stream",
     "text": [
      "Epoch [60/100], Loss: 0.0065\n"
     ]
    },
    {
     "name": "stderr",
     "output_type": "stream",
     "text": [
      "Epochs:  71%|███████   | 71/100 [00:08<00:03,  8.73it/s]"
     ]
    },
    {
     "name": "stdout",
     "output_type": "stream",
     "text": [
      "Epoch [70/100], Loss: 0.0079\n"
     ]
    },
    {
     "name": "stderr",
     "output_type": "stream",
     "text": [
      "Epochs:  81%|████████  | 81/100 [00:09<00:02,  8.46it/s]"
     ]
    },
    {
     "name": "stdout",
     "output_type": "stream",
     "text": [
      "Epoch [80/100], Loss: 0.0063\n"
     ]
    },
    {
     "name": "stderr",
     "output_type": "stream",
     "text": [
      "Epochs:  91%|█████████ | 91/100 [00:10<00:01,  8.64it/s]"
     ]
    },
    {
     "name": "stdout",
     "output_type": "stream",
     "text": [
      "Epoch [90/100], Loss: 0.0064\n"
     ]
    },
    {
     "name": "stderr",
     "output_type": "stream",
     "text": [
      "Epochs: 100%|██████████| 100/100 [00:11<00:00,  8.56it/s]\n"
     ]
    },
    {
     "name": "stdout",
     "output_type": "stream",
     "text": [
      "Epoch [100/100], Loss: 0.0062\n",
      "📈 Fold 4 metrics: {'MSE': 0.006088986527174711, 'MAE': 0.06142287701368332, 'R2': 0.10518527030944824}\n",
      "\n",
      "🔁 Fold 5 / 5\n"
     ]
    },
    {
     "name": "stderr",
     "output_type": "stream",
     "text": [
      "Epochs:  11%|█         | 11/100 [00:01<00:10,  8.64it/s]"
     ]
    },
    {
     "name": "stdout",
     "output_type": "stream",
     "text": [
      "Epoch [10/100], Loss: 0.7107\n"
     ]
    },
    {
     "name": "stderr",
     "output_type": "stream",
     "text": [
      "Epochs:  21%|██        | 21/100 [00:02<00:11,  7.11it/s]"
     ]
    },
    {
     "name": "stdout",
     "output_type": "stream",
     "text": [
      "Epoch [20/100], Loss: 0.1561\n"
     ]
    },
    {
     "name": "stderr",
     "output_type": "stream",
     "text": [
      "Epochs:  31%|███       | 31/100 [00:03<00:09,  7.24it/s]"
     ]
    },
    {
     "name": "stdout",
     "output_type": "stream",
     "text": [
      "Epoch [30/100], Loss: 0.0086\n"
     ]
    },
    {
     "name": "stderr",
     "output_type": "stream",
     "text": [
      "Epochs:  41%|████      | 41/100 [00:05<00:09,  6.14it/s]"
     ]
    },
    {
     "name": "stdout",
     "output_type": "stream",
     "text": [
      "Epoch [40/100], Loss: 0.0245\n"
     ]
    },
    {
     "name": "stderr",
     "output_type": "stream",
     "text": [
      "Epochs:  51%|█████     | 51/100 [00:06<00:06,  7.16it/s]"
     ]
    },
    {
     "name": "stdout",
     "output_type": "stream",
     "text": [
      "Epoch [50/100], Loss: 0.0144\n"
     ]
    },
    {
     "name": "stderr",
     "output_type": "stream",
     "text": [
      "Epochs:  61%|██████    | 61/100 [00:08<00:05,  7.05it/s]"
     ]
    },
    {
     "name": "stdout",
     "output_type": "stream",
     "text": [
      "Epoch [60/100], Loss: 0.0072\n"
     ]
    },
    {
     "name": "stderr",
     "output_type": "stream",
     "text": [
      "Epochs:  71%|███████   | 71/100 [00:09<00:03,  7.62it/s]"
     ]
    },
    {
     "name": "stdout",
     "output_type": "stream",
     "text": [
      "Epoch [70/100], Loss: 0.0076\n"
     ]
    },
    {
     "name": "stderr",
     "output_type": "stream",
     "text": [
      "Epochs:  81%|████████  | 81/100 [00:10<00:02,  8.76it/s]"
     ]
    },
    {
     "name": "stdout",
     "output_type": "stream",
     "text": [
      "Epoch [80/100], Loss: 0.0066\n"
     ]
    },
    {
     "name": "stderr",
     "output_type": "stream",
     "text": [
      "Epochs:  91%|█████████ | 91/100 [00:12<00:01,  8.53it/s]"
     ]
    },
    {
     "name": "stdout",
     "output_type": "stream",
     "text": [
      "Epoch [90/100], Loss: 0.0063\n"
     ]
    },
    {
     "name": "stderr",
     "output_type": "stream",
     "text": [
      "Epochs: 100%|██████████| 100/100 [00:13<00:00,  7.65it/s]\n"
     ]
    },
    {
     "name": "stdout",
     "output_type": "stream",
     "text": [
      "Epoch [100/100], Loss: 0.0063\n",
      "📈 Fold 5 metrics: {'MSE': 0.006219390779733658, 'MAE': 0.0593307688832283, 'R2': 0.09384149312973022}\n",
      "📂 Created run directory: /mnt/d/projects/wind_fluctuation_prediction_2025/experiments/tuning_mlp/mlp_128h_9e-03lr_16bs_100ep_Tanh_Adam\n",
      "\n",
      "📊 Average metrics across 5 folds:\n",
      "{'MSE': 0.006281578075140714, 'MAE': 0.06128019988536835, 'R2': 0.09265435934066772}\n",
      "\n",
      "🔁 Run 2/2\n",
      "→ hidden_dim: 256, lr: 0.01100, batch size: 32, activation_fn: Tanh, optimizer_name: Adam\n",
      "Dataset loaded: 121113 rows, 15 columns\n",
      "📄 Features (X):\n"
     ]
    },
    {
     "data": {
      "text/html": [
       "<div>\n",
       "<style scoped>\n",
       "    .dataframe tbody tr th:only-of-type {\n",
       "        vertical-align: middle;\n",
       "    }\n",
       "\n",
       "    .dataframe tbody tr th {\n",
       "        vertical-align: top;\n",
       "    }\n",
       "\n",
       "    .dataframe thead th {\n",
       "        text-align: right;\n",
       "    }\n",
       "</style>\n",
       "<table border=\"1\" class=\"dataframe\">\n",
       "  <thead>\n",
       "    <tr style=\"text-align: right;\">\n",
       "      <th></th>\n",
       "      <th>X_int</th>\n",
       "      <th>Y_int</th>\n",
       "      <th>X_fac</th>\n",
       "      <th>Y_fac</th>\n",
       "      <th>Ang</th>\n",
       "    </tr>\n",
       "  </thead>\n",
       "  <tbody>\n",
       "    <tr>\n",
       "      <th>0</th>\n",
       "      <td>8</td>\n",
       "      <td>6</td>\n",
       "      <td>4</td>\n",
       "      <td>5</td>\n",
       "      <td>20</td>\n",
       "    </tr>\n",
       "    <tr>\n",
       "      <th>1</th>\n",
       "      <td>5</td>\n",
       "      <td>3</td>\n",
       "      <td>3</td>\n",
       "      <td>4</td>\n",
       "      <td>10</td>\n",
       "    </tr>\n",
       "    <tr>\n",
       "      <th>2</th>\n",
       "      <td>1</td>\n",
       "      <td>5</td>\n",
       "      <td>17</td>\n",
       "      <td>8</td>\n",
       "      <td>150</td>\n",
       "    </tr>\n",
       "    <tr>\n",
       "      <th>3</th>\n",
       "      <td>4</td>\n",
       "      <td>6</td>\n",
       "      <td>19</td>\n",
       "      <td>8</td>\n",
       "      <td>10</td>\n",
       "    </tr>\n",
       "    <tr>\n",
       "      <th>4</th>\n",
       "      <td>7</td>\n",
       "      <td>3</td>\n",
       "      <td>21</td>\n",
       "      <td>1</td>\n",
       "      <td>60</td>\n",
       "    </tr>\n",
       "  </tbody>\n",
       "</table>\n",
       "</div>"
      ],
      "text/plain": [
       "   X_int  Y_int  X_fac  Y_fac  Ang\n",
       "0      8      6      4      5   20\n",
       "1      5      3      3      4   10\n",
       "2      1      5     17      8  150\n",
       "3      4      6     19      8   10\n",
       "4      7      3     21      1   60"
      ]
     },
     "metadata": {},
     "output_type": "display_data"
    },
    {
     "name": "stdout",
     "output_type": "stream",
     "text": [
      "\n",
      "🎯 Target (y):\n"
     ]
    },
    {
     "data": {
      "text/html": [
       "<div>\n",
       "<style scoped>\n",
       "    .dataframe tbody tr th:only-of-type {\n",
       "        vertical-align: middle;\n",
       "    }\n",
       "\n",
       "    .dataframe tbody tr th {\n",
       "        vertical-align: top;\n",
       "    }\n",
       "\n",
       "    .dataframe thead th {\n",
       "        text-align: right;\n",
       "    }\n",
       "</style>\n",
       "<table border=\"1\" class=\"dataframe\">\n",
       "  <thead>\n",
       "    <tr style=\"text-align: right;\">\n",
       "      <th></th>\n",
       "      <th>StdDev</th>\n",
       "    </tr>\n",
       "  </thead>\n",
       "  <tbody>\n",
       "    <tr>\n",
       "      <th>0</th>\n",
       "      <td>0.166314</td>\n",
       "    </tr>\n",
       "    <tr>\n",
       "      <th>1</th>\n",
       "      <td>0.167147</td>\n",
       "    </tr>\n",
       "    <tr>\n",
       "      <th>2</th>\n",
       "      <td>0.171097</td>\n",
       "    </tr>\n",
       "    <tr>\n",
       "      <th>3</th>\n",
       "      <td>0.166579</td>\n",
       "    </tr>\n",
       "    <tr>\n",
       "      <th>4</th>\n",
       "      <td>0.267192</td>\n",
       "    </tr>\n",
       "  </tbody>\n",
       "</table>\n",
       "</div>"
      ],
      "text/plain": [
       "     StdDev\n",
       "0  0.166314\n",
       "1  0.167147\n",
       "2  0.171097\n",
       "3  0.166579\n",
       "4  0.267192"
      ]
     },
     "metadata": {},
     "output_type": "display_data"
    },
    {
     "name": "stdout",
     "output_type": "stream",
     "text": [
      "\n",
      "✅ X shape: (121113, 5)\n",
      "✅ y shape: (121113, 1)\n",
      "\n",
      "🔁 Fold 1 / 5\n"
     ]
    },
    {
     "name": "stderr",
     "output_type": "stream",
     "text": [
      "Epochs:  10%|█         | 10/100 [00:03<00:30,  2.96it/s]"
     ]
    },
    {
     "name": "stdout",
     "output_type": "stream",
     "text": [
      "Epoch [10/100], Loss: 1.0443\n"
     ]
    },
    {
     "name": "stderr",
     "output_type": "stream",
     "text": [
      "Epochs:  20%|██        | 20/100 [00:07<00:27,  2.94it/s]"
     ]
    },
    {
     "name": "stdout",
     "output_type": "stream",
     "text": [
      "Epoch [20/100], Loss: 0.1263\n"
     ]
    },
    {
     "name": "stderr",
     "output_type": "stream",
     "text": [
      "Epochs:  30%|███       | 30/100 [00:10<00:23,  2.95it/s]"
     ]
    },
    {
     "name": "stdout",
     "output_type": "stream",
     "text": [
      "Epoch [30/100], Loss: 0.0489\n"
     ]
    },
    {
     "name": "stderr",
     "output_type": "stream",
     "text": [
      "Epochs:  40%|████      | 40/100 [00:13<00:19,  3.08it/s]"
     ]
    },
    {
     "name": "stdout",
     "output_type": "stream",
     "text": [
      "Epoch [40/100], Loss: 0.0093\n"
     ]
    },
    {
     "name": "stderr",
     "output_type": "stream",
     "text": [
      "Epochs:  50%|█████     | 50/100 [00:17<00:18,  2.73it/s]"
     ]
    },
    {
     "name": "stdout",
     "output_type": "stream",
     "text": [
      "Epoch [50/100], Loss: 0.0110\n"
     ]
    },
    {
     "name": "stderr",
     "output_type": "stream",
     "text": [
      "Epochs:  60%|██████    | 60/100 [00:20<00:13,  2.88it/s]"
     ]
    },
    {
     "name": "stdout",
     "output_type": "stream",
     "text": [
      "Epoch [60/100], Loss: 0.0076\n"
     ]
    },
    {
     "name": "stderr",
     "output_type": "stream",
     "text": [
      "Epochs:  70%|███████   | 70/100 [00:24<00:10,  2.88it/s]"
     ]
    },
    {
     "name": "stdout",
     "output_type": "stream",
     "text": [
      "Epoch [70/100], Loss: 0.0066\n"
     ]
    },
    {
     "name": "stderr",
     "output_type": "stream",
     "text": [
      "Epochs:  80%|████████  | 80/100 [00:27<00:07,  2.73it/s]"
     ]
    },
    {
     "name": "stdout",
     "output_type": "stream",
     "text": [
      "Epoch [80/100], Loss: 0.0065\n"
     ]
    },
    {
     "name": "stderr",
     "output_type": "stream",
     "text": [
      "Epochs:  90%|█████████ | 90/100 [00:31<00:03,  2.98it/s]"
     ]
    },
    {
     "name": "stdout",
     "output_type": "stream",
     "text": [
      "Epoch [90/100], Loss: 0.0063\n"
     ]
    },
    {
     "name": "stderr",
     "output_type": "stream",
     "text": [
      "Epochs: 100%|██████████| 100/100 [00:34<00:00,  2.87it/s]\n"
     ]
    },
    {
     "name": "stdout",
     "output_type": "stream",
     "text": [
      "Epoch [100/100], Loss: 0.0062\n",
      "📈 Fold 1 metrics: {'MSE': 0.006294847931712866, 'MAE': 0.05997052788734436, 'R2': 0.0976681113243103}\n",
      "\n",
      "🔁 Fold 2 / 5\n"
     ]
    },
    {
     "name": "stderr",
     "output_type": "stream",
     "text": [
      "Epochs:  10%|█         | 10/100 [00:03<00:29,  3.09it/s]"
     ]
    },
    {
     "name": "stdout",
     "output_type": "stream",
     "text": [
      "Epoch [10/100], Loss: 0.4708\n"
     ]
    },
    {
     "name": "stderr",
     "output_type": "stream",
     "text": [
      "Epochs:  20%|██        | 20/100 [00:06<00:27,  2.91it/s]"
     ]
    },
    {
     "name": "stdout",
     "output_type": "stream",
     "text": [
      "Epoch [20/100], Loss: 0.0626\n"
     ]
    },
    {
     "name": "stderr",
     "output_type": "stream",
     "text": [
      "Epochs:  30%|███       | 30/100 [00:10<00:24,  2.90it/s]"
     ]
    },
    {
     "name": "stdout",
     "output_type": "stream",
     "text": [
      "Epoch [30/100], Loss: 0.0513\n"
     ]
    },
    {
     "name": "stderr",
     "output_type": "stream",
     "text": [
      "Epochs:  40%|████      | 40/100 [00:13<00:19,  3.01it/s]"
     ]
    },
    {
     "name": "stdout",
     "output_type": "stream",
     "text": [
      "Epoch [40/100], Loss: 0.0291\n"
     ]
    },
    {
     "name": "stderr",
     "output_type": "stream",
     "text": [
      "Epochs:  50%|█████     | 50/100 [00:16<00:15,  3.13it/s]"
     ]
    },
    {
     "name": "stdout",
     "output_type": "stream",
     "text": [
      "Epoch [50/100], Loss: 0.0141\n"
     ]
    },
    {
     "name": "stderr",
     "output_type": "stream",
     "text": [
      "Epochs:  60%|██████    | 60/100 [00:19<00:12,  3.17it/s]"
     ]
    },
    {
     "name": "stdout",
     "output_type": "stream",
     "text": [
      "Epoch [60/100], Loss: 0.0096\n"
     ]
    },
    {
     "name": "stderr",
     "output_type": "stream",
     "text": [
      "Epochs:  70%|███████   | 70/100 [00:23<00:11,  2.56it/s]"
     ]
    },
    {
     "name": "stdout",
     "output_type": "stream",
     "text": [
      "Epoch [70/100], Loss: 0.0075\n"
     ]
    },
    {
     "name": "stderr",
     "output_type": "stream",
     "text": [
      "Epochs:  80%|████████  | 80/100 [00:27<00:07,  2.61it/s]"
     ]
    },
    {
     "name": "stdout",
     "output_type": "stream",
     "text": [
      "Epoch [80/100], Loss: 0.0067\n"
     ]
    },
    {
     "name": "stderr",
     "output_type": "stream",
     "text": [
      "Epochs:  90%|█████████ | 90/100 [00:30<00:03,  3.18it/s]"
     ]
    },
    {
     "name": "stdout",
     "output_type": "stream",
     "text": [
      "Epoch [90/100], Loss: 0.0065\n"
     ]
    },
    {
     "name": "stderr",
     "output_type": "stream",
     "text": [
      "Epochs: 100%|██████████| 100/100 [00:34<00:00,  2.92it/s]\n"
     ]
    },
    {
     "name": "stdout",
     "output_type": "stream",
     "text": [
      "Epoch [100/100], Loss: 0.0065\n",
      "📈 Fold 2 metrics: {'MSE': 0.006461546290665865, 'MAE': 0.060765497386455536, 'R2': 0.07077330350875854}\n",
      "\n",
      "🔁 Fold 3 / 5\n"
     ]
    },
    {
     "name": "stderr",
     "output_type": "stream",
     "text": [
      "Epochs:  10%|█         | 10/100 [00:03<00:28,  3.15it/s]"
     ]
    },
    {
     "name": "stdout",
     "output_type": "stream",
     "text": [
      "Epoch [10/100], Loss: 0.7834\n"
     ]
    },
    {
     "name": "stderr",
     "output_type": "stream",
     "text": [
      "Epochs:  20%|██        | 20/100 [00:06<00:26,  3.00it/s]"
     ]
    },
    {
     "name": "stdout",
     "output_type": "stream",
     "text": [
      "Epoch [20/100], Loss: 0.0973\n"
     ]
    },
    {
     "name": "stderr",
     "output_type": "stream",
     "text": [
      "Epochs:  30%|███       | 30/100 [00:09<00:22,  3.17it/s]"
     ]
    },
    {
     "name": "stdout",
     "output_type": "stream",
     "text": [
      "Epoch [30/100], Loss: 0.0303\n"
     ]
    },
    {
     "name": "stderr",
     "output_type": "stream",
     "text": [
      "Epochs:  40%|████      | 40/100 [00:13<00:19,  3.08it/s]"
     ]
    },
    {
     "name": "stdout",
     "output_type": "stream",
     "text": [
      "Epoch [40/100], Loss: 0.0087\n"
     ]
    },
    {
     "name": "stderr",
     "output_type": "stream",
     "text": [
      "Epochs:  50%|█████     | 50/100 [00:16<00:15,  3.23it/s]"
     ]
    },
    {
     "name": "stdout",
     "output_type": "stream",
     "text": [
      "Epoch [50/100], Loss: 0.0112\n"
     ]
    },
    {
     "name": "stderr",
     "output_type": "stream",
     "text": [
      "Epochs:  60%|██████    | 60/100 [00:19<00:13,  2.92it/s]"
     ]
    },
    {
     "name": "stdout",
     "output_type": "stream",
     "text": [
      "Epoch [60/100], Loss: 0.0071\n"
     ]
    },
    {
     "name": "stderr",
     "output_type": "stream",
     "text": [
      "Epochs:  70%|███████   | 70/100 [00:23<00:09,  3.06it/s]"
     ]
    },
    {
     "name": "stdout",
     "output_type": "stream",
     "text": [
      "Epoch [70/100], Loss: 0.0068\n"
     ]
    },
    {
     "name": "stderr",
     "output_type": "stream",
     "text": [
      "Epochs:  80%|████████  | 80/100 [00:26<00:06,  3.12it/s]"
     ]
    },
    {
     "name": "stdout",
     "output_type": "stream",
     "text": [
      "Epoch [80/100], Loss: 0.0066\n"
     ]
    },
    {
     "name": "stderr",
     "output_type": "stream",
     "text": [
      "Epochs:  90%|█████████ | 90/100 [00:29<00:03,  3.11it/s]"
     ]
    },
    {
     "name": "stdout",
     "output_type": "stream",
     "text": [
      "Epoch [90/100], Loss: 0.0064\n"
     ]
    },
    {
     "name": "stderr",
     "output_type": "stream",
     "text": [
      "Epochs: 100%|██████████| 100/100 [00:32<00:00,  3.07it/s]\n"
     ]
    },
    {
     "name": "stdout",
     "output_type": "stream",
     "text": [
      "Epoch [100/100], Loss: 0.0063\n",
      "📈 Fold 3 metrics: {'MSE': 0.0063993544317781925, 'MAE': 0.061633795499801636, 'R2': 0.08760988712310791}\n",
      "\n",
      "🔁 Fold 4 / 5\n"
     ]
    },
    {
     "name": "stderr",
     "output_type": "stream",
     "text": [
      "Epochs:  10%|█         | 10/100 [00:03<00:34,  2.60it/s]"
     ]
    },
    {
     "name": "stdout",
     "output_type": "stream",
     "text": [
      "Epoch [10/100], Loss: 0.0648\n"
     ]
    },
    {
     "name": "stderr",
     "output_type": "stream",
     "text": [
      "Epochs:  20%|██        | 20/100 [00:07<00:26,  3.02it/s]"
     ]
    },
    {
     "name": "stdout",
     "output_type": "stream",
     "text": [
      "Epoch [20/100], Loss: 0.0203\n"
     ]
    },
    {
     "name": "stderr",
     "output_type": "stream",
     "text": [
      "Epochs:  30%|███       | 30/100 [00:10<00:21,  3.29it/s]"
     ]
    },
    {
     "name": "stdout",
     "output_type": "stream",
     "text": [
      "Epoch [30/100], Loss: 0.0157\n"
     ]
    },
    {
     "name": "stderr",
     "output_type": "stream",
     "text": [
      "Epochs:  40%|████      | 40/100 [00:13<00:20,  2.95it/s]"
     ]
    },
    {
     "name": "stdout",
     "output_type": "stream",
     "text": [
      "Epoch [40/100], Loss: 0.0089\n"
     ]
    },
    {
     "name": "stderr",
     "output_type": "stream",
     "text": [
      "Epochs:  50%|█████     | 50/100 [00:17<00:15,  3.18it/s]"
     ]
    },
    {
     "name": "stdout",
     "output_type": "stream",
     "text": [
      "Epoch [50/100], Loss: 0.0078\n"
     ]
    },
    {
     "name": "stderr",
     "output_type": "stream",
     "text": [
      "Epochs:  60%|██████    | 60/100 [00:20<00:14,  2.77it/s]"
     ]
    },
    {
     "name": "stdout",
     "output_type": "stream",
     "text": [
      "Epoch [60/100], Loss: 0.0068\n"
     ]
    },
    {
     "name": "stderr",
     "output_type": "stream",
     "text": [
      "Epochs:  70%|███████   | 70/100 [00:24<00:09,  3.02it/s]"
     ]
    },
    {
     "name": "stdout",
     "output_type": "stream",
     "text": [
      "Epoch [70/100], Loss: 0.0064\n"
     ]
    },
    {
     "name": "stderr",
     "output_type": "stream",
     "text": [
      "Epochs:  80%|████████  | 80/100 [00:27<00:06,  3.16it/s]"
     ]
    },
    {
     "name": "stdout",
     "output_type": "stream",
     "text": [
      "Epoch [80/100], Loss: 0.0062\n"
     ]
    },
    {
     "name": "stderr",
     "output_type": "stream",
     "text": [
      "Epochs:  90%|█████████ | 90/100 [00:30<00:03,  3.24it/s]"
     ]
    },
    {
     "name": "stdout",
     "output_type": "stream",
     "text": [
      "Epoch [90/100], Loss: 0.0062\n"
     ]
    },
    {
     "name": "stderr",
     "output_type": "stream",
     "text": [
      "Epochs: 100%|██████████| 100/100 [00:33<00:00,  2.95it/s]\n"
     ]
    },
    {
     "name": "stdout",
     "output_type": "stream",
     "text": [
      "Epoch [100/100], Loss: 0.0061\n",
      "📈 Fold 4 metrics: {'MSE': 0.005967882461845875, 'MAE': 0.05940442904829979, 'R2': 0.12298226356506348}\n",
      "\n",
      "🔁 Fold 5 / 5\n"
     ]
    },
    {
     "name": "stderr",
     "output_type": "stream",
     "text": [
      "Epochs:  10%|█         | 10/100 [00:03<00:28,  3.14it/s]"
     ]
    },
    {
     "name": "stdout",
     "output_type": "stream",
     "text": [
      "Epoch [10/100], Loss: 0.7838\n"
     ]
    },
    {
     "name": "stderr",
     "output_type": "stream",
     "text": [
      "Epochs:  20%|██        | 20/100 [00:06<00:26,  3.00it/s]"
     ]
    },
    {
     "name": "stdout",
     "output_type": "stream",
     "text": [
      "Epoch [20/100], Loss: 0.1217\n"
     ]
    },
    {
     "name": "stderr",
     "output_type": "stream",
     "text": [
      "Epochs:  30%|███       | 30/100 [00:09<00:22,  3.13it/s]"
     ]
    },
    {
     "name": "stdout",
     "output_type": "stream",
     "text": [
      "Epoch [30/100], Loss: 0.0295\n"
     ]
    },
    {
     "name": "stderr",
     "output_type": "stream",
     "text": [
      "Epochs:  40%|████      | 40/100 [00:13<00:22,  2.72it/s]"
     ]
    },
    {
     "name": "stdout",
     "output_type": "stream",
     "text": [
      "Epoch [40/100], Loss: 0.0112\n"
     ]
    },
    {
     "name": "stderr",
     "output_type": "stream",
     "text": [
      "Epochs:  50%|█████     | 50/100 [00:16<00:16,  3.12it/s]"
     ]
    },
    {
     "name": "stdout",
     "output_type": "stream",
     "text": [
      "Epoch [50/100], Loss: 0.0072\n"
     ]
    },
    {
     "name": "stderr",
     "output_type": "stream",
     "text": [
      "Epochs:  60%|██████    | 60/100 [00:20<00:13,  3.03it/s]"
     ]
    },
    {
     "name": "stdout",
     "output_type": "stream",
     "text": [
      "Epoch [60/100], Loss: 0.0073\n"
     ]
    },
    {
     "name": "stderr",
     "output_type": "stream",
     "text": [
      "Epochs:  70%|███████   | 70/100 [00:23<00:09,  3.19it/s]"
     ]
    },
    {
     "name": "stdout",
     "output_type": "stream",
     "text": [
      "Epoch [70/100], Loss: 0.0068\n"
     ]
    },
    {
     "name": "stderr",
     "output_type": "stream",
     "text": [
      "Epochs:  80%|████████  | 80/100 [00:26<00:07,  2.81it/s]"
     ]
    },
    {
     "name": "stdout",
     "output_type": "stream",
     "text": [
      "Epoch [80/100], Loss: 0.0064\n"
     ]
    },
    {
     "name": "stderr",
     "output_type": "stream",
     "text": [
      "Epochs:  90%|█████████ | 90/100 [00:29<00:03,  3.26it/s]"
     ]
    },
    {
     "name": "stdout",
     "output_type": "stream",
     "text": [
      "Epoch [90/100], Loss: 0.0063\n"
     ]
    },
    {
     "name": "stderr",
     "output_type": "stream",
     "text": [
      "Epochs: 100%|██████████| 100/100 [00:32<00:00,  3.04it/s]"
     ]
    },
    {
     "name": "stdout",
     "output_type": "stream",
     "text": [
      "Epoch [100/100], Loss: 0.0062\n",
      "📈 Fold 5 metrics: {'MSE': 0.006136191543191671, 'MAE': 0.060697685927152634, 'R2': 0.10596358776092529}\n",
      "📂 Created run directory: /mnt/d/projects/wind_fluctuation_prediction_2025/experiments/tuning_mlp/mlp_256h_1e-02lr_32bs_100ep_Tanh_Adam\n",
      "\n",
      "📊 Average metrics across 5 folds:\n",
      "{'MSE': 0.006251964531838894, 'MAE': 0.06049438714981079, 'R2': 0.0969994306564331}\n"
     ]
    },
    {
     "name": "stderr",
     "output_type": "stream",
     "text": [
      "\n"
     ]
    }
   ],
   "source": [
    "# 📁 src/tuning/random_search_mlp.py\n",
    "# ➤ Random Search for MLP model: selects hyperparameters and launches training\n",
    "\n",
    "# 🔧 Hyperparameter options\n",
    "# hidden_dim_choices = [64, 128, 256]\n",
    "hidden_dim_choices = [32, 64, 96, 128, 160, 192, 224, 256, 288, 320, 384]\n",
    "\n",
    "# lr_choices = [0.005, 0.006, 0.007, 0.008, 0.009, 0.010, 0.011, 0.012, 0.013, 0.014]\n",
    "lr_choices = [round(lr, 5) for lr in np.arange(0.001, 0.021, 0.001)]\n",
    "\n",
    "# batch_size_choices = [16, 32, 64]\n",
    "batch_size_choices = [8, 16, 32, 48, 64, 96, 128]\n",
    "activation_choices = [nn.Tanh]\n",
    "# activation_choices = [nn.ReLU, nn.LeakyReLU, nn.Tanh]\n",
    "optimizer_choices = [\"Adam\"]\n",
    "# optimizer_choices = [\"Adam\", \"AdamW\"]\n",
    "\n",
    "\n",
    "#hidden_dim_choices = [128, 264]\n",
    "#lr_choices = [ 1e-3, 5e-3]\n",
    "\n",
    "# 📌 Fixed parameters\n",
    "EPOCHS = 100\n",
    "OUTPUT_DIM = 1\n",
    "N_RUNS = 2 # Total number of runs\n",
    "\n",
    "# 🧪 Random Search loop\n",
    "for run in range(N_RUNS):\n",
    "    # Randomly select hyperparameters\n",
    "    hidden_dim = random.choice(hidden_dim_choices)\n",
    "    lr = random.choice(lr_choices)\n",
    "    batch_size = random.choice(batch_size_choices)\n",
    "    activation_fn=random.choice(activation_choices)\n",
    "    optimizer_name = random.choice(optimizer_choices)\n",
    "\n",
    "    # Display current configuration\n",
    "    print(f\"\\n🔁 Run {run + 1}/{N_RUNS}\")\n",
    "    print(f\"→ hidden_dim: {hidden_dim}, lr: {lr:.5f}, batch size: {batch_size}, activation_fn: {activation_fn.__name__}, optimizer_name: {optimizer_name}\")\n",
    "\n",
    "    # Train model with current hyperparameters\n",
    "    train_mlp(\n",
    "        hidden_dim=hidden_dim,\n",
    "        lr=lr,\n",
    "        batch_size=batch_size,\n",
    "        epochs=EPOCHS,\n",
    "        output_dim=OUTPUT_DIM,\n",
    "        activation_fn=activation_fn,\n",
    "        optimizer_name=optimizer_name\n",
    "    )"
   ]
  },
  {
   "cell_type": "code",
   "execution_count": 55,
   "metadata": {
    "execution": {
     "iopub.execute_input": "2025-05-19T07:17:23.613344Z",
     "iopub.status.busy": "2025-05-19T07:17:23.612907Z",
     "iopub.status.idle": "2025-05-19T07:17:23.863606Z",
     "shell.execute_reply": "2025-05-19T07:17:23.863006Z",
     "shell.execute_reply.started": "2025-05-19T07:17:23.613320Z"
    },
    "trusted": true
   },
   "outputs": [
    {
     "name": "stderr",
     "output_type": "stream",
     "text": [
      "/tmp/ipykernel_27605/1365461160.py:14: UserWarning: Glyph 128200 (\\N{CHART WITH UPWARDS TREND}) missing from font(s) DejaVu Sans.\n",
      "  plt.tight_layout()\n",
      "/mnt/d/projects/wind_fluctuation_prediction_2025/environment/linux_wfp/lib/python3.12/site-packages/IPython/core/pylabtools.py:170: UserWarning: Glyph 128200 (\\N{CHART WITH UPWARDS TREND}) missing from font(s) DejaVu Sans.\n",
      "  fig.canvas.print_figure(bytes_io, **kw)\n"
     ]
    },
    {
     "data": {
      "image/png": "[encoded data removed]",
      "text/plain": [
       "<Figure size 800x500 with 1 Axes>"
      ]
     },
     "metadata": {},
     "output_type": "display_data"
    },
    {
     "name": "stderr",
     "output_type": "stream",
     "text": [
      "/tmp/ipykernel_27605/1365461160.py:23: UserWarning: Glyph 128200 (\\N{CHART WITH UPWARDS TREND}) missing from font(s) DejaVu Sans.\n",
      "  plt.tight_layout()\n",
      "/mnt/d/projects/wind_fluctuation_prediction_2025/environment/linux_wfp/lib/python3.12/site-packages/IPython/core/pylabtools.py:170: UserWarning: Glyph 128200 (\\N{CHART WITH UPWARDS TREND}) missing from font(s) DejaVu Sans.\n",
      "  fig.canvas.print_figure(bytes_io, **kw)\n"
     ]
    },
    {
     "data": {
      "image/png": "[encoded data removed]",
      "text/plain": [
       "<Figure size 800x500 with 1 Axes>"
      ]
     },
     "metadata": {},
     "output_type": "display_data"
    },
    {
     "name": "stderr",
     "output_type": "stream",
     "text": [
      "/tmp/ipykernel_27605/1365461160.py:32: UserWarning: Glyph 128200 (\\N{CHART WITH UPWARDS TREND}) missing from font(s) DejaVu Sans.\n",
      "  plt.tight_layout()\n",
      "/mnt/d/projects/wind_fluctuation_prediction_2025/environment/linux_wfp/lib/python3.12/site-packages/IPython/core/pylabtools.py:170: UserWarning: Glyph 128200 (\\N{CHART WITH UPWARDS TREND}) missing from font(s) DejaVu Sans.\n",
      "  fig.canvas.print_figure(bytes_io, **kw)\n"
     ]
    },
    {
     "data": {
      "image/png": "[encoded data removed]",
      "text/plain": [
       "<Figure size 800x500 with 1 Axes>"
      ]
     },
     "metadata": {},
     "output_type": "display_data"
    },
    {
     "name": "stderr",
     "output_type": "stream",
     "text": [
      "/tmp/ipykernel_27605/1365461160.py:41: UserWarning: Glyph 128200 (\\N{CHART WITH UPWARDS TREND}) missing from font(s) DejaVu Sans.\n",
      "  plt.tight_layout()\n",
      "/mnt/d/projects/wind_fluctuation_prediction_2025/environment/linux_wfp/lib/python3.12/site-packages/IPython/core/pylabtools.py:170: UserWarning: Glyph 128200 (\\N{CHART WITH UPWARDS TREND}) missing from font(s) DejaVu Sans.\n",
      "  fig.canvas.print_figure(bytes_io, **kw)\n"
     ]
    },
    {
     "data": {
      "image/png": "[encoded data removed]",
      "text/plain": [
       "<Figure size 800x500 with 1 Axes>"
      ]
     },
     "metadata": {},
     "output_type": "display_data"
    },
    {
     "name": "stderr",
     "output_type": "stream",
     "text": [
      "/tmp/ipykernel_27605/1365461160.py:50: UserWarning: Glyph 128200 (\\N{CHART WITH UPWARDS TREND}) missing from font(s) DejaVu Sans.\n",
      "  plt.tight_layout()\n",
      "/mnt/d/projects/wind_fluctuation_prediction_2025/environment/linux_wfp/lib/python3.12/site-packages/IPython/core/pylabtools.py:170: UserWarning: Glyph 128200 (\\N{CHART WITH UPWARDS TREND}) missing from font(s) DejaVu Sans.\n",
      "  fig.canvas.print_figure(bytes_io, **kw)\n"
     ]
    },
    {
     "data": {
      "image/png": "[encoded data removed]",
      "text/plain": [
       "<Figure size 800x500 with 1 Axes>"
      ]
     },
     "metadata": {},
     "output_type": "display_data"
    },
    {
     "name": "stdout",
     "output_type": "stream",
     "text": [
      "\n",
      "🏆 Best result:\n",
      "Run ID       : mlp_64h_1e-02lr_16bs_100ep_Tanh_Adam\n",
      "Hidden Dim   : 64\n",
      "Learning Rate: 0.01000\n",
      "Batch Size   : 16\n",
      "activation_fn  : Tanh\n",
      "optimizer_name: Adam\n",
      "R²           : 0.1220\n",
      "MAE          : 0.0605\n",
      "MSE          : 0.006078\n",
      "\n",
      "📌 R² threshold (95% of max): 0.1159\n",
      "🔍 Found 1 stable candidates:\n",
      "\n",
      "   hidden_dim    lr  batch_size activation_fn optimizer_name     R2     MAE  \\\n",
      "0          64  0.01          16          Tanh           Adam  0.122  0.0605   \n",
      "\n",
      "        MSE  \n",
      "0  0.006078  \n"
     ]
    }
   ],
   "source": [
    "# 📁 src/tuning/visualize_search_results.py\n",
    "# ➞ Heatmap visualization of R² scores across hidden_dim and learning rate combinations\n",
    "\n",
    "# 📅 Load experiments log\n",
    "log_path = \"experiments/experiments_log.csv\"\n",
    "df_log = pd.read_csv(LOG_CSV_PATH)\n",
    "\n",
    "# 📊 Boxplot: R² by Hidden Dim\n",
    "plt.figure(figsize=(8, 5))\n",
    "sns.boxplot(x=\"hidden_dim\", y=\"R2\", data=df_log)\n",
    "plt.title(\"📈 R² Distribution by Hidden Dim\")\n",
    "plt.xlabel(\"Hidden Dim\")\n",
    "plt.ylabel(\"R² Score\")\n",
    "plt.tight_layout()\n",
    "plt.show()\n",
    "\n",
    "# 📊 Boxplot: R² by Learning Rate\n",
    "plt.figure(figsize=(8, 5))\n",
    "sns.boxplot(x=\"lr\", y=\"R2\", data=df_log)\n",
    "plt.title(\"📈 R² Distribution by Learning Rate\")\n",
    "plt.xlabel(\"Learning Rate\")\n",
    "plt.ylabel(\"R² Score\")\n",
    "plt.tight_layout()\n",
    "plt.show()\n",
    "\n",
    "# 📊 Boxplot: R² by Batch Size\n",
    "plt.figure(figsize=(8, 5))\n",
    "sns.boxplot(x=\"batch_size\", y=\"R2\", data=df_log)\n",
    "plt.title(\"📈 R² Distribution by Batch Size\")\n",
    "plt.xlabel(\"Batch Size\")\n",
    "plt.ylabel(\"R² Score\")\n",
    "plt.tight_layout()\n",
    "plt.show()\n",
    "\n",
    "# 📊 Boxplot: R² by Activation Function\n",
    "plt.figure(figsize=(8, 5))\n",
    "sns.boxplot(x=\"activation_fn\", y=\"R2\", data=df_log)\n",
    "plt.title(\"📈 R² Distribution by Activation Function\")\n",
    "plt.xlabel(\"Activation Function\")\n",
    "plt.ylabel(\"R² Score\")\n",
    "plt.tight_layout()\n",
    "plt.show()\n",
    "\n",
    "# 📊 Boxplot: R² by Optimizer\n",
    "plt.figure(figsize=(8, 5))\n",
    "sns.boxplot(x=\"optimizer_name\", y=\"R2\", data=df_log)\n",
    "plt.title(\"📈 R² Distribution by Optimizer\")\n",
    "plt.xlabel(\"Optimizer\")\n",
    "plt.ylabel(\"R² Score\")\n",
    "plt.tight_layout()\n",
    "plt.show()\n",
    "\n",
    "# 🏆 Show best configuration\n",
    "best_row = df_log.loc[df_log[\"R2\"].idxmax()]\n",
    "print(\"\\n🏆 Best result:\")\n",
    "print(f\"Run ID       : {best_row['run_id']}\")\n",
    "print(f\"Hidden Dim   : {int(best_row['hidden_dim'])}\")\n",
    "print(f\"Learning Rate: {best_row['lr']:.5f}\")\n",
    "print(f\"Batch Size   : {int(best_row['batch_size'])}\")\n",
    "print(f\"activation_fn  : {best_row['activation_fn']}\")\n",
    "print(f\"optimizer_name: {best_row['optimizer_name']}\")\n",
    "print(f\"R²           : {best_row['R2']:.4f}\")\n",
    "print(f\"MAE          : {best_row['MAE']:.4f}\")\n",
    "print(f\"MSE          : {best_row['MSE']:.6f}\")\n",
    "\n",
    "# ------------------------------\n",
    "# 📊 Зона стабильных параметров по R²\n",
    "# ------------------------------\n",
    "\n",
    "# 1. Максимальное значение R²\n",
    "r2_max = df_log[\"R2\"].max()\n",
    "\n",
    "# 2. Порог: 95% от максимума\n",
    "threshold = r2_max * 0.95\n",
    "print(f\"\\n📌 R² threshold (95% of max): {threshold:.4f}\")\n",
    "\n",
    "# 3. Отбираем устойчиво хорошие параметры\n",
    "stable_zone = df_log[df_log[\"R2\"] >= threshold]\n",
    "print(f\"🔍 Found {len(stable_zone)} stable candidates:\\n\")\n",
    "\n",
    "# 4. Выводим таблицу устойчивых параметров\n",
    "print(stable_zone.sort_values(\"R2\", ascending=False)[[\"hidden_dim\", \"lr\", \"batch_size\", \"activation_fn\", \"optimizer_name\", \"R2\", \"MAE\", \"MSE\"]])\n"
   ]
  }
 ],
 "metadata": {
  "kaggle": {
   "accelerator": "none",
   "dataSources": [
    {
     "datasetId": 7433392,
     "sourceId": 11832266,
     "sourceType": "datasetVersion"
    }
   ],
   "dockerImageVersionId": 31041,
   "isGpuEnabled": false,
   "isInternetEnabled": false,
   "language": "python",
   "sourceType": "notebook"
  },
  "kernelspec": {
   "display_name": "linux_wfp",
   "language": "python",
   "name": "python3"
  },
  "language_info": {
   "codemirror_mode": {
    "name": "ipython",
    "version": 3
   },
   "file_extension": ".py",
   "mimetype": "text/x-python",
   "name": "python",
   "nbconvert_exporter": "python",
   "pygments_lexer": "ipython3",
   "version": "3.12.3"
  },
  "papermill": {
   "default_parameters": {},
   "duration": 27.389716,
   "end_time": "2025-05-15T07:37:36.286966",
   "environment_variables": {},
   "exception": null,
   "input_path": "__notebook__.ipynb",
   "output_path": "__notebook__.ipynb",
   "parameters": {},
   "start_time": "2025-05-15T07:37:08.897250",
   "version": "2.6.0"
  }
 },
 "nbformat": 4,
 "nbformat_minor": 4
}
