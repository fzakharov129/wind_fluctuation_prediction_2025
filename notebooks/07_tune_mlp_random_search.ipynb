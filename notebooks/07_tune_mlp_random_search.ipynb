{
 "cells": [
  {
   "cell_type": "markdown",
   "metadata": {},
   "source": [
    "🧠 Hyperparameter Tuning for MLP\n",
    "Date: May 21, 2025\n",
    "\n",
    "🎯 Goal\n",
    "Identify the optimal configuration of hyperparameters for a Multi-Layer Perceptron (MLP) model, including:\n",
    "\n",
    "hidden_dim: number of hidden units\n",
    "\n",
    "learning_rate: optimizer step size\n",
    "\n",
    "batch_size: number of samples per training step\n",
    "\n",
    "activation_fn: activation function\n",
    "\n",
    "optimizer: optimization algorithm\n",
    "\n",
    "⚙️ General Settings\n",
    "epochs = 100\n",
    "\n",
    "output_dim = 1\n",
    "\n",
    "n_runs = 30 (random seeds for reproducibility)\n",
    "\n",
    "📌 Tuned Parameters\n",
    "Hidden Dimensions: [64, 128]\n",
    "\n",
    "Learning Rate: [0.007, 0.008, 0.009, 0.01]\n",
    "\n",
    "Batch Size: [16, 32, 64]\n",
    "\n",
    "Activation Functions: [nn.Tanh]\n",
    "(can be extended to [nn.ReLU, nn.LeakyReLU, nn.Tanh])\n",
    "\n",
    "Optimizers: [\"Adam\"]\n",
    "(optionally expandable to [\"Adam\", \"AdamW\", \"SGD\", \"RMSprop\"])\n",
    "\n",
    "📊 Training Procedure\n",
    "Each configuration is trained using 5-fold cross-validation\n",
    "\n",
    "Early stopping is applied with patience = 100\n",
    "\n",
    "Metrics are calculated on each fold and averaged:\n",
    "\n",
    "R² (coefficient of determination)\n",
    "\n",
    "MAE (mean absolute error)\n",
    "\n",
    "MSE (mean squared error)\n",
    "\n",
    "💾 Outputs Saved\n",
    "Model weights\n",
    "\n",
    "Configuration files\n",
    "\n",
    "Evaluation metrics per run\n",
    "\n",
    "Global experiment log (experiments_log.csv)\n",
    "\n",
    "Training visualizations (loss_plot.png)\n",
    "\n",
    "🏁 Final Results\n",
    "Table of stable configurations (R² ≥ 95% of the best score)\n",
    "\n",
    "Visual analysis of hyperparameter impact (boxplots per parameter)\n",
    "\n",
    "Best configuration is highlighted separately"
   ]
  },
  {
   "cell_type": "code",
   "execution_count": 82,
   "metadata": {
    "execution": {
     "iopub.execute_input": "2025-05-19T07:12:15.899931Z",
     "iopub.status.busy": "2025-05-19T07:12:15.899667Z",
     "iopub.status.idle": "2025-05-19T07:12:26.396682Z",
     "shell.execute_reply": "2025-05-19T07:12:26.396102Z",
     "shell.execute_reply.started": "2025-05-19T07:12:15.899907Z"
    },
    "papermill": {
     "duration": 8.054045,
     "end_time": "2025-05-15T07:37:21.645488",
     "exception": false,
     "start_time": "2025-05-15T07:37:13.591443",
     "status": "completed"
    },
    "tags": [],
    "trusted": true
   },
   "outputs": [],
   "source": [
    "# 📦 Imports and Configuration\n",
    "\n",
    "import os\n",
    "import json\n",
    "import random\n",
    "import numpy as np\n",
    "import pandas as pd\n",
    "import matplotlib.pyplot as plt\n",
    "import matplotlib.ticker as ticker\n",
    "import seaborn as sns\n",
    "\n",
    "from sklearn.model_selection import train_test_split\n",
    "from sklearn.model_selection import KFold\n",
    "from sklearn.metrics import mean_squared_error, mean_absolute_error, r2_score\n",
    "from torch.utils.data import TensorDataset, DataLoader\n",
    "\n",
    "import torch\n",
    "import torch.nn as nn\n",
    "import torch.optim as optim\n",
    "from tqdm import tqdm\n",
    "\n",
    "\n"
   ]
  },
  {
   "cell_type": "code",
   "execution_count": 83,
   "metadata": {
    "execution": {
     "iopub.execute_input": "2025-05-19T07:12:26.402773Z",
     "iopub.status.busy": "2025-05-19T07:12:26.402495Z",
     "iopub.status.idle": "2025-05-19T07:12:26.424251Z",
     "shell.execute_reply": "2025-05-19T07:12:26.423700Z",
     "shell.execute_reply.started": "2025-05-19T07:12:26.402750Z"
    },
    "papermill": {
     "duration": 0.009005,
     "end_time": "2025-05-15T07:37:21.656790",
     "exception": false,
     "start_time": "2025-05-15T07:37:21.647785",
     "status": "completed"
    },
    "tags": [],
    "trusted": true
   },
   "outputs": [
    {
     "name": "stdout",
     "output_type": "stream",
     "text": [
      "🛠 Device: cpu\n"
     ]
    }
   ],
   "source": [
    "# ➤ Paths for hyperparameter search: tuning runs, logs, results\n",
    "\n",
    "# ----------------------------\n",
    "# Device setup\n",
    "# ----------------------------\n",
    "device = torch.device(\"cuda\" if torch.cuda.is_available() else \"cpu\")\n",
    "print(f\"🛠 Device: {device}\")\n",
    "\n",
    "#DATA_PATH = \"/kaggle/input/wind-pressure-prediction-2025/windloading_train.csv\"\n",
    "#SAVE_ROOT = \"/kaggle/working\"\n",
    "\n",
    "DATA_PATH = \"/mnt/d/projects/wind_fluctuation_prediction_2025/data/processed/windloading_train.csv\"\n",
    "SAVE_ROOT = \"/mnt/d/projects/wind_fluctuation_prediction_2025/experiments\"\n",
    "\n",
    "TUNING_DIR = os.path.join(SAVE_ROOT, \"tuning_mlp\")\n",
    "LOG_CSV_PATH = os.path.join(SAVE_ROOT, \"experiments_log.csv\")\n",
    "\n",
    "os.makedirs(TUNING_DIR, exist_ok=True)\n",
    "\n",
    "# ➤ Function to create a run-specific directory\n",
    "def create_run_directory(hidden_dim, lr, batch_size=64, epochs=500, activation_fn=None, optimizer_name=None, base_dir=TUNING_DIR):\n",
    "    run_id = f\"mlp_{hidden_dim}h_{lr:.0e}lr_{batch_size}bs_{epochs}ep\"\n",
    "\n",
    "    # 👇 Добавим активацию в имя, если она передана\n",
    "    if activation_fn is not None:\n",
    "        run_id += f\"_{activation_fn.__name__}\"\n",
    "\n",
    "    # 👇 Добавим имя оптимизатора в имя, если оно передано\n",
    "    if optimizer_name is not None:\n",
    "        run_id += f\"_{optimizer_name}\"\n",
    "\n",
    "    run_dir = os.path.join(base_dir, run_id)\n",
    "    os.makedirs(run_dir, exist_ok=True)\n",
    "    print(f\"📂 Created run directory: {run_dir}\")\n",
    "    return run_id, run_dir"
   ]
  },
  {
   "cell_type": "code",
   "execution_count": 84,
   "metadata": {
    "execution": {
     "iopub.execute_input": "2025-05-19T07:12:26.398221Z",
     "iopub.status.busy": "2025-05-19T07:12:26.397802Z",
     "iopub.status.idle": "2025-05-19T07:12:26.401857Z",
     "shell.execute_reply": "2025-05-19T07:12:26.401327Z",
     "shell.execute_reply.started": "2025-05-19T07:12:26.398202Z"
    },
    "papermill": {
     "duration": 0.006178,
     "end_time": "2025-05-15T07:37:21.664743",
     "exception": false,
     "start_time": "2025-05-15T07:37:21.658565",
     "status": "completed"
    },
    "tags": [],
    "trusted": true
   },
   "outputs": [],
   "source": [
    "# ➤ Function for loading the dataset from CSV\n",
    "\n",
    "def load_dataset():\n",
    "    df = pd.read_csv(DATA_PATH)\n",
    "    print(f\"Dataset loaded: {df.shape[0]} rows, {df.shape[1]} columns\")\n",
    "    return df"
   ]
  },
  {
   "cell_type": "code",
   "execution_count": 85,
   "metadata": {
    "execution": {
     "iopub.execute_input": "2025-05-19T07:12:26.425092Z",
     "iopub.status.busy": "2025-05-19T07:12:26.424932Z",
     "iopub.status.idle": "2025-05-19T07:12:26.448955Z",
     "shell.execute_reply": "2025-05-19T07:12:26.448318Z",
     "shell.execute_reply.started": "2025-05-19T07:12:26.425080Z"
    },
    "papermill": {
     "duration": 0.006812,
     "end_time": "2025-05-15T07:37:21.673227",
     "exception": false,
     "start_time": "2025-05-15T07:37:21.666415",
     "status": "completed"
    },
    "tags": [],
    "trusted": true
   },
   "outputs": [],
   "source": [
    "# ➞ Function to compute regression metrics: MSE, MAE, R²\n",
    "\n",
    "def evaluate_regression(y_true, y_pred):\n",
    "    y_true_np = y_true.detach().cpu().numpy()\n",
    "    y_pred_np = y_pred.detach().cpu().numpy()\n",
    "\n",
    "    # 🔍 Remove NaNs before computing metrics\n",
    "    mask = ~np.isnan(y_true_np) & ~np.isnan(y_pred_np)\n",
    "    y_true_np = y_true_np[mask]\n",
    "    y_pred_np = y_pred_np[mask]\n",
    "\n",
    "    if len(y_true_np) == 0 or len(y_pred_np) == 0:\n",
    "        raise ValueError(\"No valid data points after removing NaNs.\")\n",
    "\n",
    "    mse = mean_squared_error(y_true_np, y_pred_np)\n",
    "    mae = mean_absolute_error(y_true_np, y_pred_np)\n",
    "    r2 = r2_score(y_true_np, y_pred_np)\n",
    "\n",
    "    return {\"MSE\": mse, \"MAE\": mae, \"R2\": r2}\n"
   ]
  },
  {
   "cell_type": "code",
   "execution_count": 86,
   "metadata": {
    "execution": {
     "iopub.execute_input": "2025-05-19T07:12:26.450591Z",
     "iopub.status.busy": "2025-05-19T07:12:26.450417Z",
     "iopub.status.idle": "2025-05-19T07:12:26.467628Z",
     "shell.execute_reply": "2025-05-19T07:12:26.467094Z",
     "shell.execute_reply.started": "2025-05-19T07:12:26.450578Z"
    },
    "papermill": {
     "duration": 0.007087,
     "end_time": "2025-05-15T07:37:21.681986",
     "exception": false,
     "start_time": "2025-05-15T07:37:21.674899",
     "status": "completed"
    },
    "tags": [],
    "trusted": true
   },
   "outputs": [],
   "source": [
    "# ➤ Definition of the MLP architecture with customizable activation function\n",
    "\n",
    "class MLP(nn.Module):\n",
    "    def __init__(self, input_dim, hidden_dim, output_dim, activation_fn):\n",
    "        super(MLP, self).__init__()\n",
    "        self.model = nn.Sequential(\n",
    "            nn.Linear(input_dim, hidden_dim),\n",
    "            activation_fn(),\n",
    "            nn.Linear(hidden_dim, hidden_dim),\n",
    "            activation_fn(),\n",
    "            nn.Linear(hidden_dim, output_dim)\n",
    "        )\n",
    "\n",
    "    def forward(self, x):\n",
    "        return self.model(x)\n"
   ]
  },
  {
   "cell_type": "code",
   "execution_count": 87,
   "metadata": {
    "execution": {
     "iopub.execute_input": "2025-05-19T07:12:26.487250Z",
     "iopub.status.busy": "2025-05-19T07:12:26.486868Z",
     "iopub.status.idle": "2025-05-19T07:12:26.516530Z",
     "shell.execute_reply": "2025-05-19T07:12:26.516017Z",
     "shell.execute_reply.started": "2025-05-19T07:12:26.487224Z"
    },
    "papermill": {
     "duration": 11.6177,
     "end_time": "2025-05-15T07:37:33.312840",
     "exception": false,
     "start_time": "2025-05-15T07:37:21.695140",
     "status": "completed"
    },
    "tags": [],
    "trusted": true
   },
   "outputs": [],
   "source": [
    "# ➤ Training function for MLP model: used in Random Search and experiment tracking\n",
    "\n",
    "def train_mlp(hidden_dim, lr, batch_size, epochs, output_dim=1, activation_fn=nn.ReLU, optimizer_name=\"Adam\"):\n",
    "\n",
    "    # ----------------------------\n",
    "    # Ensure CSV file exists and has header\n",
    "    # ----------------------------\n",
    "    if not os.path.exists(LOG_CSV_PATH):\n",
    "        with open(LOG_CSV_PATH, \"w\") as f:\n",
    "            f.write(\"run_id,hidden_dim,lr,batch_size,activation_fn,optimizer_name,R2,MAE,MSE\\n\")\n",
    "\n",
    "\n",
    "    # ----------------------------\n",
    "    # Load dataset\n",
    "    # ----------------------------\n",
    "    df = load_dataset()\n",
    "    X = df[['X_int', 'Y_int', 'X_fac', 'Y_fac', 'Ang']]\n",
    "    y = df[['StdDev']]\n",
    "    input_dim = X.shape[1]\n",
    "\n",
    "    # 🔍 Проверка первых строк X и y\n",
    "    print(\"📄 Features (X):\")\n",
    "    display(X.head())\n",
    "\n",
    "    print(\"\\n🎯 Target (y):\")\n",
    "    display(y.head())\n",
    "\n",
    "    # 📐 Размерности\n",
    "    print(f\"\\n✅ X shape: {X.shape}\")\n",
    "    print(f\"✅ y shape: {y.shape}\")\n",
    "\n",
    "\n",
    "    # ----------------------------\n",
    "    # K-Fold Cross-Validation\n",
    "    # ----------------------------\n",
    "    from sklearn.model_selection import KFold\n",
    "    kf = KFold(n_splits=5, shuffle=True, random_state=42)\n",
    "    fold_metrics = []\n",
    "\n",
    "    for fold, (train_idx, val_idx) in enumerate(kf.split(X)):\n",
    "        print(f\"\\n🔁 Fold {fold + 1} / 5\")\n",
    "\n",
    "        # 📊 Разделение данных\n",
    "        X_train, X_val = X.iloc[train_idx], X.iloc[val_idx]\n",
    "        y_train, y_val = y.iloc[train_idx], y.iloc[val_idx]\n",
    "\n",
    "        # 🔁 Преобразуем в тензоры\n",
    "        X_train_tensor = torch.tensor(X_train.values, dtype=torch.float32).to(device)\n",
    "        y_train_tensor = torch.tensor(y_train.values, dtype=torch.float32).to(device)\n",
    "        X_val_tensor = torch.tensor(X_val.values, dtype=torch.float32).to(device)\n",
    "        y_val_tensor = torch.tensor(y_val.values, dtype=torch.float32).to(device)\n",
    "\n",
    "        # 📦 DataLoader с правильным порядком\n",
    "        train_dataset = TensorDataset(X_train_tensor, y_train_tensor)\n",
    "        train_loader = DataLoader(train_dataset, batch_size=batch_size, shuffle=True)\n",
    "\n",
    "        print(\"X_train.shape =\", X_train.shape)\n",
    "\n",
    "\n",
    "        # 🧠 Создание новой модели на каждый фолд\n",
    "        model = MLP(input_dim, hidden_dim, output_dim, activation_fn=activation_fn).to(device)\n",
    "\n",
    "         # ----------------------------\n",
    "        # Training loop\n",
    "        # ----------------------------\n",
    "        criterion = nn.MSELoss()\n",
    "        if optimizer_name == \"Adam\":\n",
    "            optimizer = optim.Adam(model.parameters(), lr=lr)\n",
    "        elif optimizer_name == \"SGD\":\n",
    "            optimizer = optim.SGD(model.parameters(), lr=lr)\n",
    "        elif optimizer_name == \"RMSprop\":\n",
    "            optimizer = optim.RMSprop(model.parameters(), lr=lr)\n",
    "        elif optimizer_name == \"AdamW\":\n",
    "            optimizer = optim.AdamW(model.parameters(), lr=lr)\n",
    "        else:\n",
    "            raise ValueError(f\"Unknown optimizer: {optimizer_name}\")\n",
    "        train_loss_history = []\n",
    "\n",
    "        # 🔁 Early Stopping init\n",
    "        early_stopping_patience = 20\n",
    "        best_loss = float(\"inf\")\n",
    "        patience_counter = 0\n",
    "\n",
    "        for epoch in tqdm(range(epochs), desc=\"Epochs\"):\n",
    "            model.train()\n",
    "            epoch_loss = 0.0\n",
    "\n",
    "            for batch_X, batch_y in train_loader:\n",
    "                optimizer.zero_grad()\n",
    "                outputs = model(batch_X)\n",
    "                loss = criterion(outputs, batch_y)\n",
    "                loss.backward()\n",
    "                optimizer.step()\n",
    "                epoch_loss += loss.item()\n",
    "\n",
    "            current_loss = epoch_loss / len(train_loader)\n",
    "            train_loss_history.append(current_loss)\n",
    "\n",
    "            # 💡 Early Stopping check (выполняется на каждой эпохе)\n",
    "            if current_loss < best_loss:\n",
    "                best_loss = current_loss\n",
    "                patience_counter = 0\n",
    "            else:\n",
    "                patience_counter += 1\n",
    "                if patience_counter >= early_stopping_patience:\n",
    "                    print(f\"⏹️ Early stopping at epoch {epoch+1} — no improvement in {early_stopping_patience} epochs.\")\n",
    "                    break\n",
    "\n",
    "            # ⏺️ Logging (только раз в 10 эпох)\n",
    "            if (epoch + 1) % 10 == 0:\n",
    "                log_str = f\"Epoch [{epoch+1}/{epochs}], Loss: {current_loss:.4f}\"\n",
    "                print(log_str)\n",
    "\n",
    "        model.eval()\n",
    "        with torch.no_grad():\n",
    "            y_pred = model(X_val_tensor)\n",
    "            metrics = evaluate_regression(y_val_tensor, y_pred)\n",
    "            fold_metrics.append(metrics)\n",
    "            print(f\"📈 Fold {fold + 1} metrics: {metrics}\")\n",
    "\n",
    "    # ----------------------------\n",
    "    # Average metrics across folds\n",
    "    # ----------------------------\n",
    "    avg_metrics = {\n",
    "        \"MSE\": sum(m[\"MSE\"] for m in fold_metrics) / len(fold_metrics),\n",
    "        \"MAE\": sum(m[\"MAE\"] for m in fold_metrics) / len(fold_metrics),\n",
    "        \"R2\":  sum(m[\"R2\"]  for m in fold_metrics) / len(fold_metrics),\n",
    "    }\n",
    "    \n",
    "    # ----------------------------\n",
    "    # Run directory\n",
    "    # ----------------------------\n",
    "    run_id, run_dir = create_run_directory(\n",
    "        hidden_dim=hidden_dim,\n",
    "        lr=lr,\n",
    "        batch_size=batch_size,\n",
    "        epochs=epochs,\n",
    "        activation_fn=activation_fn,\n",
    "        optimizer_name=optimizer_name\n",
    "    )\n",
    "\n",
    "    # ----------------------------\n",
    "    # Save config\n",
    "    # ----------------------------\n",
    "    config = {\n",
    "        \"input_dim\": input_dim,\n",
    "        \"hidden_dim\": hidden_dim,\n",
    "        \"output_dim\": output_dim,\n",
    "        \"lr\": lr,\n",
    "        \"epochs\": epochs,\n",
    "        \"batch_size\": batch_size,\n",
    "        \"activation_fn\": activation_fn.__name__,\n",
    "        \"optimizer_name\": optimizer_name,\n",
    "        \"features\": ['X_int', 'Y_int', 'X_fac', 'Y_fac', 'Ang'],\n",
    "        \"targets\": ['StdDev']\n",
    "    }\n",
    "    config_filename = f\"config_{run_id}_ex.json\"\n",
    "    with open(os.path.join(run_dir, config_filename), \"w\") as f:\n",
    "        json.dump(config, f, indent=4)\n",
    "\n",
    "    # ----------------------------\n",
    "    # Append summary to global CSV log\n",
    "    # ----------------------------\n",
    "    with open(LOG_CSV_PATH, \"a\") as f:\n",
    "        f.write(f\"{run_id},{hidden_dim},{lr:.0e},{batch_size},{activation_fn.__name__},{optimizer_name},{avg_metrics['R2']:.4f},{avg_metrics['MAE']:.4f},{avg_metrics['MSE']:.6f}\\n\")\n",
    "\n",
    "    print(f\"\\n📊 Average metrics across 5 folds:\\n{avg_metrics}\")\n",
    "    return run_id, avg_metrics\n",
    "    \n",
    "\n"
   ]
  },
  {
   "cell_type": "code",
   "execution_count": 88,
   "metadata": {
    "execution": {
     "iopub.execute_input": "2025-05-19T07:13:37.883010Z",
     "iopub.status.busy": "2025-05-19T07:13:37.882469Z",
     "iopub.status.idle": "2025-05-19T07:17:09.298815Z",
     "shell.execute_reply": "2025-05-19T07:17:09.298216Z",
     "shell.execute_reply.started": "2025-05-19T07:13:37.882984Z"
    },
    "trusted": true
   },
   "outputs": [
    {
     "name": "stdout",
     "output_type": "stream",
     "text": [
      "\n",
      "🔁 Run 1/1\n",
      "→ hidden_dim: 128, lr: 0.00900, batch size: 64, activation_fn: Tanh, optimizer_name: Adam\n"
     ]
    },
    {
     "name": "stdout",
     "output_type": "stream",
     "text": [
      "Dataset loaded: 121113 rows, 15 columns\n",
      "📄 Features (X):\n"
     ]
    },
    {
     "data": {
      "text/html": [
       "<div>\n",
       "<style scoped>\n",
       "    .dataframe tbody tr th:only-of-type {\n",
       "        vertical-align: middle;\n",
       "    }\n",
       "\n",
       "    .dataframe tbody tr th {\n",
       "        vertical-align: top;\n",
       "    }\n",
       "\n",
       "    .dataframe thead th {\n",
       "        text-align: right;\n",
       "    }\n",
       "</style>\n",
       "<table border=\"1\" class=\"dataframe\">\n",
       "  <thead>\n",
       "    <tr style=\"text-align: right;\">\n",
       "      <th></th>\n",
       "      <th>X_int</th>\n",
       "      <th>Y_int</th>\n",
       "      <th>X_fac</th>\n",
       "      <th>Y_fac</th>\n",
       "      <th>Ang</th>\n",
       "    </tr>\n",
       "  </thead>\n",
       "  <tbody>\n",
       "    <tr>\n",
       "      <th>0</th>\n",
       "      <td>8</td>\n",
       "      <td>6</td>\n",
       "      <td>4</td>\n",
       "      <td>5</td>\n",
       "      <td>20</td>\n",
       "    </tr>\n",
       "    <tr>\n",
       "      <th>1</th>\n",
       "      <td>5</td>\n",
       "      <td>3</td>\n",
       "      <td>3</td>\n",
       "      <td>4</td>\n",
       "      <td>10</td>\n",
       "    </tr>\n",
       "    <tr>\n",
       "      <th>2</th>\n",
       "      <td>1</td>\n",
       "      <td>5</td>\n",
       "      <td>17</td>\n",
       "      <td>8</td>\n",
       "      <td>150</td>\n",
       "    </tr>\n",
       "    <tr>\n",
       "      <th>3</th>\n",
       "      <td>4</td>\n",
       "      <td>6</td>\n",
       "      <td>19</td>\n",
       "      <td>8</td>\n",
       "      <td>10</td>\n",
       "    </tr>\n",
       "    <tr>\n",
       "      <th>4</th>\n",
       "      <td>7</td>\n",
       "      <td>3</td>\n",
       "      <td>21</td>\n",
       "      <td>1</td>\n",
       "      <td>60</td>\n",
       "    </tr>\n",
       "  </tbody>\n",
       "</table>\n",
       "</div>"
      ],
      "text/plain": [
       "   X_int  Y_int  X_fac  Y_fac  Ang\n",
       "0      8      6      4      5   20\n",
       "1      5      3      3      4   10\n",
       "2      1      5     17      8  150\n",
       "3      4      6     19      8   10\n",
       "4      7      3     21      1   60"
      ]
     },
     "metadata": {},
     "output_type": "display_data"
    },
    {
     "name": "stdout",
     "output_type": "stream",
     "text": [
      "\n",
      "🎯 Target (y):\n"
     ]
    },
    {
     "data": {
      "text/html": [
       "<div>\n",
       "<style scoped>\n",
       "    .dataframe tbody tr th:only-of-type {\n",
       "        vertical-align: middle;\n",
       "    }\n",
       "\n",
       "    .dataframe tbody tr th {\n",
       "        vertical-align: top;\n",
       "    }\n",
       "\n",
       "    .dataframe thead th {\n",
       "        text-align: right;\n",
       "    }\n",
       "</style>\n",
       "<table border=\"1\" class=\"dataframe\">\n",
       "  <thead>\n",
       "    <tr style=\"text-align: right;\">\n",
       "      <th></th>\n",
       "      <th>StdDev</th>\n",
       "    </tr>\n",
       "  </thead>\n",
       "  <tbody>\n",
       "    <tr>\n",
       "      <th>0</th>\n",
       "      <td>0.166314</td>\n",
       "    </tr>\n",
       "    <tr>\n",
       "      <th>1</th>\n",
       "      <td>0.167147</td>\n",
       "    </tr>\n",
       "    <tr>\n",
       "      <th>2</th>\n",
       "      <td>0.171097</td>\n",
       "    </tr>\n",
       "    <tr>\n",
       "      <th>3</th>\n",
       "      <td>0.166579</td>\n",
       "    </tr>\n",
       "    <tr>\n",
       "      <th>4</th>\n",
       "      <td>0.267192</td>\n",
       "    </tr>\n",
       "  </tbody>\n",
       "</table>\n",
       "</div>"
      ],
      "text/plain": [
       "     StdDev\n",
       "0  0.166314\n",
       "1  0.167147\n",
       "2  0.171097\n",
       "3  0.166579\n",
       "4  0.267192"
      ]
     },
     "metadata": {},
     "output_type": "display_data"
    },
    {
     "name": "stdout",
     "output_type": "stream",
     "text": [
      "\n",
      "✅ X shape: (121113, 5)\n",
      "✅ y shape: (121113, 1)\n",
      "\n",
      "🔁 Fold 1 / 5\n",
      "X_train.shape = (96890, 5)\n"
     ]
    },
    {
     "name": "stderr",
     "output_type": "stream",
     "text": [
      "Epochs:  10%|█         | 10/100 [00:30<02:43,  1.82s/it]"
     ]
    },
    {
     "name": "stdout",
     "output_type": "stream",
     "text": [
      "Epoch [10/100], Loss: 0.0072\n"
     ]
    },
    {
     "name": "stderr",
     "output_type": "stream",
     "text": [
      "Epochs:  20%|██        | 20/100 [00:50<02:27,  1.84s/it]"
     ]
    },
    {
     "name": "stdout",
     "output_type": "stream",
     "text": [
      "Epoch [20/100], Loss: 0.0074\n"
     ]
    },
    {
     "name": "stderr",
     "output_type": "stream",
     "text": [
      "Epochs:  23%|██▎       | 23/100 [00:57<03:11,  2.49s/it]\n"
     ]
    },
    {
     "name": "stdout",
     "output_type": "stream",
     "text": [
      "⏹️ Early stopping at epoch 24 — no improvement in 20 epochs.\n",
      "📈 Fold 1 metrics: {'MSE': 0.006555794272571802, 'MAE': 0.06870196014642715, 'R2': 0.060262858867645264}\n",
      "\n",
      "🔁 Fold 2 / 5\n",
      "X_train.shape = (96890, 5)\n"
     ]
    },
    {
     "name": "stderr",
     "output_type": "stream",
     "text": [
      "Epochs:  10%|█         | 10/100 [00:14<02:11,  1.46s/it]"
     ]
    },
    {
     "name": "stdout",
     "output_type": "stream",
     "text": [
      "Epoch [10/100], Loss: 0.0075\n"
     ]
    },
    {
     "name": "stderr",
     "output_type": "stream",
     "text": [
      "Epochs:  20%|██        | 20/100 [00:34<02:17,  1.72s/it]"
     ]
    },
    {
     "name": "stdout",
     "output_type": "stream",
     "text": [
      "Epoch [20/100], Loss: 0.0073\n"
     ]
    },
    {
     "name": "stderr",
     "output_type": "stream",
     "text": [
      "Epochs:  23%|██▎       | 23/100 [00:42<02:23,  1.86s/it]\n"
     ]
    },
    {
     "name": "stdout",
     "output_type": "stream",
     "text": [
      "⏹️ Early stopping at epoch 24 — no improvement in 20 epochs.\n",
      "📈 Fold 2 metrics: {'MSE': 0.020205138251185417, 'MAE': 0.12891320884227753, 'R2': -1.905674934387207}\n",
      "\n",
      "🔁 Fold 3 / 5\n",
      "X_train.shape = (96890, 5)\n"
     ]
    },
    {
     "name": "stderr",
     "output_type": "stream",
     "text": [
      "Epochs:  10%|█         | 10/100 [00:18<02:40,  1.78s/it]"
     ]
    },
    {
     "name": "stdout",
     "output_type": "stream",
     "text": [
      "Epoch [10/100], Loss: 0.0078\n"
     ]
    },
    {
     "name": "stderr",
     "output_type": "stream",
     "text": [
      "Epochs:  20%|██        | 20/100 [00:36<02:32,  1.91s/it]"
     ]
    },
    {
     "name": "stdout",
     "output_type": "stream",
     "text": [
      "Epoch [20/100], Loss: 0.0080\n"
     ]
    },
    {
     "name": "stderr",
     "output_type": "stream",
     "text": [
      "Epochs:  22%|██▏       | 22/100 [00:42<02:30,  1.93s/it]\n"
     ]
    },
    {
     "name": "stdout",
     "output_type": "stream",
     "text": [
      "⏹️ Early stopping at epoch 23 — no improvement in 20 epochs.\n",
      "📈 Fold 3 metrics: {'MSE': 0.0063703046180307865, 'MAE': 0.06751635670661926, 'R2': 0.09175169467926025}\n",
      "\n",
      "🔁 Fold 4 / 5\n",
      "X_train.shape = (96891, 5)\n"
     ]
    },
    {
     "name": "stderr",
     "output_type": "stream",
     "text": [
      "Epochs:  10%|█         | 10/100 [00:19<02:37,  1.75s/it]"
     ]
    },
    {
     "name": "stdout",
     "output_type": "stream",
     "text": [
      "Epoch [10/100], Loss: 0.0075\n"
     ]
    },
    {
     "name": "stderr",
     "output_type": "stream",
     "text": [
      "Epochs:  20%|██        | 20/100 [00:38<03:19,  2.49s/it]"
     ]
    },
    {
     "name": "stdout",
     "output_type": "stream",
     "text": [
      "Epoch [20/100], Loss: 0.0062\n"
     ]
    },
    {
     "name": "stderr",
     "output_type": "stream",
     "text": [
      "Epochs:  22%|██▏       | 22/100 [00:43<02:34,  1.98s/it]\n"
     ]
    },
    {
     "name": "stdout",
     "output_type": "stream",
     "text": [
      "⏹️ Early stopping at epoch 23 — no improvement in 20 epochs.\n",
      "📈 Fold 4 metrics: {'MSE': 0.007061833515763283, 'MAE': 0.06932210177183151, 'R2': -0.03778076171875}\n",
      "\n",
      "🔁 Fold 5 / 5\n",
      "X_train.shape = (96891, 5)\n"
     ]
    },
    {
     "name": "stderr",
     "output_type": "stream",
     "text": [
      "Epochs:  10%|█         | 10/100 [00:14<02:09,  1.44s/it]"
     ]
    },
    {
     "name": "stdout",
     "output_type": "stream",
     "text": [
      "Epoch [10/100], Loss: 0.0073\n"
     ]
    },
    {
     "name": "stderr",
     "output_type": "stream",
     "text": [
      "Epochs:  20%|██        | 20/100 [00:36<02:31,  1.89s/it]"
     ]
    },
    {
     "name": "stdout",
     "output_type": "stream",
     "text": [
      "Epoch [20/100], Loss: 0.0078\n"
     ]
    },
    {
     "name": "stderr",
     "output_type": "stream",
     "text": [
      "Epochs:  24%|██▍       | 24/100 [00:46<02:27,  1.94s/it]"
     ]
    },
    {
     "name": "stdout",
     "output_type": "stream",
     "text": [
      "⏹️ Early stopping at epoch 25 — no improvement in 20 epochs.\n",
      "📈 Fold 5 metrics: {'MSE': 0.006247005891054869, 'MAE': 0.05536286160349846, 'R2': 0.0898180603981018}\n",
      "📂 Created run directory: /mnt/d/projects/wind_fluctuation_prediction_2025/experiments/tuning_mlp/mlp_128h_9e-03lr_64bs_100ep_Tanh_Adam\n",
      "\n",
      "📊 Average metrics across 5 folds:\n",
      "{'MSE': 0.009288015309721231, 'MAE': 0.07796329781413078, 'R2': -0.3403246164321899}\n"
     ]
    },
    {
     "name": "stderr",
     "output_type": "stream",
     "text": [
      "\n"
     ]
    }
   ],
   "source": [
    "# 📁 src/tuning/random_search_mlp.py\n",
    "# ➤ Random Search for MLP model: selects hyperparameters and launches training\n",
    "\n",
    "# 🔧 Hyperparameter options\n",
    "hidden_dim_choices = [128]\n",
    "# hidden_dim_choices = [32, 64, 96, 128, 160, 192, 224, 256, 288, 320, 384]\n",
    "\n",
    "lr_choices = [0.009]\n",
    "# lr_choices = [round(lr, 5) for lr in np.arange(0.001, 0.021, 0.001)]\n",
    "\n",
    "batch_size_choices = [64]\n",
    "# batch_size_choices = [8, 16, 32, 48, 64, 96, 128]\n",
    "activation_choices = [nn.Tanh]\n",
    "# activation_choices = [nn.ReLU, nn.LeakyReLU, nn.Tanh]\n",
    "optimizer_choices = [\"Adam\"]\n",
    "# optimizer_choices = [\"Adam\", \"AdamW\"]\n",
    "\n",
    "\n",
    "#hidden_dim_choices = [128, 264]\n",
    "#lr_choices = [ 1e-3, 5e-3]\n",
    "\n",
    "# 📌 Fixed parameters\n",
    "EPOCHS = 100\n",
    "OUTPUT_DIM = 1\n",
    "N_RUNS = 1 # Total number of runs\n",
    "\n",
    "# 🧪 Random Search loop\n",
    "for run in range(N_RUNS):\n",
    "    # Randomly select hyperparameters\n",
    "    hidden_dim = random.choice(hidden_dim_choices)\n",
    "    lr = random.choice(lr_choices)\n",
    "    batch_size = random.choice(batch_size_choices)\n",
    "    activation_fn=random.choice(activation_choices)\n",
    "    optimizer_name = random.choice(optimizer_choices)\n",
    "\n",
    "    # Display current configuration\n",
    "    print(f\"\\n🔁 Run {run + 1}/{N_RUNS}\")\n",
    "    print(f\"→ hidden_dim: {hidden_dim}, lr: {lr:.5f}, batch size: {batch_size}, activation_fn: {activation_fn.__name__}, optimizer_name: {optimizer_name}\")\n",
    "\n",
    "    # Train model with current hyperparameters\n",
    "    train_mlp(\n",
    "        hidden_dim=hidden_dim,\n",
    "        lr=lr,\n",
    "        batch_size=batch_size,\n",
    "        epochs=EPOCHS,\n",
    "        output_dim=OUTPUT_DIM,\n",
    "        activation_fn=activation_fn,\n",
    "        optimizer_name=optimizer_name\n",
    "    )"
   ]
  },
  {
   "cell_type": "code",
   "execution_count": 89,
   "metadata": {
    "execution": {
     "iopub.execute_input": "2025-05-19T07:17:23.613344Z",
     "iopub.status.busy": "2025-05-19T07:17:23.612907Z",
     "iopub.status.idle": "2025-05-19T07:17:23.863606Z",
     "shell.execute_reply": "2025-05-19T07:17:23.863006Z",
     "shell.execute_reply.started": "2025-05-19T07:17:23.613320Z"
    },
    "trusted": true
   },
   "outputs": [
    {
     "data": {
      "image/png": "[encoded data removed]",
      "text/plain": [
       "<Figure size 1600x1600 with 5 Axes>"
      ]
     },
     "metadata": {},
     "output_type": "display_data"
    },
    {
     "name": "stdout",
     "output_type": "stream",
     "text": [
      "\n",
      "Best Configuration:\n",
      "Run ID        : mlp_128h_7e-03lr_64bs_100ep_Tanh_Adam\n",
      "Hidden Dim    : 128\n",
      "Learning Rate : 0.00700\n",
      "Batch Size    : 64\n",
      "Activation Fn : Tanh\n",
      "Optimizer     : Adam\n",
      "R² Score      : 0.2187\n",
      "MAE           : 0.0547\n",
      "MSE           : 0.005411\n",
      "\n",
      " R² threshold (95% of max): 0.2078\n",
      "🔍 Found 1 stable candidates:\n",
      "\n",
      "   hidden_dim     lr  batch_size activation_fn optimizer_name      R2     MAE  \\\n",
      "7         128  0.007          64          Tanh           Adam  0.2187  0.0547   \n",
      "\n",
      "        MSE  \n",
      "7  0.005411  \n"
     ]
    }
   ],
   "source": [
    "# 📁 src/tuning/visualize_search_results.py\n",
    "# ➞ Heatmap visualization of R² scores across hidden_dim and learning rate combinations\n",
    "\n",
    "# 📅 Load experiments log\n",
    "log_path = \"experiments/experiments_log.csv\"\n",
    "df_log = pd.read_csv(LOG_CSV_PATH)\n",
    "\n",
    "# Современный стиль\n",
    "sns.set(style=\"whitegrid\", palette=\"pastel\", font_scale=1.2)\n",
    "\n",
    "# Создаём 3×2 подграфика\n",
    "fig, axes = plt.subplots(3, 2, figsize=(16, 16))\n",
    "axes = axes.flatten()\n",
    "\n",
    "# Список параметров и названий\n",
    "plot_params = [\n",
    "    (\"hidden_dim\", \"Hidden Dimensions\"),\n",
    "    (\"lr\", \"Learning Rate\"),\n",
    "    (\"batch_size\", \"Batch Size\"),\n",
    "    (\"activation_fn\", \"Activation Function\"),\n",
    "    (\"optimizer_name\", \"Optimizer\")\n",
    "]\n",
    "\n",
    "# Строим графики\n",
    "for i, (param, label) in enumerate(plot_params):\n",
    "    ax = axes[i]\n",
    "    sns.boxplot(x=param, y=\"R2\", data=df_log, ax=ax, width=0.6, fliersize=2, linewidth=1.2)\n",
    "    ax.set_title(f\"R² Score by {label}\", fontsize=14, fontweight='bold')\n",
    "    ax.set_xlabel(label, fontsize=12)\n",
    "    ax.set_ylabel(\"R² Score\", fontsize=12)\n",
    "    ax.xaxis.set_tick_params(rotation=30)\n",
    "\n",
    "# Удаляем последний пустой subplot, если графиков меньше\n",
    "if len(axes) > len(plot_params):\n",
    "    fig.delaxes(axes[-1])\n",
    "\n",
    "plt.tight_layout(pad=3)\n",
    "plt.subplots_adjust(top=0.95)\n",
    "fig.suptitle(\"Model Performance by Hyperparameters\", fontsize=16, fontweight='bold')\n",
    "\n",
    "plt.show()\n",
    "\n",
    "# Выводим лучшую конфигурацию\n",
    "best_row = df_log.loc[df_log[\"R2\"].idxmax()]\n",
    "print(\"\\nBest Configuration:\")\n",
    "print(f\"Run ID        : {best_row['run_id']}\")\n",
    "print(f\"Hidden Dim    : {int(best_row['hidden_dim'])}\")\n",
    "print(f\"Learning Rate : {best_row['lr']:.5f}\")\n",
    "print(f\"Batch Size    : {int(best_row['batch_size'])}\")\n",
    "print(f\"Activation Fn : {best_row['activation_fn']}\")\n",
    "print(f\"Optimizer     : {best_row['optimizer_name']}\")\n",
    "print(f\"R² Score      : {best_row['R2']:.4f}\")\n",
    "print(f\"MAE           : {best_row['MAE']:.4f}\")\n",
    "print(f\"MSE           : {best_row['MSE']:.6f}\")\n",
    "\n",
    "# ------------------------------\n",
    "# 📊 Зона стабильных параметров по R²\n",
    "# ------------------------------\n",
    "\n",
    "# 1. Максимальное значение R²\n",
    "r2_max = df_log[\"R2\"].max()\n",
    "\n",
    "# 2. Порог: 95% от максимума\n",
    "threshold = r2_max * 0.95\n",
    "print(f\"\\n R² threshold (95% of max): {threshold:.4f}\")\n",
    "\n",
    "# 3. Отбираем устойчиво хорошие параметры\n",
    "stable_zone = df_log[df_log[\"R2\"] >= threshold]\n",
    "print(f\"🔍 Found {len(stable_zone)} stable candidates:\\n\")\n",
    "\n",
    "# 4. Выводим таблицу устойчивых параметров\n",
    "print(stable_zone.sort_values(\"R2\", ascending=False)[[\"hidden_dim\", \"lr\", \"batch_size\", \"activation_fn\", \"optimizer_name\", \"R2\", \"MAE\", \"MSE\"]])\n"
   ]
  }
 ],
 "metadata": {
  "kaggle": {
   "accelerator": "none",
   "dataSources": [
    {
     "datasetId": 7433392,
     "sourceId": 11832266,
     "sourceType": "datasetVersion"
    }
   ],
   "dockerImageVersionId": 31041,
   "isGpuEnabled": false,
   "isInternetEnabled": false,
   "language": "python",
   "sourceType": "notebook"
  },
  "kernelspec": {
   "display_name": "linux_wfp",
   "language": "python",
   "name": "python3"
  },
  "language_info": {
   "codemirror_mode": {
    "name": "ipython",
    "version": 3
   },
   "file_extension": ".py",
   "mimetype": "text/x-python",
   "name": "python",
   "nbconvert_exporter": "python",
   "pygments_lexer": "ipython3",
   "version": "3.12.3"
  },
  "papermill": {
   "default_parameters": {},
   "duration": 27.389716,
   "end_time": "2025-05-15T07:37:36.286966",
   "environment_variables": {},
   "exception": null,
   "input_path": "__notebook__.ipynb",
   "output_path": "__notebook__.ipynb",
   "parameters": {},
   "start_time": "2025-05-15T07:37:08.897250",
   "version": "2.6.0"
  }
 },
 "nbformat": 4,
 "nbformat_minor": 4
}
