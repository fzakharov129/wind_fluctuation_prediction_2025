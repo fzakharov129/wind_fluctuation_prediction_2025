{
 "cells": [
  {
   "cell_type": "code",
   "execution_count": null,
   "id": "b956e3fa",
   "metadata": {},
   "outputs": [
    {
     "ename": "SyntaxError",
     "evalue": "invalid syntax (3151213215.py, line 8)",
     "output_type": "error",
     "traceback": [
      "  \u001b[36mCell\u001b[39m\u001b[36m \u001b[39m\u001b[32mIn[1]\u001b[39m\u001b[32m, line 8\u001b[39m\n\u001b[31m    \u001b[39m\u001b[31mДля wind_fluctuation_prediction\u001b[39m\n        ^\n\u001b[31mSyntaxError\u001b[39m\u001b[31m:\u001b[39m invalid syntax\n"
     ]
    }
   ],
   "source": [
    "\"\"\"\n",
    "Скрипт для предварительной обработки датасета ветрового давления на фасады здания.\n",
    "Выполненные шаги:\n",
    "- Добавлены координаты точек измерения на фасадах зданий.\n",
    "- Удалены данные, относящиеся к интерферирующим точкам 0 и 13, поскольку из положение отгосительно основного здания не определено.\n",
    "\n",
    "\"\"\"\n",
    "\"\"\"\n",
    "Для wind_fluctuation_prediction_2025 отдкль но корректировался\n",
    "\"\"\"\n",
    "\n",
    "import pandas as pd\n",
    "\n",
    "file_path = 'WindLoading_Interference.csv'\n",
    "df = pd.read_csv(file_path)\n",
    "df = df[~df['Int_Pnt'].isin([0, 13])]\n",
    "\n",
    "# Словарь для преобразования уровней в сектора на фасадах\n",
    "level_to_y = {\n",
    "    'J': 1, 'H': 2, 'G': 3, 'F': 4,\n",
    "    'E': 5, 'D': 6, 'C': 7, 'B': 8, 'A': 9\n",
    "}\n",
    "\n",
    "# Извлечём X и Y координаты из F_Pnt\n",
    "df['X_fac'] = df['F_Pnt'].str[1:].astype(int)\n",
    "df['Y_fac'] = df['F_Pnt'].str[0].map(level_to_y)\n",
    "\n",
    "df.to_csv('WindLoading_Interference_01.csv', index=False)\n",
    "print(\"Обновлённый файл сохранён как WindLoading_Interference_01.csv\")\n"
   ]
  },
  {
   "cell_type": "code",
   "execution_count": null,
   "id": "14ce3f5f",
   "metadata": {},
   "outputs": [],
   "source": []
  }
 ],
 "metadata": {
  "kernelspec": {
   "display_name": "linux_wfp",
   "language": "python",
   "name": "python3"
  },
  "language_info": {
   "codemirror_mode": {
    "name": "ipython",
    "version": 3
   },
   "file_extension": ".py",
   "mimetype": "text/x-python",
   "name": "python",
   "nbconvert_exporter": "python",
   "pygments_lexer": "ipython3",
   "version": "3.12.3"
  }
 },
 "nbformat": 4,
 "nbformat_minor": 5
}
