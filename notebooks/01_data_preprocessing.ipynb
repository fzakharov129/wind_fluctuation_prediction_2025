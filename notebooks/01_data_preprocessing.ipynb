{
 "cells": [
  {
   "cell_type": "code",
   "execution_count": null,
   "id": "b956e3fa",
   "metadata": {},
   "outputs": [],
   "source": [
    "\"\"\"\n",
    "Скрипт для предварительной обработки датасета ветрового давления на фасады здания.\n",
    "Выполненные шаги:\n",
    "- Добавлены координаты точек измерения на фасадах зданий.\n",
    "- Удалены данные, относящиеся к интерферирующим точкам 0 и 13, поскольку из положение отгосительно основного здания не определено.\n",
    "\n",
    "\"\"\"\n",
    "\n",
    "import pandas as pd\n",
    "\n",
    "file_path = 'WindLoading_Interference.csv'\n",
    "df = pd.read_csv(file_path)\n",
    "df = df[~df['Int_Pnt'].isin([0, 13])]\n",
    "\n",
    "# Словарь для преобразования уровней в сектора на фасадах\n",
    "level_to_y = {\n",
    "    'J': 1, 'H': 2, 'G': 3, 'F': 4,\n",
    "    'E': 5, 'D': 6, 'C': 7, 'B': 8, 'A': 9\n",
    "}\n",
    "\n",
    "# Извлечём X и Y координаты из F_Pnt\n",
    "df['X_fac'] = df['F_Pnt'].str[1:].astype(int)\n",
    "df['Y_fac'] = df['F_Pnt'].str[0].map(level_to_y)\n",
    "\n",
    "df.to_csv('WindLoading_Interference_01.csv', index=False)\n",
    "print(\"Обновлённый файл сохранён как WindLoading_Interference_01.csv\")\n"
   ]
  }
 ],
 "metadata": {
  "kernelspec": {
   "display_name": "linux_wfp",
   "language": "python",
   "name": "python3"
  },
  "language_info": {
   "name": "python",
   "version": "3.12.3"
  }
 },
 "nbformat": 4,
 "nbformat_minor": 5
}
